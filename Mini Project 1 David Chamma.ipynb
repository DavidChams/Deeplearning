{
 "cells": [
  {
   "cell_type": "code",
   "execution_count": 1,
   "metadata": {},
   "outputs": [
    {
     "name": "stderr",
     "output_type": "stream",
     "text": [
      "Using TensorFlow backend.\n"
     ]
    }
   ],
   "source": [
    "import matplotlib.pyplot as plt\n",
    "%matplotlib inline\n",
    "import numpy as np\n",
    "from keras.models import Sequential\n",
    "from keras.layers import Dense, Activation\n",
    "from keras.optimizers import SGD\n",
    "from keras.utils import np_utils\n",
    "from keras.utils import to_categorical\n",
    "import matplotlib.cm as cm\n",
    "from keras import optimizers\n",
    "import keras\n",
    "from keras.layers import MaxPooling2D\n",
    "from keras.layers import Flatten\n",
    "from keras.layers import Conv2D\n",
    "from keras.layers import UpSampling2D\n",
    "from keras.layers import Dropout\n",
    "from keras.layers import BatchNormalization\n"
   ]
  },
  {
   "cell_type": "code",
   "execution_count": 2,
   "metadata": {},
   "outputs": [],
   "source": [
    "# On some implementations of matplotlib, you may need to change this value\n",
    "IMAGE_SIZE = 72"
   ]
  },
  {
   "cell_type": "code",
   "execution_count": 3,
   "metadata": {},
   "outputs": [],
   "source": [
    "#Generate drawings function definition\n",
    "\n",
    "def generate_a_drawing(figsize, U, V, noise=0.0):\n",
    "    fig = plt.figure(figsize=(figsize,figsize))\n",
    "    ax = plt.subplot(111)\n",
    "    plt.axis('Off')\n",
    "    ax.set_xlim(0,figsize)\n",
    "    ax.set_ylim(0,figsize)\n",
    "    ax.fill(U, V, \"k\")\n",
    "    fig.canvas.draw()\n",
    "    imdata = np.frombuffer(fig.canvas.tostring_rgb(), dtype=np.uint8)[::3].astype(np.float32)\n",
    "    imdata = imdata + noise * np.random.random(imdata.size)\n",
    "    plt.close(fig)\n",
    "    return imdata"
   ]
  },
  {
   "cell_type": "code",
   "execution_count": 4,
   "metadata": {},
   "outputs": [],
   "source": [
    "#Rectangle generation\n",
    "\n",
    "def generate_a_rectangle(noise=0.0, free_location=False):\n",
    "    figsize = 1.0    \n",
    "    U = np.zeros(4)\n",
    "    V = np.zeros(4)\n",
    "    if free_location:\n",
    "        corners = np.random.random(4)\n",
    "        top = max(corners[0], corners[1])\n",
    "        bottom = min(corners[0], corners[1])\n",
    "        left = min(corners[2], corners[3])\n",
    "        right = max(corners[2], corners[3])\n",
    "    else:\n",
    "        side = (0.3 + 0.7 * np.random.random()) * figsize\n",
    "        top = figsize/2 + side/2\n",
    "        bottom = figsize/2 - side/2\n",
    "        left = bottom\n",
    "        right = top\n",
    "    U[0] = U[1] = top\n",
    "    U[2] = U[3] = bottom\n",
    "    V[0] = V[3] = left\n",
    "    V[1] = V[2] = right\n",
    "    return generate_a_drawing(figsize, U, V, noise)\n"
   ]
  },
  {
   "cell_type": "code",
   "execution_count": 5,
   "metadata": {},
   "outputs": [],
   "source": [
    "#Disk generation\n",
    "\n",
    "def generate_a_disk(noise=0.0, free_location=False):\n",
    "    figsize = 1.0\n",
    "    if free_location:\n",
    "        center = np.random.random(2)\n",
    "    else:\n",
    "        center = (figsize/2, figsize/2)\n",
    "    radius = (0.3 + 0.7 * np.random.random()) * figsize/2\n",
    "    N = 50\n",
    "    U = np.zeros(N)\n",
    "    V = np.zeros(N)\n",
    "    i = 0\n",
    "    for t in np.linspace(0, 2*np.pi, N):\n",
    "        U[i] = center[0] + np.cos(t) * radius\n",
    "        V[i] = center[1] + np.sin(t) * radius\n",
    "        i = i + 1\n",
    "    return generate_a_drawing(figsize, U, V, noise)"
   ]
  },
  {
   "cell_type": "code",
   "execution_count": 6,
   "metadata": {},
   "outputs": [],
   "source": [
    "#Triangle generation\n",
    "\n",
    "def generate_a_triangle(noise=0.0, free_location=False):\n",
    "    figsize = 1.0\n",
    "    if free_location:\n",
    "        U = np.random.random(3)\n",
    "        V = np.random.random(3)\n",
    "    else:\n",
    "        size = (0.3 + 0.7 * np.random.random())*figsize/2\n",
    "        middle = figsize/2\n",
    "        U = (middle, middle+size, middle-size)\n",
    "        V = (middle+size, middle-size, middle-size)\n",
    "    imdata = generate_a_drawing(figsize, U, V, noise)\n",
    "    return [imdata, [U[0], V[0], U[1], V[1], U[2], V[2]]]"
   ]
  },
  {
   "cell_type": "code",
   "execution_count": 7,
   "metadata": {},
   "outputs": [],
   "source": [
    "def generate_dataset_classification(nb_samples, noise=0.0, free_location=False):\n",
    "    # Getting im_size:\n",
    "    im_size = generate_a_rectangle().shape[0]\n",
    "    X = np.zeros([nb_samples,im_size])\n",
    "    Y = np.zeros(nb_samples)\n",
    "    print('Creating data:')\n",
    "    for i in range(nb_samples):\n",
    "        if i % 10 == 0:\n",
    "            print(i)\n",
    "        category = np.random.randint(3)\n",
    "        if category == 0:\n",
    "            X[i] = generate_a_rectangle(noise, free_location)\n",
    "        elif category == 1: \n",
    "            X[i] = generate_a_disk(noise, free_location)\n",
    "        else:\n",
    "            [X[i], V] = generate_a_triangle(noise, free_location)\n",
    "        Y[i] = category\n",
    "    X = (X + noise) / (255 + 2 * noise)\n",
    "    return [X, Y]\n"
   ]
  },
  {
   "cell_type": "code",
   "execution_count": 8,
   "metadata": {},
   "outputs": [],
   "source": [
    "def generate_test_set_classification():\n",
    "    np.random.seed(42)\n",
    "    [X_test, Y_test] = generate_dataset_classification(300, 20, True)\n",
    "    Y_test = np_utils.to_categorical(Y_test, 3) \n",
    "    return [X_test, Y_test]"
   ]
  },
  {
   "cell_type": "code",
   "execution_count": 9,
   "metadata": {},
   "outputs": [],
   "source": [
    "def generate_dataset_regression(nb_samples, noise=0.0):\n",
    "    # Getting im_size:\n",
    "    im_size = generate_a_triangle()[0].shape[0]\n",
    "    X = np.zeros([nb_samples,im_size])\n",
    "    Y = np.zeros([nb_samples, 6])\n",
    "    print('Creating data:')\n",
    "    for i in range(nb_samples):\n",
    "        if i % 10 == 0:\n",
    "            print(i)\n",
    "        [X[i], Y[i]] = generate_a_triangle(noise, True)\n",
    "    X = (X + noise) / (255 + 2 * noise)\n",
    "    return [X, Y]"
   ]
  },
  {
   "cell_type": "code",
   "execution_count": 10,
   "metadata": {},
   "outputs": [],
   "source": [
    "def visualize_prediction(x, y):\n",
    "    fig, ax = plt.subplots(figsize=(5, 5))\n",
    "    I = x.reshape((IMAGE_SIZE,IMAGE_SIZE))\n",
    "    ax.imshow(I, extent=[-0.15,1.15,-0.15,1.15],cmap='gray')\n",
    "    ax.set_xlim([0,1])\n",
    "    ax.set_ylim([0,1])\n",
    "\n",
    "    xy = y.reshape(3,2)\n",
    "    tri = patches.Polygon(xy, closed=True, fill = False, edgecolor = 'r', linewidth = 5, alpha = 0.5)\n",
    "    ax.add_patch(tri)\n",
    "\n",
    "    plt.show()"
   ]
  },
  {
   "cell_type": "code",
   "execution_count": 11,
   "metadata": {},
   "outputs": [],
   "source": [
    "def generate_test_set_regression():\n",
    "    np.random.seed(42)\n",
    "    [X_test, Y_test] = generate_dataset_regression(300, 20)\n",
    "    return [X_test, Y_test]\n"
   ]
  },
  {
   "cell_type": "code",
   "execution_count": null,
   "metadata": {},
   "outputs": [],
   "source": []
  },
  {
   "cell_type": "code",
   "execution_count": 12,
   "metadata": {},
   "outputs": [
    {
     "data": {
      "text/plain": [
       "<matplotlib.image.AxesImage at 0x1e30716fba8>"
      ]
     },
     "execution_count": 12,
     "metadata": {},
     "output_type": "execute_result"
    },
    {
     "data": {
      "image/png": "[encoded data removed]",
      "text/plain": [
       "<Figure size 432x288 with 1 Axes>"
      ]
     },
     "metadata": {
      "needs_background": "light"
     },
     "output_type": "display_data"
    }
   ],
   "source": [
    "#Generate and plot a rectangle\n",
    "im = generate_a_rectangle(10, True)\n",
    "plt.imshow(im.reshape(IMAGE_SIZE,IMAGE_SIZE), cmap='gray')"
   ]
  },
  {
   "cell_type": "code",
   "execution_count": 13,
   "metadata": {},
   "outputs": [
    {
     "data": {
      "text/plain": [
       "<matplotlib.image.AxesImage at 0x1e30722bf60>"
      ]
     },
     "execution_count": 13,
     "metadata": {},
     "output_type": "execute_result"
    },
    {
     "data": {
      "image/png": "[encoded data removed]",
      "text/plain": [
       "<Figure size 432x288 with 1 Axes>"
      ]
     },
     "metadata": {
      "needs_background": "light"
     },
     "output_type": "display_data"
    }
   ],
   "source": [
    "#Generate and plot a disk\n",
    "im = generate_a_disk(10)\n",
    "plt.imshow(im.reshape(IMAGE_SIZE,IMAGE_SIZE), cmap='gray')"
   ]
  },
  {
   "cell_type": "code",
   "execution_count": 14,
   "metadata": {},
   "outputs": [
    {
     "data": {
      "text/plain": [
       "<matplotlib.image.AxesImage at 0x1e3072c7358>"
      ]
     },
     "execution_count": 14,
     "metadata": {},
     "output_type": "execute_result"
    },
    {
     "data": {
      "image/png": "[encoded data removed]",
      "text/plain": [
       "<Figure size 432x288 with 1 Axes>"
      ]
     },
     "metadata": {
      "needs_background": "light"
     },
     "output_type": "display_data"
    }
   ],
   "source": [
    "#Generate and plot a triangle\n",
    "[im, v] = generate_a_triangle(20, False)\n",
    "plt.imshow(im.reshape(IMAGE_SIZE,IMAGE_SIZE), cmap='gray')"
   ]
  },
  {
   "cell_type": "markdown",
   "metadata": {},
   "source": [
    "# 3) Simple Classification\n"
   ]
  },
  {
   "cell_type": "markdown",
   "metadata": {},
   "source": [
    "Let's first define our training set"
   ]
  },
  {
   "cell_type": "code",
   "execution_count": 15,
   "metadata": {},
   "outputs": [
    {
     "name": "stdout",
     "output_type": "stream",
     "text": [
      "Creating data:\n",
      "0\n",
      "10\n",
      "20\n",
      "30\n",
      "40\n",
      "50\n",
      "60\n",
      "70\n",
      "80\n",
      "90\n",
      "100\n",
      "110\n",
      "120\n",
      "130\n",
      "140\n",
      "150\n",
      "160\n",
      "170\n",
      "180\n",
      "190\n",
      "200\n",
      "210\n",
      "220\n",
      "230\n",
      "240\n",
      "250\n",
      "260\n",
      "270\n",
      "280\n",
      "290\n"
     ]
    },
    {
     "data": {
      "text/plain": [
       "((300, 5184), (300,))"
      ]
     },
     "execution_count": 15,
     "metadata": {},
     "output_type": "execute_result"
    }
   ],
   "source": [
    "[X_train, Y_train] = generate_dataset_classification(300, 20)\n",
    "\n",
    "X_train.shape,Y_train.shape"
   ]
  },
  {
   "cell_type": "code",
   "execution_count": 16,
   "metadata": {},
   "outputs": [
    {
     "data": {
      "text/plain": [
       "(300, 3)"
      ]
     },
     "execution_count": 16,
     "metadata": {},
     "output_type": "execute_result"
    }
   ],
   "source": [
    "Y_traink = keras.utils.to_categorical(Y_train, 3)\n",
    "Y_traink.shape"
   ]
  },
  {
   "cell_type": "code",
   "execution_count": 17,
   "metadata": {},
   "outputs": [
    {
     "data": {
      "text/plain": [
       "5184"
      ]
     },
     "execution_count": 17,
     "metadata": {},
     "output_type": "execute_result"
    }
   ],
   "source": [
    "n_cols=X_train.shape[1]\n",
    "n_cols"
   ]
  },
  {
   "cell_type": "markdown",
   "metadata": {},
   "source": [
    "### First : The Stochastic Gradient Descent Optimizer"
   ]
  },
  {
   "cell_type": "code",
   "execution_count": 22,
   "metadata": {},
   "outputs": [],
   "source": [
    "model_SGDO=Sequential()"
   ]
  },
  {
   "cell_type": "code",
   "execution_count": 24,
   "metadata": {},
   "outputs": [],
   "source": [
    "model_SGDO.add(Dense(units=32,kernel_initializer= 'uniform',input_dim=n_cols ,activation=\"relu\"))\n",
    "model_SGDO.add(Dropout(rate=0.2))\n",
    "model_SGDO.add(Dense(units=10,kernel_initializer= 'uniform',activation=\"relu\"))\n",
    "model_SGDO.add(Dropout(rate=0.2))\n",
    "model_SGDO.add(Dense(units=3,kernel_initializer= 'uniform',activation=\"softmax\"))"
   ]
  },
  {
   "cell_type": "code",
   "execution_count": 25,
   "metadata": {},
   "outputs": [],
   "source": [
    "sgd = SGD(lr=0.01,decay=1e-6, momentum=0.9,nesterov=True)\n",
    "model_SGDO.compile(loss='mean_squared_error', optimizer=sgd, metrics=['accuracy'])"
   ]
  },
  {
   "cell_type": "code",
   "execution_count": 26,
   "metadata": {},
   "outputs": [
    {
     "name": "stdout",
     "output_type": "stream",
     "text": [
      "Epoch 1/60\n",
      "300/300 [==============================] - 0s 771us/step - loss: 0.2223 - acc: 0.3067\n",
      "Epoch 2/60\n",
      "300/300 [==============================] - 0s 113us/step - loss: 0.2222 - acc: 0.3300\n",
      "Epoch 3/60\n",
      "300/300 [==============================] - 0s 110us/step - loss: 0.2222 - acc: 0.3300\n",
      "Epoch 4/60\n",
      "300/300 [==============================] - 0s 120us/step - loss: 0.2222 - acc: 0.3400\n",
      "Epoch 5/60\n",
      "300/300 [==============================] - 0s 116us/step - loss: 0.2222 - acc: 0.3433\n",
      "Epoch 6/60\n",
      "300/300 [==============================] - 0s 116us/step - loss: 0.2222 - acc: 0.3433\n",
      "Epoch 7/60\n",
      "300/300 [==============================] - 0s 116us/step - loss: 0.2221 - acc: 0.3433\n",
      "Epoch 8/60\n",
      "300/300 [==============================] - 0s 106us/step - loss: 0.2221 - acc: 0.3433\n",
      "Epoch 9/60\n",
      "300/300 [==============================] - 0s 106us/step - loss: 0.2221 - acc: 0.3567\n",
      "Epoch 10/60\n",
      "300/300 [==============================] - 0s 120us/step - loss: 0.2221 - acc: 0.3467\n",
      "Epoch 11/60\n",
      "300/300 [==============================] - 0s 106us/step - loss: 0.2221 - acc: 0.3467\n",
      "Epoch 12/60\n",
      "300/300 [==============================] - 0s 113us/step - loss: 0.2221 - acc: 0.3467\n",
      "Epoch 13/60\n",
      "300/300 [==============================] - 0s 120us/step - loss: 0.2221 - acc: 0.3467\n",
      "Epoch 14/60\n",
      "300/300 [==============================] - 0s 110us/step - loss: 0.2221 - acc: 0.3467\n",
      "Epoch 15/60\n",
      "300/300 [==============================] - 0s 120us/step - loss: 0.2221 - acc: 0.3467\n",
      "Epoch 16/60\n",
      "300/300 [==============================] - 0s 113us/step - loss: 0.2221 - acc: 0.3467\n",
      "Epoch 17/60\n",
      "300/300 [==============================] - 0s 123us/step - loss: 0.2221 - acc: 0.3467\n",
      "Epoch 18/60\n",
      "300/300 [==============================] - 0s 163us/step - loss: 0.2221 - acc: 0.3467\n",
      "Epoch 19/60\n",
      "300/300 [==============================] - 0s 110us/step - loss: 0.2221 - acc: 0.3467\n",
      "Epoch 20/60\n",
      "300/300 [==============================] - 0s 120us/step - loss: 0.2220 - acc: 0.3467\n",
      "Epoch 21/60\n",
      "300/300 [==============================] - 0s 120us/step - loss: 0.2221 - acc: 0.3467\n",
      "Epoch 22/60\n",
      "300/300 [==============================] - 0s 116us/step - loss: 0.2221 - acc: 0.3467\n",
      "Epoch 23/60\n",
      "300/300 [==============================] - 0s 116us/step - loss: 0.2221 - acc: 0.3467\n",
      "Epoch 24/60\n",
      "300/300 [==============================] - 0s 113us/step - loss: 0.2221 - acc: 0.3467\n",
      "Epoch 25/60\n",
      "300/300 [==============================] - 0s 120us/step - loss: 0.2220 - acc: 0.3467\n",
      "Epoch 26/60\n",
      "300/300 [==============================] - 0s 130us/step - loss: 0.2221 - acc: 0.3467\n",
      "Epoch 27/60\n",
      "300/300 [==============================] - 0s 116us/step - loss: 0.2220 - acc: 0.3467\n",
      "Epoch 28/60\n",
      "300/300 [==============================] - 0s 176us/step - loss: 0.2220 - acc: 0.3467\n",
      "Epoch 29/60\n",
      "300/300 [==============================] - 0s 103us/step - loss: 0.2220 - acc: 0.3467\n",
      "Epoch 30/60\n",
      "300/300 [==============================] - 0s 110us/step - loss: 0.2220 - acc: 0.3467\n",
      "Epoch 31/60\n",
      "300/300 [==============================] - 0s 110us/step - loss: 0.2220 - acc: 0.3467\n",
      "Epoch 32/60\n",
      "300/300 [==============================] - 0s 123us/step - loss: 0.2220 - acc: 0.3467\n",
      "Epoch 33/60\n",
      "300/300 [==============================] - 0s 120us/step - loss: 0.2220 - acc: 0.3467\n",
      "Epoch 34/60\n",
      "300/300 [==============================] - 0s 116us/step - loss: 0.2220 - acc: 0.3467\n",
      "Epoch 35/60\n",
      "300/300 [==============================] - 0s 120us/step - loss: 0.2220 - acc: 0.3467\n",
      "Epoch 36/60\n",
      "300/300 [==============================] - 0s 116us/step - loss: 0.2220 - acc: 0.3467\n",
      "Epoch 37/60\n",
      "300/300 [==============================] - 0s 116us/step - loss: 0.2220 - acc: 0.3467\n",
      "Epoch 38/60\n",
      "300/300 [==============================] - 0s 116us/step - loss: 0.2219 - acc: 0.3467\n",
      "Epoch 39/60\n",
      "300/300 [==============================] - 0s 113us/step - loss: 0.2219 - acc: 0.3467\n",
      "Epoch 40/60\n",
      "300/300 [==============================] - 0s 110us/step - loss: 0.2219 - acc: 0.3467\n",
      "Epoch 41/60\n",
      "300/300 [==============================] - 0s 113us/step - loss: 0.2219 - acc: 0.3467\n",
      "Epoch 42/60\n",
      "300/300 [==============================] - 0s 120us/step - loss: 0.2220 - acc: 0.3467\n",
      "Epoch 43/60\n",
      "300/300 [==============================] - 0s 116us/step - loss: 0.2219 - acc: 0.3467\n",
      "Epoch 44/60\n",
      "300/300 [==============================] - 0s 116us/step - loss: 0.2219 - acc: 0.3467\n",
      "Epoch 45/60\n",
      "300/300 [==============================] - 0s 113us/step - loss: 0.2219 - acc: 0.3467\n",
      "Epoch 46/60\n",
      "300/300 [==============================] - 0s 116us/step - loss: 0.2218 - acc: 0.3467\n",
      "Epoch 47/60\n",
      "300/300 [==============================] - 0s 123us/step - loss: 0.2218 - acc: 0.3467\n",
      "Epoch 48/60\n",
      "300/300 [==============================] - 0s 116us/step - loss: 0.2219 - acc: 0.3467\n",
      "Epoch 49/60\n",
      "300/300 [==============================] - 0s 116us/step - loss: 0.2218 - acc: 0.3467\n",
      "Epoch 50/60\n",
      "300/300 [==============================] - 0s 110us/step - loss: 0.2218 - acc: 0.3467\n",
      "Epoch 51/60\n",
      "300/300 [==============================] - 0s 110us/step - loss: 0.2218 - acc: 0.3467\n",
      "Epoch 52/60\n",
      "300/300 [==============================] - 0s 110us/step - loss: 0.2217 - acc: 0.3467\n",
      "Epoch 53/60\n",
      "300/300 [==============================] - 0s 136us/step - loss: 0.2216 - acc: 0.3500\n",
      "Epoch 54/60\n",
      "300/300 [==============================] - 0s 106us/step - loss: 0.2217 - acc: 0.3500\n",
      "Epoch 55/60\n",
      "300/300 [==============================] - 0s 133us/step - loss: 0.2216 - acc: 0.3467\n",
      "Epoch 56/60\n",
      "300/300 [==============================] - 0s 123us/step - loss: 0.2216 - acc: 0.3467\n",
      "Epoch 57/60\n",
      "300/300 [==============================] - 0s 110us/step - loss: 0.2215 - acc: 0.3467\n",
      "Epoch 58/60\n",
      "300/300 [==============================] - 0s 110us/step - loss: 0.2215 - acc: 0.3633\n",
      "Epoch 59/60\n",
      "300/300 [==============================] - 0s 106us/step - loss: 0.2215 - acc: 0.3467\n",
      "Epoch 60/60\n",
      "300/300 [==============================] - 0s 120us/step - loss: 0.2213 - acc: 0.3467\n"
     ]
    },
    {
     "data": {
      "text/plain": [
       "<keras.callbacks.History at 0x1e3074b2a58>"
      ]
     },
     "execution_count": 26,
     "metadata": {},
     "output_type": "execute_result"
    }
   ],
   "source": [
    "model_SGDO.fit(X_train, Y_traink, epochs=60, batch_size=32)"
   ]
  },
  {
   "cell_type": "markdown",
   "metadata": {},
   "source": [
    "Let's evaluate our model : "
   ]
  },
  {
   "cell_type": "code",
   "execution_count": 27,
   "metadata": {},
   "outputs": [
    {
     "name": "stdout",
     "output_type": "stream",
     "text": [
      "300/300 [==============================] - 0s 199us/step\n",
      "[0.22126128693421682, 0.3466666668653488]\n"
     ]
    }
   ],
   "source": [
    "score_SGDO = model_SGDO.evaluate(X_train, Y_traink)\n",
    "print(score_SGDO)"
   ]
  },
  {
   "cell_type": "markdown",
   "metadata": {},
   "source": [
    "Now we're testing it on another figure, a disk"
   ]
  },
  {
   "cell_type": "code",
   "execution_count": 28,
   "metadata": {},
   "outputs": [
    {
     "data": {
      "text/plain": [
       "array([[0.29132223, 0.66958886, 0.03908893]], dtype=float32)"
      ]
     },
     "execution_count": 28,
     "metadata": {},
     "output_type": "execute_result"
    }
   ],
   "source": [
    "X_test = generate_a_disk()\n",
    "# We need to reshape X_test\n",
    "X_test = X_test.reshape(1, X_test.shape[0])\n",
    "model_SGDO.predict(X_test)"
   ]
  },
  {
   "cell_type": "code",
   "execution_count": 29,
   "metadata": {},
   "outputs": [],
   "source": [
    "### Second : The Adam Optimizer"
   ]
  },
  {
   "cell_type": "code",
   "execution_count": 30,
   "metadata": {},
   "outputs": [
    {
     "name": "stdout",
     "output_type": "stream",
     "text": [
      "Epoch 1/25\n",
      "300/300 [==============================] - 0s 489us/step - loss: 2.0314 - acc: 0.4367\n",
      "Epoch 2/25\n",
      "300/300 [==============================] - 0s 76us/step - loss: 1.2193 - acc: 0.4900\n",
      "Epoch 3/25\n",
      "300/300 [==============================] - 0s 76us/step - loss: 0.6575 - acc: 0.6633\n",
      "Epoch 4/25\n",
      "300/300 [==============================] - 0s 76us/step - loss: 0.6091 - acc: 0.7067\n",
      "Epoch 5/25\n",
      "300/300 [==============================] - 0s 76us/step - loss: 0.4219 - acc: 0.8067\n",
      "Epoch 6/25\n",
      "300/300 [==============================] - 0s 83us/step - loss: 0.3456 - acc: 0.8367\n",
      "Epoch 7/25\n",
      "300/300 [==============================] - 0s 86us/step - loss: 0.2664 - acc: 0.9467\n",
      "Epoch 8/25\n",
      "300/300 [==============================] - 0s 76us/step - loss: 0.2512 - acc: 0.9333\n",
      "Epoch 9/25\n",
      "300/300 [==============================] - 0s 83us/step - loss: 0.2178 - acc: 0.9633\n",
      "Epoch 10/25\n",
      "300/300 [==============================] - 0s 80us/step - loss: 0.1980 - acc: 0.9700\n",
      "Epoch 11/25\n",
      "300/300 [==============================] - 0s 83us/step - loss: 0.1943 - acc: 0.9500\n",
      "Epoch 12/25\n",
      "300/300 [==============================] - 0s 80us/step - loss: 0.2981 - acc: 0.8400\n",
      "Epoch 13/25\n",
      "300/300 [==============================] - 0s 83us/step - loss: 0.3070 - acc: 0.8367\n",
      "Epoch 14/25\n",
      "300/300 [==============================] - 0s 93us/step - loss: 0.1693 - acc: 0.9467\n",
      "Epoch 15/25\n",
      "300/300 [==============================] - 0s 93us/step - loss: 0.1604 - acc: 0.9567\n",
      "Epoch 16/25\n",
      "300/300 [==============================] - 0s 80us/step - loss: 0.1421 - acc: 0.9667\n",
      "Epoch 17/25\n",
      "300/300 [==============================] - 0s 86us/step - loss: 0.0990 - acc: 1.0000\n",
      "Epoch 18/25\n",
      "300/300 [==============================] - 0s 83us/step - loss: 0.0979 - acc: 1.0000\n",
      "Epoch 19/25\n",
      "300/300 [==============================] - 0s 80us/step - loss: 0.0878 - acc: 1.0000\n",
      "Epoch 20/25\n",
      "300/300 [==============================] - 0s 76us/step - loss: 0.0839 - acc: 1.0000\n",
      "Epoch 21/25\n",
      "300/300 [==============================] - 0s 86us/step - loss: 0.0774 - acc: 1.0000\n",
      "Epoch 22/25\n",
      "300/300 [==============================] - 0s 83us/step - loss: 0.0737 - acc: 1.0000\n",
      "Epoch 23/25\n",
      "300/300 [==============================] - 0s 80us/step - loss: 0.0684 - acc: 1.0000\n",
      "Epoch 24/25\n",
      "300/300 [==============================] - 0s 83us/step - loss: 0.0676 - acc: 1.0000\n",
      "Epoch 25/25\n",
      "300/300 [==============================] - 0s 80us/step - loss: 0.0723 - acc: 1.0000\n"
     ]
    },
    {
     "data": {
      "text/plain": [
       "<keras.callbacks.History at 0x1e3079e1ef0>"
      ]
     },
     "execution_count": 30,
     "metadata": {},
     "output_type": "execute_result"
    }
   ],
   "source": [
    "model_Adam = Sequential()\n",
    "model_Adam.add(Dense(3,kernel_initializer= 'uniform', activation='softmax',input_dim=n_cols))\n",
    "\n",
    "model_Adam.compile(optimizer='adam', loss='categorical_crossentropy', metrics=['accuracy'])\n",
    "model_Adam.fit(X_train, Y_traink,batch_size=32,epochs=25)"
   ]
  },
  {
   "cell_type": "markdown",
   "metadata": {},
   "source": [
    "Now we're testing it on another figure, a disk"
   ]
  },
  {
   "cell_type": "code",
   "execution_count": 31,
   "metadata": {},
   "outputs": [
    {
     "data": {
      "text/plain": [
       "array([[0., 1., 0.]], dtype=float32)"
      ]
     },
     "execution_count": 31,
     "metadata": {},
     "output_type": "execute_result"
    }
   ],
   "source": [
    "X_test = generate_a_disk()\n",
    "X_test = X_test.reshape(1, X_test.shape[0])\n",
    "model_Adam.predict(X_test)"
   ]
  },
  {
   "cell_type": "markdown",
   "metadata": {},
   "source": [
    "## 4) Visualization of the solution\n"
   ]
  },
  {
   "cell_type": "markdown",
   "metadata": {},
   "source": [
    "#### Visualization : Stochastic Gradient Descent Optimizer"
   ]
  },
  {
   "cell_type": "code",
   "execution_count": 32,
   "metadata": {},
   "outputs": [],
   "source": [
    "Vizu_1=model_SGDO.get_weights()[0]"
   ]
  },
  {
   "cell_type": "code",
   "execution_count": 33,
   "metadata": {},
   "outputs": [],
   "source": [
    "image1 = Vizu_1[:,0]\n",
    "image2 = Vizu_1[:,1]\n",
    "image3 = Vizu_1[:,2]"
   ]
  },
  {
   "cell_type": "code",
   "execution_count": 34,
   "metadata": {},
   "outputs": [
    {
     "data": {
      "text/plain": [
       "((5184,), (5184,), (5184,))"
      ]
     },
     "execution_count": 34,
     "metadata": {},
     "output_type": "execute_result"
    }
   ],
   "source": [
    "#getting the shapes of all 3 images\n",
    "image1.shape,image2.shape,image3.shape"
   ]
  },
  {
   "cell_type": "code",
   "execution_count": 35,
   "metadata": {},
   "outputs": [
    {
     "data": {
      "text/plain": [
       "<matplotlib.image.AxesImage at 0x1e307e81128>"
      ]
     },
     "execution_count": 35,
     "metadata": {},
     "output_type": "execute_result"
    },
    {
     "data": {
      "image/png": "[encoded data removed]",
      "text/plain": [
       "<Figure size 432x288 with 1 Axes>"
      ]
     },
     "metadata": {
      "needs_background": "light"
     },
     "output_type": "display_data"
    }
   ],
   "source": [
    "#Plotting the first image\n",
    "%matplotlib inline \n",
    "plt.imshow(image1.reshape(IMAGE_SIZE, IMAGE_SIZE), cmap='gray')"
   ]
  },
  {
   "cell_type": "code",
   "execution_count": 36,
   "metadata": {},
   "outputs": [
    {
     "data": {
      "text/plain": [
       "<matplotlib.image.AxesImage at 0x1e307ed87b8>"
      ]
     },
     "execution_count": 36,
     "metadata": {},
     "output_type": "execute_result"
    },
    {
     "data": {
      "image/png": "[encoded data removed]",
      "text/plain": [
       "<Figure size 432x288 with 1 Axes>"
      ]
     },
     "metadata": {
      "needs_background": "light"
     },
     "output_type": "display_data"
    }
   ],
   "source": [
    "#Plotting the second image\n",
    "%matplotlib inline \n",
    "plt.imshow(image2.reshape(IMAGE_SIZE, IMAGE_SIZE), cmap='gray')"
   ]
  },
  {
   "cell_type": "code",
   "execution_count": 37,
   "metadata": {},
   "outputs": [
    {
     "data": {
      "text/plain": [
       "<matplotlib.image.AxesImage at 0x1e30f791c88>"
      ]
     },
     "execution_count": 37,
     "metadata": {},
     "output_type": "execute_result"
    },
    {
     "data": {
      "image/png": "[encoded data removed]",
      "text/plain": [
       "<Figure size 432x288 with 1 Axes>"
      ]
     },
     "metadata": {
      "needs_background": "light"
     },
     "output_type": "display_data"
    }
   ],
   "source": [
    "#Plotting the third image\n",
    "plt.imshow(image3.reshape(IMAGE_SIZE, IMAGE_SIZE), cmap='gray')"
   ]
  },
  {
   "cell_type": "markdown",
   "metadata": {},
   "source": [
    "#### Visualization : Adam Optimizer"
   ]
  },
  {
   "cell_type": "code",
   "execution_count": 39,
   "metadata": {},
   "outputs": [],
   "source": [
    "Vizu_2=model_Adam.get_weights()[0]"
   ]
  },
  {
   "cell_type": "code",
   "execution_count": 41,
   "metadata": {},
   "outputs": [],
   "source": [
    "image1 = Vizu_2[:,0]\n",
    "image2 = Vizu_2[:,1]\n",
    "image3 = Vizu_2[:,2]"
   ]
  },
  {
   "cell_type": "code",
   "execution_count": 42,
   "metadata": {},
   "outputs": [
    {
     "data": {
      "text/plain": [
       "((5184,), (5184,), (5184,))"
      ]
     },
     "execution_count": 42,
     "metadata": {},
     "output_type": "execute_result"
    }
   ],
   "source": [
    "#getting the shapes of all 3 images\n",
    "image1.shape,image2.shape,image3.shape"
   ]
  },
  {
   "cell_type": "code",
   "execution_count": 43,
   "metadata": {},
   "outputs": [
    {
     "data": {
      "text/plain": [
       "<matplotlib.image.AxesImage at 0x1e30f7f4780>"
      ]
     },
     "execution_count": 43,
     "metadata": {},
     "output_type": "execute_result"
    },
    {
     "data": {
      "image/png": "[encoded data removed]",
      "text/plain": [
       "<Figure size 432x288 with 1 Axes>"
      ]
     },
     "metadata": {
      "needs_background": "light"
     },
     "output_type": "display_data"
    }
   ],
   "source": [
    "#Plotting the first image\n",
    "%matplotlib inline \n",
    "plt.imshow(image1.reshape(IMAGE_SIZE, IMAGE_SIZE), cmap='gray')"
   ]
  },
  {
   "cell_type": "code",
   "execution_count": 44,
   "metadata": {},
   "outputs": [
    {
     "data": {
      "text/plain": [
       "<matplotlib.image.AxesImage at 0x1e30f84be10>"
      ]
     },
     "execution_count": 44,
     "metadata": {},
     "output_type": "execute_result"
    },
    {
     "data": {
      "image/png": "[encoded data removed]",
      "text/plain": [
       "<Figure size 432x288 with 1 Axes>"
      ]
     },
     "metadata": {
      "needs_background": "light"
     },
     "output_type": "display_data"
    }
   ],
   "source": [
    "#Plotting the second image\n",
    "%matplotlib inline \n",
    "plt.imshow(image2.reshape(IMAGE_SIZE, IMAGE_SIZE), cmap='gray')"
   ]
  },
  {
   "cell_type": "code",
   "execution_count": 45,
   "metadata": {},
   "outputs": [
    {
     "data": {
      "text/plain": [
       "<matplotlib.image.AxesImage at 0x1e30f8ab320>"
      ]
     },
     "execution_count": 45,
     "metadata": {},
     "output_type": "execute_result"
    },
    {
     "data": {
      "image/png": "[encoded data removed]",
      "text/plain": [
       "<Figure size 432x288 with 1 Axes>"
      ]
     },
     "metadata": {
      "needs_background": "light"
     },
     "output_type": "display_data"
    }
   ],
   "source": [
    "#Plotting the third image\n",
    "plt.imshow(image3.reshape(IMAGE_SIZE, IMAGE_SIZE), cmap='gray')"
   ]
  },
  {
   "cell_type": "markdown",
   "metadata": {},
   "source": [
    "## 5) A More Difficult Classification Problem"
   ]
  },
  {
   "cell_type": "markdown",
   "metadata": {},
   "source": [
    "### Adam Model"
   ]
  },
  {
   "cell_type": "markdown",
   "metadata": {},
   "source": [
    "We generate a Train and a Test Sets"
   ]
  },
  {
   "cell_type": "code",
   "execution_count": 46,
   "metadata": {},
   "outputs": [
    {
     "name": "stdout",
     "output_type": "stream",
     "text": [
      "Creating data:\n",
      "0\n",
      "10\n",
      "20\n",
      "30\n",
      "40\n",
      "50\n",
      "60\n",
      "70\n",
      "80\n",
      "90\n",
      "100\n",
      "110\n",
      "120\n",
      "130\n",
      "140\n",
      "150\n",
      "160\n",
      "170\n",
      "180\n",
      "190\n",
      "200\n",
      "210\n",
      "220\n",
      "230\n",
      "240\n",
      "250\n",
      "260\n",
      "270\n",
      "280\n",
      "290\n",
      "Creating data:\n",
      "0\n",
      "10\n",
      "20\n",
      "30\n",
      "40\n",
      "50\n",
      "60\n",
      "70\n",
      "80\n",
      "90\n",
      "100\n",
      "110\n",
      "120\n",
      "130\n",
      "140\n",
      "150\n",
      "160\n",
      "170\n",
      "180\n",
      "190\n",
      "200\n",
      "210\n",
      "220\n",
      "230\n",
      "240\n",
      "250\n",
      "260\n",
      "270\n",
      "280\n",
      "290\n"
     ]
    }
   ],
   "source": [
    "[X_train2, Y_train2] = generate_dataset_classification(300, 20, True)\n",
    "Y_train2k = keras.utils.to_categorical(Y_train2, 3)\n",
    "\n",
    "[X_test2, Y_test2] = generate_test_set_classification()"
   ]
  },
  {
   "cell_type": "markdown",
   "metadata": {},
   "source": [
    "Let's create a model with Adam Optimizer"
   ]
  },
  {
   "cell_type": "code",
   "execution_count": 47,
   "metadata": {},
   "outputs": [],
   "source": [
    "model_Adam2= Sequential()\n",
    "model_Adam2.add(Dense(16, input_dim=5184, activation='relu'))\n",
    "model_Adam2.add(Dense(3))"
   ]
  },
  {
   "cell_type": "code",
   "execution_count": 48,
   "metadata": {},
   "outputs": [],
   "source": [
    "sgd = SGD(lr=0.01,decay=1e-6, momentum=0.9,nesterov=True)\n",
    "model_Adam2.compile(loss='mean_squared_error', optimizer=sgd, metrics=['accuracy'])"
   ]
  },
  {
   "cell_type": "code",
   "execution_count": 49,
   "metadata": {},
   "outputs": [
    {
     "data": {
      "text/plain": [
       "<keras.callbacks.History at 0x1e30f872588>"
      ]
     },
     "execution_count": 49,
     "metadata": {},
     "output_type": "execute_result"
    }
   ],
   "source": [
    "model_Adam2.fit(X_train2, Y_train2k,batch_size=16,epochs=150,verbose=False)"
   ]
  },
  {
   "cell_type": "markdown",
   "metadata": {},
   "source": [
    "Let's evaluate our model on the test set"
   ]
  },
  {
   "cell_type": "code",
   "execution_count": 50,
   "metadata": {},
   "outputs": [
    {
     "name": "stdout",
     "output_type": "stream",
     "text": [
      "300/300 [==============================] - 0s 186us/step\n"
     ]
    },
    {
     "data": {
      "text/plain": [
       "[0.22230109830697378, 0.34000000009934106]"
      ]
     },
     "execution_count": 50,
     "metadata": {},
     "output_type": "execute_result"
    }
   ],
   "source": [
    "model_Adam2.evaluate(X_test2, Y_test2)"
   ]
  },
  {
   "cell_type": "markdown",
   "metadata": {},
   "source": [
    "We reshape X_train2 to fit a convolutional model"
   ]
  },
  {
   "cell_type": "code",
   "execution_count": 51,
   "metadata": {},
   "outputs": [],
   "source": [
    "X_train2 = X_train2.reshape(X_train2.shape[0],72,72,1)"
   ]
  },
  {
   "cell_type": "markdown",
   "metadata": {},
   "source": [
    "### Convolutional Model"
   ]
  },
  {
   "cell_type": "code",
   "execution_count": 52,
   "metadata": {},
   "outputs": [],
   "source": [
    "model_Convo = Sequential()\n",
    "model_Convo.add(Conv2D(16,kernel_size=(5, 5), activation='relu',input_shape=(72, 72, 1)))\n",
    "model_Convo.add(MaxPooling2D(pool_size=(2, 2))) \n",
    "model_Convo.add(Flatten())\n",
    "model_Convo.add(Dense(100,activation='relu'))\n",
    "model_Convo.add(Dense(3,activation='sigmoid'))"
   ]
  },
  {
   "cell_type": "code",
   "execution_count": 53,
   "metadata": {},
   "outputs": [],
   "source": [
    "sgd = SGD(lr=0.01,decay=1e-6, momentum=0.9,nesterov=True)\n",
    "model_Convo.compile(loss='mean_squared_error', optimizer=sgd, metrics=['accuracy'])"
   ]
  },
  {
   "cell_type": "code",
   "execution_count": 54,
   "metadata": {},
   "outputs": [
    {
     "name": "stdout",
     "output_type": "stream",
     "text": [
      "Epoch 1/15\n",
      "300/300 [==============================] - 1s 4ms/step - loss: 0.2387 - acc: 0.3300\n",
      "Epoch 2/15\n",
      "300/300 [==============================] - 1s 3ms/step - loss: 0.2178 - acc: 0.3933\n",
      "Epoch 3/15\n",
      "300/300 [==============================] - 1s 3ms/step - loss: 0.2104 - acc: 0.4667\n",
      "Epoch 4/15\n",
      "300/300 [==============================] - 1s 3ms/step - loss: 0.2023 - acc: 0.5267\n",
      "Epoch 5/15\n",
      "300/300 [==============================] - 1s 3ms/step - loss: 0.1920 - acc: 0.5400\n",
      "Epoch 6/15\n",
      "300/300 [==============================] - 1s 3ms/step - loss: 0.1868 - acc: 0.5267\n",
      "Epoch 7/15\n",
      "300/300 [==============================] - 1s 3ms/step - loss: 0.1801 - acc: 0.5300\n",
      "Epoch 8/15\n",
      "300/300 [==============================] - 1s 3ms/step - loss: 0.1754 - acc: 0.5867\n",
      "Epoch 9/15\n",
      "300/300 [==============================] - 1s 3ms/step - loss: 0.1611 - acc: 0.6033\n",
      "Epoch 10/15\n",
      "300/300 [==============================] - 1s 3ms/step - loss: 0.1519 - acc: 0.6667\n",
      "Epoch 11/15\n",
      "300/300 [==============================] - 1s 3ms/step - loss: 0.1475 - acc: 0.6700\n",
      "Epoch 12/15\n",
      "300/300 [==============================] - 1s 3ms/step - loss: 0.1459 - acc: 0.6433\n",
      "Epoch 13/15\n",
      "300/300 [==============================] - 1s 3ms/step - loss: 0.1358 - acc: 0.7000\n",
      "Epoch 14/15\n",
      "300/300 [==============================] - 1s 3ms/step - loss: 0.1332 - acc: 0.7100\n",
      "Epoch 15/15\n",
      "300/300 [==============================] - 1s 3ms/step - loss: 0.1307 - acc: 0.7000\n"
     ]
    },
    {
     "data": {
      "text/plain": [
       "<keras.callbacks.History at 0x1e31845f588>"
      ]
     },
     "execution_count": 54,
     "metadata": {},
     "output_type": "execute_result"
    }
   ],
   "source": [
    "model_Convo.fit(X_train2,Y_train2k, batch_size=16, epochs=15)"
   ]
  },
  {
   "cell_type": "code",
   "execution_count": 55,
   "metadata": {},
   "outputs": [
    {
     "name": "stdout",
     "output_type": "stream",
     "text": [
      "Creating data:\n",
      "0\n",
      "10\n",
      "20\n",
      "30\n",
      "40\n",
      "50\n",
      "60\n",
      "70\n",
      "80\n",
      "90\n",
      "100\n",
      "110\n",
      "120\n",
      "130\n",
      "140\n",
      "150\n",
      "160\n",
      "170\n",
      "180\n",
      "190\n",
      "200\n",
      "210\n",
      "220\n",
      "230\n",
      "240\n",
      "250\n",
      "260\n",
      "270\n",
      "280\n",
      "290\n"
     ]
    }
   ],
   "source": [
    "[X_test3, Y_test3] = generate_test_set_classification()"
   ]
  },
  {
   "cell_type": "code",
   "execution_count": 57,
   "metadata": {},
   "outputs": [
    {
     "name": "stdout",
     "output_type": "stream",
     "text": [
      "300/300 [==============================] - 0s 874us/step\n"
     ]
    },
    {
     "data": {
      "text/plain": [
       "[0.12232029934724171, 0.7699999992052714]"
      ]
     },
     "execution_count": 57,
     "metadata": {},
     "output_type": "execute_result"
    }
   ],
   "source": [
    "model_Convo.evaluate(X_train2,Y_train2k)"
   ]
  },
  {
   "cell_type": "code",
   "execution_count": 58,
   "metadata": {},
   "outputs": [
    {
     "name": "stdout",
     "output_type": "stream",
     "text": [
      "300/300 [==============================] - 0s 745us/step\n",
      "The loss is : 0.15714460452397663\n"
     ]
    }
   ],
   "source": [
    "print('The loss is : {0}'.format(model_Convo.evaluate(X_test3.reshape(X_test3.shape[0],72,72,1),Y_test3)[0]))"
   ]
  },
  {
   "cell_type": "markdown",
   "metadata": {},
   "source": [
    "# 6) A Regression Problem"
   ]
  },
  {
   "cell_type": "markdown",
   "metadata": {},
   "source": [
    "####  We're going to try to predict the image locations of the vertices for a triangle"
   ]
  },
  {
   "cell_type": "markdown",
   "metadata": {},
   "source": [
    "Let's create our data-train"
   ]
  },
  {
   "cell_type": "code",
   "execution_count": 63,
   "metadata": {},
   "outputs": [
    {
     "name": "stdout",
     "output_type": "stream",
     "text": [
      "Creating data:\n",
      "0\n",
      "10\n",
      "20\n",
      "30\n",
      "40\n",
      "50\n",
      "60\n",
      "70\n",
      "80\n",
      "90\n",
      "100\n",
      "110\n",
      "120\n",
      "130\n",
      "140\n",
      "150\n",
      "160\n",
      "170\n",
      "180\n",
      "190\n",
      "200\n",
      "210\n",
      "220\n",
      "230\n",
      "240\n",
      "250\n",
      "260\n",
      "270\n",
      "280\n",
      "290\n"
     ]
    }
   ],
   "source": [
    "[X_train, Y_train] = generate_dataset_regression(300, 20)"
   ]
  },
  {
   "cell_type": "code",
   "execution_count": 64,
   "metadata": {},
   "outputs": [
    {
     "ename": "NameError",
     "evalue": "name 'patches' is not defined",
     "output_type": "error",
     "traceback": [
      "\u001b[1;31m---------------------------------------------------------------------------\u001b[0m",
      "\u001b[1;31mNameError\u001b[0m                                 Traceback (most recent call last)",
      "\u001b[1;32m<ipython-input-64-30b291c3ecb9>\u001b[0m in \u001b[0;36m<module>\u001b[1;34m\u001b[0m\n\u001b[1;32m----> 1\u001b[1;33m \u001b[0mvisualize_prediction\u001b[0m\u001b[1;33m(\u001b[0m\u001b[0mX_train\u001b[0m\u001b[1;33m[\u001b[0m\u001b[1;36m0\u001b[0m\u001b[1;33m]\u001b[0m\u001b[1;33m,\u001b[0m \u001b[0mY_train\u001b[0m\u001b[1;33m[\u001b[0m\u001b[1;36m0\u001b[0m\u001b[1;33m]\u001b[0m\u001b[1;33m)\u001b[0m\u001b[1;33m\u001b[0m\u001b[1;33m\u001b[0m\u001b[0m\n\u001b[0m\u001b[0;32m      2\u001b[0m \u001b[0mprint\u001b[0m\u001b[1;33m(\u001b[0m\u001b[0mY_train\u001b[0m\u001b[1;33m[\u001b[0m\u001b[1;36m0\u001b[0m\u001b[1;33m]\u001b[0m\u001b[1;33m.\u001b[0m\u001b[0mreshape\u001b[0m\u001b[1;33m(\u001b[0m\u001b[1;36m3\u001b[0m\u001b[1;33m,\u001b[0m\u001b[1;36m2\u001b[0m\u001b[1;33m)\u001b[0m\u001b[1;33m)\u001b[0m\u001b[1;33m\u001b[0m\u001b[1;33m\u001b[0m\u001b[0m\n",
      "\u001b[1;32m<ipython-input-10-5776d3d982a4>\u001b[0m in \u001b[0;36mvisualize_prediction\u001b[1;34m(x, y)\u001b[0m\n\u001b[0;32m      7\u001b[0m \u001b[1;33m\u001b[0m\u001b[0m\n\u001b[0;32m      8\u001b[0m     \u001b[0mxy\u001b[0m \u001b[1;33m=\u001b[0m \u001b[0my\u001b[0m\u001b[1;33m.\u001b[0m\u001b[0mreshape\u001b[0m\u001b[1;33m(\u001b[0m\u001b[1;36m3\u001b[0m\u001b[1;33m,\u001b[0m\u001b[1;36m2\u001b[0m\u001b[1;33m)\u001b[0m\u001b[1;33m\u001b[0m\u001b[1;33m\u001b[0m\u001b[0m\n\u001b[1;32m----> 9\u001b[1;33m     \u001b[0mtri\u001b[0m \u001b[1;33m=\u001b[0m \u001b[0mpatches\u001b[0m\u001b[1;33m.\u001b[0m\u001b[0mPolygon\u001b[0m\u001b[1;33m(\u001b[0m\u001b[0mxy\u001b[0m\u001b[1;33m,\u001b[0m \u001b[0mclosed\u001b[0m\u001b[1;33m=\u001b[0m\u001b[1;32mTrue\u001b[0m\u001b[1;33m,\u001b[0m \u001b[0mfill\u001b[0m \u001b[1;33m=\u001b[0m \u001b[1;32mFalse\u001b[0m\u001b[1;33m,\u001b[0m \u001b[0medgecolor\u001b[0m \u001b[1;33m=\u001b[0m \u001b[1;34m'r'\u001b[0m\u001b[1;33m,\u001b[0m \u001b[0mlinewidth\u001b[0m \u001b[1;33m=\u001b[0m \u001b[1;36m5\u001b[0m\u001b[1;33m,\u001b[0m \u001b[0malpha\u001b[0m \u001b[1;33m=\u001b[0m \u001b[1;36m0.5\u001b[0m\u001b[1;33m)\u001b[0m\u001b[1;33m\u001b[0m\u001b[1;33m\u001b[0m\u001b[0m\n\u001b[0m\u001b[0;32m     10\u001b[0m     \u001b[0max\u001b[0m\u001b[1;33m.\u001b[0m\u001b[0madd_patch\u001b[0m\u001b[1;33m(\u001b[0m\u001b[0mtri\u001b[0m\u001b[1;33m)\u001b[0m\u001b[1;33m\u001b[0m\u001b[1;33m\u001b[0m\u001b[0m\n\u001b[0;32m     11\u001b[0m \u001b[1;33m\u001b[0m\u001b[0m\n",
      "\u001b[1;31mNameError\u001b[0m: name 'patches' is not defined"
     ]
    },
    {
     "data": {
      "image/png": "[encoded data removed]",
      "text/plain": [
       "<Figure size 360x360 with 1 Axes>"
      ]
     },
     "metadata": {
      "needs_background": "light"
     },
     "output_type": "display_data"
    }
   ],
   "source": [
    "visualize_prediction(X_train[0], Y_train[0])\n",
    "print(Y_train[0].reshape(3,2))"
   ]
  },
  {
   "cell_type": "markdown",
   "metadata": {},
   "source": [
    "Let's create our data-validation"
   ]
  },
  {
   "cell_type": "code",
   "execution_count": 65,
   "metadata": {},
   "outputs": [
    {
     "name": "stdout",
     "output_type": "stream",
     "text": [
      "Creating data:\n",
      "0\n",
      "10\n",
      "20\n",
      "30\n",
      "40\n",
      "50\n",
      "60\n",
      "70\n",
      "80\n",
      "90\n",
      "100\n",
      "110\n",
      "120\n",
      "130\n",
      "140\n",
      "150\n",
      "160\n",
      "170\n",
      "180\n",
      "190\n",
      "200\n",
      "210\n",
      "220\n",
      "230\n",
      "240\n",
      "250\n",
      "260\n",
      "270\n",
      "280\n",
      "290\n"
     ]
    }
   ],
   "source": [
    "[X_validation, Y_validation] = generate_dataset_regression(300, 20)"
   ]
  },
  {
   "cell_type": "code",
   "execution_count": 66,
   "metadata": {},
   "outputs": [],
   "source": [
    "regressor = Sequential()"
   ]
  },
  {
   "cell_type": "code",
   "execution_count": 67,
   "metadata": {},
   "outputs": [],
   "source": [
    "regressor.add(Dense(units=128,kernel_initializer= 'uniform',activation=\"relu\", input_dim=n_cols))\n",
    "regressor.add(Dropout(0.3))\n",
    "regressor.add(Dense(units=128,kernel_initializer= 'uniform',activation=\"relu\"))\n",
    "regressor.add(Dropout(0.3))\n",
    "regressor.add(Dense(units=6,kernel_initializer= 'uniform'))"
   ]
  },
  {
   "cell_type": "code",
   "execution_count": 69,
   "metadata": {},
   "outputs": [
    {
     "name": "stdout",
     "output_type": "stream",
     "text": [
      "Train on 300 samples, validate on 300 samples\n",
      "Epoch 1/300\n",
      "300/300 [==============================] - 0s 2ms/step - loss: 0.1726 - mean_squared_error: 0.1726 - val_loss: 0.0865 - val_mean_squared_error: 0.0865\n",
      "Epoch 2/300\n",
      "300/300 [==============================] - 0s 482us/step - loss: 0.1061 - mean_squared_error: 0.1061 - val_loss: 0.1013 - val_mean_squared_error: 0.1013\n",
      "Epoch 3/300\n",
      "300/300 [==============================] - 0s 455us/step - loss: 0.0989 - mean_squared_error: 0.0989 - val_loss: 0.0852 - val_mean_squared_error: 0.0852\n",
      "Epoch 4/300\n",
      "300/300 [==============================] - 0s 465us/step - loss: 0.0935 - mean_squared_error: 0.0935 - val_loss: 0.0845 - val_mean_squared_error: 0.0845\n",
      "Epoch 5/300\n",
      "300/300 [==============================] - 0s 475us/step - loss: 0.0912 - mean_squared_error: 0.0912 - val_loss: 0.0812 - val_mean_squared_error: 0.0812\n",
      "Epoch 6/300\n",
      "300/300 [==============================] - 0s 475us/step - loss: 0.0931 - mean_squared_error: 0.0931 - val_loss: 0.0962 - val_mean_squared_error: 0.0962\n",
      "Epoch 7/300\n",
      "300/300 [==============================] - 0s 485us/step - loss: 0.0891 - mean_squared_error: 0.0891 - val_loss: 0.0875 - val_mean_squared_error: 0.0875\n",
      "Epoch 8/300\n",
      "300/300 [==============================] - 0s 455us/step - loss: 0.0891 - mean_squared_error: 0.0891 - val_loss: 0.0868 - val_mean_squared_error: 0.0868\n",
      "Epoch 9/300\n",
      "300/300 [==============================] - 0s 469us/step - loss: 0.0878 - mean_squared_error: 0.0878 - val_loss: 0.0869 - val_mean_squared_error: 0.0869\n",
      "Epoch 10/300\n",
      "300/300 [==============================] - 0s 472us/step - loss: 0.0872 - mean_squared_error: 0.0872 - val_loss: 0.0807 - val_mean_squared_error: 0.0807\n",
      "Epoch 11/300\n",
      "300/300 [==============================] - 0s 459us/step - loss: 0.0842 - mean_squared_error: 0.0842 - val_loss: 0.0812 - val_mean_squared_error: 0.0812\n",
      "Epoch 12/300\n",
      "300/300 [==============================] - 0s 475us/step - loss: 0.0829 - mean_squared_error: 0.0829 - val_loss: 0.0816 - val_mean_squared_error: 0.0816\n",
      "Epoch 13/300\n",
      "300/300 [==============================] - 0s 475us/step - loss: 0.0847 - mean_squared_error: 0.0847 - val_loss: 0.0979 - val_mean_squared_error: 0.0979\n",
      "Epoch 14/300\n",
      "300/300 [==============================] - 0s 479us/step - loss: 0.0872 - mean_squared_error: 0.0872 - val_loss: 0.0852 - val_mean_squared_error: 0.0852\n",
      "Epoch 15/300\n",
      "300/300 [==============================] - 0s 472us/step - loss: 0.0856 - mean_squared_error: 0.0856 - val_loss: 0.0896 - val_mean_squared_error: 0.0896\n",
      "Epoch 16/300\n",
      "300/300 [==============================] - 0s 449us/step - loss: 0.0845 - mean_squared_error: 0.0845 - val_loss: 0.0895 - val_mean_squared_error: 0.0895\n",
      "Epoch 17/300\n",
      "300/300 [==============================] - 0s 472us/step - loss: 0.0841 - mean_squared_error: 0.0841 - val_loss: 0.0820 - val_mean_squared_error: 0.0820\n",
      "Epoch 18/300\n",
      "300/300 [==============================] - 0s 459us/step - loss: 0.0856 - mean_squared_error: 0.0856 - val_loss: 0.0942 - val_mean_squared_error: 0.0942\n",
      "Epoch 19/300\n",
      "300/300 [==============================] - 0s 445us/step - loss: 0.0879 - mean_squared_error: 0.0879 - val_loss: 0.0843 - val_mean_squared_error: 0.0843\n",
      "Epoch 20/300\n",
      "300/300 [==============================] - 0s 485us/step - loss: 0.0838 - mean_squared_error: 0.0838 - val_loss: 0.0922 - val_mean_squared_error: 0.0922\n",
      "Epoch 21/300\n",
      "300/300 [==============================] - 0s 479us/step - loss: 0.0819 - mean_squared_error: 0.0819 - val_loss: 0.0997 - val_mean_squared_error: 0.0997\n",
      "Epoch 22/300\n",
      "300/300 [==============================] - 0s 452us/step - loss: 0.0810 - mean_squared_error: 0.0810 - val_loss: 0.0905 - val_mean_squared_error: 0.0905\n",
      "Epoch 23/300\n",
      "300/300 [==============================] - 0s 459us/step - loss: 0.0787 - mean_squared_error: 0.0787 - val_loss: 0.0949 - val_mean_squared_error: 0.0949\n",
      "Epoch 24/300\n",
      "300/300 [==============================] - 0s 495us/step - loss: 0.0773 - mean_squared_error: 0.0773 - val_loss: 0.0884 - val_mean_squared_error: 0.0884\n",
      "Epoch 25/300\n",
      "300/300 [==============================] - 0s 459us/step - loss: 0.0786 - mean_squared_error: 0.0786 - val_loss: 0.0828 - val_mean_squared_error: 0.0828\n",
      "Epoch 26/300\n",
      "300/300 [==============================] - 0s 462us/step - loss: 0.0844 - mean_squared_error: 0.0844 - val_loss: 0.0970 - val_mean_squared_error: 0.0970\n",
      "Epoch 27/300\n",
      "300/300 [==============================] - 0s 475us/step - loss: 0.0804 - mean_squared_error: 0.0804 - val_loss: 0.0860 - val_mean_squared_error: 0.0860\n",
      "Epoch 28/300\n",
      "300/300 [==============================] - 0s 492us/step - loss: 0.0789 - mean_squared_error: 0.0789 - val_loss: 0.0904 - val_mean_squared_error: 0.0904\n",
      "Epoch 29/300\n",
      "300/300 [==============================] - 0s 462us/step - loss: 0.0783 - mean_squared_error: 0.0783 - val_loss: 0.0888 - val_mean_squared_error: 0.0888\n",
      "Epoch 30/300\n",
      "300/300 [==============================] - 0s 442us/step - loss: 0.0762 - mean_squared_error: 0.0762 - val_loss: 0.0851 - val_mean_squared_error: 0.0851\n",
      "Epoch 31/300\n",
      "300/300 [==============================] - 0s 482us/step - loss: 0.0760 - mean_squared_error: 0.0760 - val_loss: 0.0844 - val_mean_squared_error: 0.0844\n",
      "Epoch 32/300\n",
      "300/300 [==============================] - 0s 452us/step - loss: 0.0772 - mean_squared_error: 0.0772 - val_loss: 0.0885 - val_mean_squared_error: 0.0885\n",
      "Epoch 33/300\n",
      "300/300 [==============================] - 0s 479us/step - loss: 0.0773 - mean_squared_error: 0.0773 - val_loss: 0.0925 - val_mean_squared_error: 0.0925\n",
      "Epoch 34/300\n",
      "300/300 [==============================] - 0s 459us/step - loss: 0.0769 - mean_squared_error: 0.0769 - val_loss: 0.0989 - val_mean_squared_error: 0.0989\n",
      "Epoch 35/300\n",
      "300/300 [==============================] - 0s 479us/step - loss: 0.0784 - mean_squared_error: 0.0784 - val_loss: 0.0848 - val_mean_squared_error: 0.0848\n",
      "Epoch 36/300\n",
      "300/300 [==============================] - 0s 495us/step - loss: 0.0794 - mean_squared_error: 0.0794 - val_loss: 0.0845 - val_mean_squared_error: 0.0845\n",
      "Epoch 37/300\n",
      "300/300 [==============================] - 0s 469us/step - loss: 0.0800 - mean_squared_error: 0.0800 - val_loss: 0.0925 - val_mean_squared_error: 0.0925\n",
      "Epoch 38/300\n",
      "300/300 [==============================] - 0s 512us/step - loss: 0.0763 - mean_squared_error: 0.0763 - val_loss: 0.0877 - val_mean_squared_error: 0.0877\n",
      "Epoch 39/300\n",
      "300/300 [==============================] - 0s 499us/step - loss: 0.0745 - mean_squared_error: 0.0745 - val_loss: 0.0833 - val_mean_squared_error: 0.0833\n",
      "Epoch 40/300\n",
      "300/300 [==============================] - 0s 475us/step - loss: 0.0741 - mean_squared_error: 0.0741 - val_loss: 0.0896 - val_mean_squared_error: 0.0896\n",
      "Epoch 41/300\n",
      "300/300 [==============================] - 0s 525us/step - loss: 0.0744 - mean_squared_error: 0.0744 - val_loss: 0.0960 - val_mean_squared_error: 0.0960\n",
      "Epoch 42/300\n",
      "300/300 [==============================] - 0s 595us/step - loss: 0.0769 - mean_squared_error: 0.0769 - val_loss: 0.0782 - val_mean_squared_error: 0.0782\n",
      "Epoch 43/300\n",
      "300/300 [==============================] - 0s 545us/step - loss: 0.0788 - mean_squared_error: 0.0788 - val_loss: 0.0812 - val_mean_squared_error: 0.0812\n",
      "Epoch 44/300\n",
      "300/300 [==============================] - 0s 502us/step - loss: 0.0767 - mean_squared_error: 0.0767 - val_loss: 0.0795 - val_mean_squared_error: 0.0795\n",
      "Epoch 45/300\n",
      "300/300 [==============================] - 0s 502us/step - loss: 0.0741 - mean_squared_error: 0.0741 - val_loss: 0.0792 - val_mean_squared_error: 0.0792\n",
      "Epoch 46/300\n",
      "300/300 [==============================] - 0s 529us/step - loss: 0.0762 - mean_squared_error: 0.0762 - val_loss: 0.0838 - val_mean_squared_error: 0.0838\n",
      "Epoch 47/300\n",
      "300/300 [==============================] - 0s 532us/step - loss: 0.0707 - mean_squared_error: 0.0707 - val_loss: 0.0809 - val_mean_squared_error: 0.0809\n",
      "Epoch 48/300\n",
      "300/300 [==============================] - 0s 525us/step - loss: 0.0738 - mean_squared_error: 0.0738 - val_loss: 0.0775 - val_mean_squared_error: 0.0775\n",
      "Epoch 49/300\n",
      "300/300 [==============================] - 0s 519us/step - loss: 0.0738 - mean_squared_error: 0.0738 - val_loss: 0.0838 - val_mean_squared_error: 0.0838\n",
      "Epoch 50/300\n"
     ]
    },
    {
     "name": "stdout",
     "output_type": "stream",
     "text": [
      "300/300 [==============================] - 0s 512us/step - loss: 0.0738 - mean_squared_error: 0.0738 - val_loss: 0.0807 - val_mean_squared_error: 0.0807\n",
      "Epoch 51/300\n",
      "300/300 [==============================] - 0s 532us/step - loss: 0.0724 - mean_squared_error: 0.0724 - val_loss: 0.0835 - val_mean_squared_error: 0.0835\n",
      "Epoch 52/300\n",
      "300/300 [==============================] - 0s 499us/step - loss: 0.0724 - mean_squared_error: 0.0724 - val_loss: 0.0749 - val_mean_squared_error: 0.0749\n",
      "Epoch 53/300\n",
      "300/300 [==============================] - 0s 512us/step - loss: 0.0721 - mean_squared_error: 0.0721 - val_loss: 0.0775 - val_mean_squared_error: 0.0775\n",
      "Epoch 54/300\n",
      "300/300 [==============================] - 0s 555us/step - loss: 0.0719 - mean_squared_error: 0.0719 - val_loss: 0.0823 - val_mean_squared_error: 0.0823\n",
      "Epoch 55/300\n",
      "300/300 [==============================] - 0s 532us/step - loss: 0.0714 - mean_squared_error: 0.0714 - val_loss: 0.0745 - val_mean_squared_error: 0.0745\n",
      "Epoch 56/300\n",
      "300/300 [==============================] - 0s 525us/step - loss: 0.0750 - mean_squared_error: 0.0750 - val_loss: 0.0779 - val_mean_squared_error: 0.0779\n",
      "Epoch 57/300\n",
      "300/300 [==============================] - 0s 519us/step - loss: 0.0722 - mean_squared_error: 0.0722 - val_loss: 0.0782 - val_mean_squared_error: 0.0782\n",
      "Epoch 58/300\n",
      "300/300 [==============================] - 0s 512us/step - loss: 0.0727 - mean_squared_error: 0.0727 - val_loss: 0.0769 - val_mean_squared_error: 0.0769\n",
      "Epoch 59/300\n",
      "300/300 [==============================] - 0s 505us/step - loss: 0.0720 - mean_squared_error: 0.0720 - val_loss: 0.0745 - val_mean_squared_error: 0.0745\n",
      "Epoch 60/300\n",
      "300/300 [==============================] - 0s 545us/step - loss: 0.0713 - mean_squared_error: 0.0713 - val_loss: 0.0761 - val_mean_squared_error: 0.0761\n",
      "Epoch 61/300\n",
      "300/300 [==============================] - 0s 479us/step - loss: 0.0711 - mean_squared_error: 0.0711 - val_loss: 0.0789 - val_mean_squared_error: 0.0789\n",
      "Epoch 62/300\n",
      "300/300 [==============================] - 0s 489us/step - loss: 0.0702 - mean_squared_error: 0.0702 - val_loss: 0.0813 - val_mean_squared_error: 0.0813\n",
      "Epoch 63/300\n",
      "300/300 [==============================] - 0s 529us/step - loss: 0.0714 - mean_squared_error: 0.0714 - val_loss: 0.0817 - val_mean_squared_error: 0.0817\n",
      "Epoch 64/300\n",
      "300/300 [==============================] - 0s 542us/step - loss: 0.0709 - mean_squared_error: 0.0709 - val_loss: 0.0789 - val_mean_squared_error: 0.0789\n",
      "Epoch 65/300\n",
      "300/300 [==============================] - 0s 479us/step - loss: 0.0710 - mean_squared_error: 0.0710 - val_loss: 0.0788 - val_mean_squared_error: 0.0788\n",
      "Epoch 66/300\n",
      "300/300 [==============================] - 0s 459us/step - loss: 0.0678 - mean_squared_error: 0.0678 - val_loss: 0.0749 - val_mean_squared_error: 0.0749\n",
      "Epoch 67/300\n",
      "300/300 [==============================] - 0s 469us/step - loss: 0.0682 - mean_squared_error: 0.0682 - val_loss: 0.0767 - val_mean_squared_error: 0.0767\n",
      "Epoch 68/300\n",
      "300/300 [==============================] - 0s 455us/step - loss: 0.0703 - mean_squared_error: 0.0703 - val_loss: 0.0796 - val_mean_squared_error: 0.0796\n",
      "Epoch 69/300\n",
      "300/300 [==============================] - 0s 452us/step - loss: 0.0708 - mean_squared_error: 0.0708 - val_loss: 0.0747 - val_mean_squared_error: 0.0747\n",
      "Epoch 70/300\n",
      "300/300 [==============================] - 0s 459us/step - loss: 0.0705 - mean_squared_error: 0.0705 - val_loss: 0.0752 - val_mean_squared_error: 0.0752\n",
      "Epoch 71/300\n",
      "300/300 [==============================] - 0s 499us/step - loss: 0.0700 - mean_squared_error: 0.0700 - val_loss: 0.0745 - val_mean_squared_error: 0.0745\n",
      "Epoch 72/300\n",
      "300/300 [==============================] - 0s 452us/step - loss: 0.0702 - mean_squared_error: 0.0702 - val_loss: 0.0755 - val_mean_squared_error: 0.0755\n",
      "Epoch 73/300\n",
      "300/300 [==============================] - 0s 465us/step - loss: 0.0703 - mean_squared_error: 0.0703 - val_loss: 0.0766 - val_mean_squared_error: 0.0766\n",
      "Epoch 74/300\n",
      "300/300 [==============================] - 0s 489us/step - loss: 0.0706 - mean_squared_error: 0.0706 - val_loss: 0.0761 - val_mean_squared_error: 0.0761\n",
      "Epoch 75/300\n",
      "300/300 [==============================] - 0s 485us/step - loss: 0.0711 - mean_squared_error: 0.0711 - val_loss: 0.0811 - val_mean_squared_error: 0.0811\n",
      "Epoch 76/300\n",
      "300/300 [==============================] - 0s 452us/step - loss: 0.0732 - mean_squared_error: 0.0732 - val_loss: 0.0764 - val_mean_squared_error: 0.0764\n",
      "Epoch 77/300\n",
      "300/300 [==============================] - 0s 442us/step - loss: 0.0695 - mean_squared_error: 0.0695 - val_loss: 0.0761 - val_mean_squared_error: 0.0761\n",
      "Epoch 78/300\n",
      "300/300 [==============================] - 0s 455us/step - loss: 0.0703 - mean_squared_error: 0.0703 - val_loss: 0.0736 - val_mean_squared_error: 0.0736\n",
      "Epoch 79/300\n",
      "300/300 [==============================] - 0s 449us/step - loss: 0.0687 - mean_squared_error: 0.0687 - val_loss: 0.0753 - val_mean_squared_error: 0.0753\n",
      "Epoch 80/300\n",
      "300/300 [==============================] - 0s 439us/step - loss: 0.0686 - mean_squared_error: 0.0686 - val_loss: 0.0742 - val_mean_squared_error: 0.0742\n",
      "Epoch 81/300\n",
      "300/300 [==============================] - 0s 482us/step - loss: 0.0706 - mean_squared_error: 0.0706 - val_loss: 0.0745 - val_mean_squared_error: 0.0745\n",
      "Epoch 82/300\n",
      "300/300 [==============================] - 0s 482us/step - loss: 0.0688 - mean_squared_error: 0.0688 - val_loss: 0.0723 - val_mean_squared_error: 0.0723\n",
      "Epoch 83/300\n",
      "300/300 [==============================] - 0s 499us/step - loss: 0.0707 - mean_squared_error: 0.0707 - val_loss: 0.0724 - val_mean_squared_error: 0.0724\n",
      "Epoch 84/300\n",
      "300/300 [==============================] - 0s 455us/step - loss: 0.0692 - mean_squared_error: 0.0692 - val_loss: 0.0749 - val_mean_squared_error: 0.0749\n",
      "Epoch 85/300\n",
      "300/300 [==============================] - 0s 485us/step - loss: 0.0695 - mean_squared_error: 0.0695 - val_loss: 0.0750 - val_mean_squared_error: 0.0750\n",
      "Epoch 86/300\n",
      "300/300 [==============================] - 0s 495us/step - loss: 0.0703 - mean_squared_error: 0.0703 - val_loss: 0.0767 - val_mean_squared_error: 0.0767\n",
      "Epoch 87/300\n",
      "300/300 [==============================] - 0s 515us/step - loss: 0.0716 - mean_squared_error: 0.0716 - val_loss: 0.0810 - val_mean_squared_error: 0.0810\n",
      "Epoch 88/300\n",
      "300/300 [==============================] - 0s 482us/step - loss: 0.0738 - mean_squared_error: 0.0738 - val_loss: 0.0760 - val_mean_squared_error: 0.0760\n",
      "Epoch 89/300\n",
      "300/300 [==============================] - 0s 475us/step - loss: 0.0694 - mean_squared_error: 0.0694 - val_loss: 0.0727 - val_mean_squared_error: 0.0727\n",
      "Epoch 90/300\n",
      "300/300 [==============================] - 0s 485us/step - loss: 0.0691 - mean_squared_error: 0.0691 - val_loss: 0.0763 - val_mean_squared_error: 0.0763\n",
      "Epoch 91/300\n",
      "300/300 [==============================] - 0s 462us/step - loss: 0.0699 - mean_squared_error: 0.0699 - val_loss: 0.0741 - val_mean_squared_error: 0.0741\n",
      "Epoch 92/300\n",
      "300/300 [==============================] - 0s 482us/step - loss: 0.0700 - mean_squared_error: 0.0700 - val_loss: 0.0749 - val_mean_squared_error: 0.0749\n",
      "Epoch 93/300\n",
      "300/300 [==============================] - 0s 465us/step - loss: 0.0688 - mean_squared_error: 0.0688 - val_loss: 0.0732 - val_mean_squared_error: 0.0732\n",
      "Epoch 94/300\n",
      "300/300 [==============================] - 0s 495us/step - loss: 0.0688 - mean_squared_error: 0.0688 - val_loss: 0.0745 - val_mean_squared_error: 0.0745\n",
      "Epoch 95/300\n",
      "300/300 [==============================] - 0s 482us/step - loss: 0.0689 - mean_squared_error: 0.0689 - val_loss: 0.0745 - val_mean_squared_error: 0.0745\n",
      "Epoch 96/300\n",
      "300/300 [==============================] - 0s 469us/step - loss: 0.0698 - mean_squared_error: 0.0698 - val_loss: 0.0751 - val_mean_squared_error: 0.0751\n",
      "Epoch 97/300\n",
      "300/300 [==============================] - 0s 479us/step - loss: 0.0671 - mean_squared_error: 0.0671 - val_loss: 0.0750 - val_mean_squared_error: 0.0750\n",
      "Epoch 98/300\n",
      "300/300 [==============================] - 0s 465us/step - loss: 0.0664 - mean_squared_error: 0.0664 - val_loss: 0.0774 - val_mean_squared_error: 0.0774\n",
      "Epoch 99/300\n"
     ]
    },
    {
     "name": "stdout",
     "output_type": "stream",
     "text": [
      "300/300 [==============================] - 0s 479us/step - loss: 0.0692 - mean_squared_error: 0.0692 - val_loss: 0.0764 - val_mean_squared_error: 0.0764\n",
      "Epoch 100/300\n",
      "300/300 [==============================] - 0s 455us/step - loss: 0.0672 - mean_squared_error: 0.0672 - val_loss: 0.0782 - val_mean_squared_error: 0.0782\n",
      "Epoch 101/300\n",
      "300/300 [==============================] - 0s 465us/step - loss: 0.0683 - mean_squared_error: 0.0683 - val_loss: 0.0791 - val_mean_squared_error: 0.0791\n",
      "Epoch 102/300\n",
      "300/300 [==============================] - 0s 502us/step - loss: 0.0694 - mean_squared_error: 0.0694 - val_loss: 0.0731 - val_mean_squared_error: 0.0731\n",
      "Epoch 103/300\n",
      "300/300 [==============================] - 0s 459us/step - loss: 0.0707 - mean_squared_error: 0.0707 - val_loss: 0.0744 - val_mean_squared_error: 0.0744\n",
      "Epoch 104/300\n",
      "300/300 [==============================] - 0s 459us/step - loss: 0.0689 - mean_squared_error: 0.0689 - val_loss: 0.0818 - val_mean_squared_error: 0.0818\n",
      "Epoch 105/300\n",
      "300/300 [==============================] - 0s 465us/step - loss: 0.0684 - mean_squared_error: 0.0684 - val_loss: 0.0791 - val_mean_squared_error: 0.0791\n",
      "Epoch 106/300\n",
      "300/300 [==============================] - 0s 465us/step - loss: 0.0688 - mean_squared_error: 0.0688 - val_loss: 0.0777 - val_mean_squared_error: 0.0777\n",
      "Epoch 107/300\n",
      "300/300 [==============================] - 0s 455us/step - loss: 0.0695 - mean_squared_error: 0.0695 - val_loss: 0.0786 - val_mean_squared_error: 0.0786\n",
      "Epoch 108/300\n",
      "300/300 [==============================] - 0s 459us/step - loss: 0.0687 - mean_squared_error: 0.0687 - val_loss: 0.0777 - val_mean_squared_error: 0.0777\n",
      "Epoch 109/300\n",
      "300/300 [==============================] - 0s 482us/step - loss: 0.0684 - mean_squared_error: 0.0684 - val_loss: 0.0752 - val_mean_squared_error: 0.0752\n",
      "Epoch 110/300\n",
      "300/300 [==============================] - 0s 485us/step - loss: 0.0686 - mean_squared_error: 0.0686 - val_loss: 0.0750 - val_mean_squared_error: 0.0750\n",
      "Epoch 111/300\n",
      "300/300 [==============================] - 0s 459us/step - loss: 0.0693 - mean_squared_error: 0.0693 - val_loss: 0.0726 - val_mean_squared_error: 0.0726\n",
      "Epoch 112/300\n",
      "300/300 [==============================] - 0s 482us/step - loss: 0.0677 - mean_squared_error: 0.0677 - val_loss: 0.0743 - val_mean_squared_error: 0.0743\n",
      "Epoch 113/300\n",
      "300/300 [==============================] - 0s 482us/step - loss: 0.0660 - mean_squared_error: 0.0660 - val_loss: 0.0760 - val_mean_squared_error: 0.0760\n",
      "Epoch 114/300\n",
      "300/300 [==============================] - 0s 455us/step - loss: 0.0699 - mean_squared_error: 0.0699 - val_loss: 0.0768 - val_mean_squared_error: 0.0768\n",
      "Epoch 115/300\n",
      "300/300 [==============================] - 0s 462us/step - loss: 0.0676 - mean_squared_error: 0.0676 - val_loss: 0.0799 - val_mean_squared_error: 0.0799\n",
      "Epoch 116/300\n",
      "300/300 [==============================] - 0s 495us/step - loss: 0.0695 - mean_squared_error: 0.0695 - val_loss: 0.0731 - val_mean_squared_error: 0.0731\n",
      "Epoch 117/300\n",
      "300/300 [==============================] - 0s 495us/step - loss: 0.0680 - mean_squared_error: 0.0680 - val_loss: 0.0770 - val_mean_squared_error: 0.0770\n",
      "Epoch 118/300\n",
      "300/300 [==============================] - 0s 522us/step - loss: 0.0701 - mean_squared_error: 0.0701 - val_loss: 0.0786 - val_mean_squared_error: 0.0786\n",
      "Epoch 119/300\n",
      "300/300 [==============================] - 0s 472us/step - loss: 0.0692 - mean_squared_error: 0.0692 - val_loss: 0.0773 - val_mean_squared_error: 0.0773\n",
      "Epoch 120/300\n",
      "300/300 [==============================] - 0s 485us/step - loss: 0.0678 - mean_squared_error: 0.0678 - val_loss: 0.0768 - val_mean_squared_error: 0.0768\n",
      "Epoch 121/300\n",
      "300/300 [==============================] - 0s 525us/step - loss: 0.0670 - mean_squared_error: 0.0670 - val_loss: 0.0793 - val_mean_squared_error: 0.0793\n",
      "Epoch 122/300\n",
      "300/300 [==============================] - 0s 492us/step - loss: 0.0686 - mean_squared_error: 0.0686 - val_loss: 0.0821 - val_mean_squared_error: 0.0821\n",
      "Epoch 123/300\n",
      "300/300 [==============================] - 0s 459us/step - loss: 0.0681 - mean_squared_error: 0.0681 - val_loss: 0.0735 - val_mean_squared_error: 0.0735\n",
      "Epoch 124/300\n",
      "300/300 [==============================] - 0s 485us/step - loss: 0.0683 - mean_squared_error: 0.0683 - val_loss: 0.0762 - val_mean_squared_error: 0.0762\n",
      "Epoch 125/300\n",
      "300/300 [==============================] - 0s 485us/step - loss: 0.0676 - mean_squared_error: 0.0676 - val_loss: 0.0755 - val_mean_squared_error: 0.0755\n",
      "Epoch 126/300\n",
      "300/300 [==============================] - 0s 465us/step - loss: 0.0672 - mean_squared_error: 0.0672 - val_loss: 0.0760 - val_mean_squared_error: 0.0760\n",
      "Epoch 127/300\n",
      "300/300 [==============================] - 0s 472us/step - loss: 0.0666 - mean_squared_error: 0.0666 - val_loss: 0.0731 - val_mean_squared_error: 0.0731\n",
      "Epoch 128/300\n",
      "300/300 [==============================] - 0s 469us/step - loss: 0.0681 - mean_squared_error: 0.0681 - val_loss: 0.0720 - val_mean_squared_error: 0.0720\n",
      "Epoch 129/300\n",
      "300/300 [==============================] - 0s 462us/step - loss: 0.0678 - mean_squared_error: 0.0678 - val_loss: 0.0782 - val_mean_squared_error: 0.0782\n",
      "Epoch 130/300\n",
      "300/300 [==============================] - 0s 489us/step - loss: 0.0669 - mean_squared_error: 0.0669 - val_loss: 0.0762 - val_mean_squared_error: 0.0762\n",
      "Epoch 131/300\n",
      "300/300 [==============================] - 0s 492us/step - loss: 0.0677 - mean_squared_error: 0.0677 - val_loss: 0.0755 - val_mean_squared_error: 0.0755\n",
      "Epoch 132/300\n",
      "300/300 [==============================] - 0s 489us/step - loss: 0.0668 - mean_squared_error: 0.0668 - val_loss: 0.0729 - val_mean_squared_error: 0.0729\n",
      "Epoch 133/300\n",
      "300/300 [==============================] - 0s 465us/step - loss: 0.0671 - mean_squared_error: 0.0671 - val_loss: 0.0730 - val_mean_squared_error: 0.0730\n",
      "Epoch 134/300\n",
      "300/300 [==============================] - 0s 465us/step - loss: 0.0654 - mean_squared_error: 0.0654 - val_loss: 0.0759 - val_mean_squared_error: 0.0759\n",
      "Epoch 135/300\n",
      "300/300 [==============================] - 0s 465us/step - loss: 0.0670 - mean_squared_error: 0.0670 - val_loss: 0.0742 - val_mean_squared_error: 0.0742\n",
      "Epoch 136/300\n",
      "300/300 [==============================] - 0s 459us/step - loss: 0.0668 - mean_squared_error: 0.0668 - val_loss: 0.0723 - val_mean_squared_error: 0.0723\n",
      "Epoch 137/300\n",
      "300/300 [==============================] - 0s 462us/step - loss: 0.0663 - mean_squared_error: 0.0663 - val_loss: 0.0714 - val_mean_squared_error: 0.0714\n",
      "Epoch 138/300\n",
      "300/300 [==============================] - 0s 459us/step - loss: 0.0671 - mean_squared_error: 0.0671 - val_loss: 0.0751 - val_mean_squared_error: 0.0751\n",
      "Epoch 139/300\n",
      "300/300 [==============================] - 0s 462us/step - loss: 0.0663 - mean_squared_error: 0.0663 - val_loss: 0.0744 - val_mean_squared_error: 0.0744\n",
      "Epoch 140/300\n",
      "300/300 [==============================] - 0s 519us/step - loss: 0.0665 - mean_squared_error: 0.0665 - val_loss: 0.0702 - val_mean_squared_error: 0.0702\n",
      "Epoch 141/300\n",
      "300/300 [==============================] - 0s 462us/step - loss: 0.0684 - mean_squared_error: 0.0684 - val_loss: 0.0738 - val_mean_squared_error: 0.0738\n",
      "Epoch 142/300\n",
      "300/300 [==============================] - 0s 469us/step - loss: 0.0687 - mean_squared_error: 0.0687 - val_loss: 0.0784 - val_mean_squared_error: 0.0784\n",
      "Epoch 143/300\n",
      "300/300 [==============================] - 0s 469us/step - loss: 0.0662 - mean_squared_error: 0.0662 - val_loss: 0.0767 - val_mean_squared_error: 0.0767\n",
      "Epoch 144/300\n",
      "300/300 [==============================] - 0s 475us/step - loss: 0.0666 - mean_squared_error: 0.0666 - val_loss: 0.0711 - val_mean_squared_error: 0.0711\n",
      "Epoch 145/300\n",
      "300/300 [==============================] - 0s 462us/step - loss: 0.0682 - mean_squared_error: 0.0682 - val_loss: 0.0718 - val_mean_squared_error: 0.0718\n",
      "Epoch 146/300\n",
      "300/300 [==============================] - 0s 455us/step - loss: 0.0682 - mean_squared_error: 0.0682 - val_loss: 0.0744 - val_mean_squared_error: 0.0744\n",
      "Epoch 147/300\n",
      "300/300 [==============================] - 0s 502us/step - loss: 0.0696 - mean_squared_error: 0.0696 - val_loss: 0.0737 - val_mean_squared_error: 0.0737\n",
      "Epoch 148/300\n"
     ]
    },
    {
     "name": "stdout",
     "output_type": "stream",
     "text": [
      "300/300 [==============================] - 0s 532us/step - loss: 0.0663 - mean_squared_error: 0.0663 - val_loss: 0.0777 - val_mean_squared_error: 0.0777\n",
      "Epoch 149/300\n",
      "300/300 [==============================] - 0s 479us/step - loss: 0.0680 - mean_squared_error: 0.0680 - val_loss: 0.0746 - val_mean_squared_error: 0.0746\n",
      "Epoch 150/300\n",
      "300/300 [==============================] - 0s 475us/step - loss: 0.0683 - mean_squared_error: 0.0683 - val_loss: 0.0750 - val_mean_squared_error: 0.0750\n",
      "Epoch 151/300\n",
      "300/300 [==============================] - 0s 512us/step - loss: 0.0658 - mean_squared_error: 0.0658 - val_loss: 0.0731 - val_mean_squared_error: 0.0731\n",
      "Epoch 152/300\n",
      "300/300 [==============================] - 0s 532us/step - loss: 0.0671 - mean_squared_error: 0.0671 - val_loss: 0.0782 - val_mean_squared_error: 0.0782\n",
      "Epoch 153/300\n",
      "300/300 [==============================] - 0s 505us/step - loss: 0.0686 - mean_squared_error: 0.0686 - val_loss: 0.0780 - val_mean_squared_error: 0.0780\n",
      "Epoch 154/300\n",
      "300/300 [==============================] - 0s 485us/step - loss: 0.0672 - mean_squared_error: 0.0672 - val_loss: 0.0772 - val_mean_squared_error: 0.0772\n",
      "Epoch 155/300\n",
      "300/300 [==============================] - 0s 562us/step - loss: 0.0681 - mean_squared_error: 0.0681 - val_loss: 0.0760 - val_mean_squared_error: 0.0760\n",
      "Epoch 156/300\n",
      "300/300 [==============================] - 0s 532us/step - loss: 0.0671 - mean_squared_error: 0.0671 - val_loss: 0.0767 - val_mean_squared_error: 0.0767\n",
      "Epoch 157/300\n",
      "300/300 [==============================] - 0s 525us/step - loss: 0.0683 - mean_squared_error: 0.0683 - val_loss: 0.0747 - val_mean_squared_error: 0.0747\n",
      "Epoch 158/300\n",
      "300/300 [==============================] - 0s 482us/step - loss: 0.0679 - mean_squared_error: 0.0679 - val_loss: 0.0768 - val_mean_squared_error: 0.0768\n",
      "Epoch 159/300\n",
      "300/300 [==============================] - 0s 512us/step - loss: 0.0663 - mean_squared_error: 0.0663 - val_loss: 0.0754 - val_mean_squared_error: 0.0754\n",
      "Epoch 160/300\n",
      "300/300 [==============================] - 0s 509us/step - loss: 0.0669 - mean_squared_error: 0.0669 - val_loss: 0.0714 - val_mean_squared_error: 0.0714\n",
      "Epoch 161/300\n",
      "300/300 [==============================] - 0s 482us/step - loss: 0.0655 - mean_squared_error: 0.0655 - val_loss: 0.0734 - val_mean_squared_error: 0.0734\n",
      "Epoch 162/300\n",
      "300/300 [==============================] - 0s 522us/step - loss: 0.0657 - mean_squared_error: 0.0657 - val_loss: 0.0728 - val_mean_squared_error: 0.0728\n",
      "Epoch 163/300\n",
      "300/300 [==============================] - 0s 512us/step - loss: 0.0650 - mean_squared_error: 0.0650 - val_loss: 0.0741 - val_mean_squared_error: 0.0741\n",
      "Epoch 164/300\n",
      "300/300 [==============================] - 0s 512us/step - loss: 0.0662 - mean_squared_error: 0.0662 - val_loss: 0.0747 - val_mean_squared_error: 0.0747\n",
      "Epoch 165/300\n",
      "300/300 [==============================] - 0s 522us/step - loss: 0.0667 - mean_squared_error: 0.0667 - val_loss: 0.0755 - val_mean_squared_error: 0.0755\n",
      "Epoch 166/300\n",
      "300/300 [==============================] - 0s 509us/step - loss: 0.0688 - mean_squared_error: 0.0688 - val_loss: 0.0766 - val_mean_squared_error: 0.0766\n",
      "Epoch 167/300\n",
      "300/300 [==============================] - 0s 532us/step - loss: 0.0673 - mean_squared_error: 0.0673 - val_loss: 0.0763 - val_mean_squared_error: 0.0763\n",
      "Epoch 168/300\n",
      "300/300 [==============================] - 0s 495us/step - loss: 0.0677 - mean_squared_error: 0.0677 - val_loss: 0.0743 - val_mean_squared_error: 0.0743\n",
      "Epoch 169/300\n",
      "300/300 [==============================] - 0s 549us/step - loss: 0.0677 - mean_squared_error: 0.0677 - val_loss: 0.0728 - val_mean_squared_error: 0.0728\n",
      "Epoch 170/300\n",
      "300/300 [==============================] - 0s 542us/step - loss: 0.0655 - mean_squared_error: 0.0655 - val_loss: 0.0764 - val_mean_squared_error: 0.0764\n",
      "Epoch 171/300\n",
      "300/300 [==============================] - 0s 509us/step - loss: 0.0666 - mean_squared_error: 0.0666 - val_loss: 0.0790 - val_mean_squared_error: 0.0790\n",
      "Epoch 172/300\n",
      "300/300 [==============================] - 0s 522us/step - loss: 0.0663 - mean_squared_error: 0.0663 - val_loss: 0.0770 - val_mean_squared_error: 0.0770\n",
      "Epoch 173/300\n",
      "300/300 [==============================] - 0s 549us/step - loss: 0.0668 - mean_squared_error: 0.0668 - val_loss: 0.0755 - val_mean_squared_error: 0.0755\n",
      "Epoch 174/300\n",
      "300/300 [==============================] - 0s 525us/step - loss: 0.0673 - mean_squared_error: 0.0673 - val_loss: 0.0766 - val_mean_squared_error: 0.0766\n",
      "Epoch 175/300\n",
      "300/300 [==============================] - 0s 509us/step - loss: 0.0693 - mean_squared_error: 0.0693 - val_loss: 0.0784 - val_mean_squared_error: 0.0784\n",
      "Epoch 176/300\n",
      "300/300 [==============================] - 0s 582us/step - loss: 0.0664 - mean_squared_error: 0.0664 - val_loss: 0.0757 - val_mean_squared_error: 0.0757\n",
      "Epoch 177/300\n",
      "300/300 [==============================] - 0s 559us/step - loss: 0.0660 - mean_squared_error: 0.0660 - val_loss: 0.0743 - val_mean_squared_error: 0.0743\n",
      "Epoch 178/300\n",
      "300/300 [==============================] - 0s 549us/step - loss: 0.0641 - mean_squared_error: 0.0641 - val_loss: 0.0766 - val_mean_squared_error: 0.0766\n",
      "Epoch 179/300\n",
      "300/300 [==============================] - 0s 529us/step - loss: 0.0687 - mean_squared_error: 0.0687 - val_loss: 0.0774 - val_mean_squared_error: 0.0774\n",
      "Epoch 180/300\n",
      "300/300 [==============================] - 0s 479us/step - loss: 0.0666 - mean_squared_error: 0.0666 - val_loss: 0.0744 - val_mean_squared_error: 0.0744\n",
      "Epoch 181/300\n",
      "300/300 [==============================] - 0s 509us/step - loss: 0.0682 - mean_squared_error: 0.0682 - val_loss: 0.0744 - val_mean_squared_error: 0.0744\n",
      "Epoch 182/300\n",
      "300/300 [==============================] - 0s 499us/step - loss: 0.0670 - mean_squared_error: 0.0670 - val_loss: 0.0717 - val_mean_squared_error: 0.0717\n",
      "Epoch 183/300\n",
      "300/300 [==============================] - 0s 525us/step - loss: 0.0666 - mean_squared_error: 0.0666 - val_loss: 0.0722 - val_mean_squared_error: 0.0722\n",
      "Epoch 184/300\n",
      "300/300 [==============================] - 0s 485us/step - loss: 0.0661 - mean_squared_error: 0.0661 - val_loss: 0.0731 - val_mean_squared_error: 0.0731\n",
      "Epoch 185/300\n",
      "300/300 [==============================] - 0s 469us/step - loss: 0.0672 - mean_squared_error: 0.0672 - val_loss: 0.0768 - val_mean_squared_error: 0.0768\n",
      "Epoch 186/300\n",
      "300/300 [==============================] - 0s 492us/step - loss: 0.0669 - mean_squared_error: 0.0669 - val_loss: 0.0742 - val_mean_squared_error: 0.0742\n",
      "Epoch 187/300\n",
      "300/300 [==============================] - 0s 459us/step - loss: 0.0675 - mean_squared_error: 0.0675 - val_loss: 0.0727 - val_mean_squared_error: 0.0727\n",
      "Epoch 188/300\n",
      "300/300 [==============================] - 0s 445us/step - loss: 0.0664 - mean_squared_error: 0.0664 - val_loss: 0.0776 - val_mean_squared_error: 0.0776\n",
      "Epoch 189/300\n",
      "300/300 [==============================] - 0s 502us/step - loss: 0.0661 - mean_squared_error: 0.0661 - val_loss: 0.0755 - val_mean_squared_error: 0.0755\n",
      "Epoch 190/300\n",
      "300/300 [==============================] - 0s 535us/step - loss: 0.0684 - mean_squared_error: 0.0684 - val_loss: 0.0747 - val_mean_squared_error: 0.0747\n",
      "Epoch 191/300\n",
      "300/300 [==============================] - 0s 512us/step - loss: 0.0667 - mean_squared_error: 0.0667 - val_loss: 0.0749 - val_mean_squared_error: 0.0749\n",
      "Epoch 192/300\n",
      "300/300 [==============================] - 0s 462us/step - loss: 0.0690 - mean_squared_error: 0.0690 - val_loss: 0.0756 - val_mean_squared_error: 0.0756\n",
      "Epoch 193/300\n",
      "300/300 [==============================] - 0s 482us/step - loss: 0.0678 - mean_squared_error: 0.0678 - val_loss: 0.0758 - val_mean_squared_error: 0.0758\n",
      "Epoch 194/300\n",
      "300/300 [==============================] - 0s 492us/step - loss: 0.0659 - mean_squared_error: 0.0659 - val_loss: 0.0768 - val_mean_squared_error: 0.0768\n",
      "Epoch 195/300\n",
      "300/300 [==============================] - 0s 475us/step - loss: 0.0658 - mean_squared_error: 0.0658 - val_loss: 0.0725 - val_mean_squared_error: 0.0725\n",
      "Epoch 196/300\n",
      "300/300 [==============================] - 0s 495us/step - loss: 0.0666 - mean_squared_error: 0.0666 - val_loss: 0.0734 - val_mean_squared_error: 0.0734\n",
      "Epoch 197/300\n"
     ]
    },
    {
     "name": "stdout",
     "output_type": "stream",
     "text": [
      "300/300 [==============================] - 0s 485us/step - loss: 0.0653 - mean_squared_error: 0.0653 - val_loss: 0.0754 - val_mean_squared_error: 0.0754\n",
      "Epoch 198/300\n",
      "300/300 [==============================] - 0s 519us/step - loss: 0.0650 - mean_squared_error: 0.0650 - val_loss: 0.0758 - val_mean_squared_error: 0.0758\n",
      "Epoch 199/300\n",
      "300/300 [==============================] - 0s 462us/step - loss: 0.0660 - mean_squared_error: 0.0660 - val_loss: 0.0753 - val_mean_squared_error: 0.0753\n",
      "Epoch 200/300\n",
      "300/300 [==============================] - 0s 472us/step - loss: 0.0687 - mean_squared_error: 0.0687 - val_loss: 0.0767 - val_mean_squared_error: 0.0767\n",
      "Epoch 201/300\n",
      "300/300 [==============================] - 0s 479us/step - loss: 0.0689 - mean_squared_error: 0.0689 - val_loss: 0.0774 - val_mean_squared_error: 0.0774\n",
      "Epoch 202/300\n",
      "300/300 [==============================] - 0s 492us/step - loss: 0.0671 - mean_squared_error: 0.0671 - val_loss: 0.0783 - val_mean_squared_error: 0.0783\n",
      "Epoch 203/300\n",
      "300/300 [==============================] - 0s 479us/step - loss: 0.0660 - mean_squared_error: 0.0660 - val_loss: 0.0754 - val_mean_squared_error: 0.0754\n",
      "Epoch 204/300\n",
      "300/300 [==============================] - 0s 492us/step - loss: 0.0667 - mean_squared_error: 0.0667 - val_loss: 0.0736 - val_mean_squared_error: 0.0736\n",
      "Epoch 205/300\n",
      "300/300 [==============================] - 0s 485us/step - loss: 0.0654 - mean_squared_error: 0.0654 - val_loss: 0.0712 - val_mean_squared_error: 0.0712\n",
      "Epoch 206/300\n",
      "300/300 [==============================] - 0s 492us/step - loss: 0.0663 - mean_squared_error: 0.0663 - val_loss: 0.0725 - val_mean_squared_error: 0.0725\n",
      "Epoch 207/300\n",
      "300/300 [==============================] - 0s 532us/step - loss: 0.0664 - mean_squared_error: 0.0664 - val_loss: 0.0751 - val_mean_squared_error: 0.0751\n",
      "Epoch 208/300\n",
      "300/300 [==============================] - 0s 608us/step - loss: 0.0642 - mean_squared_error: 0.0642 - val_loss: 0.0747 - val_mean_squared_error: 0.0747\n",
      "Epoch 209/300\n",
      "300/300 [==============================] - 0s 512us/step - loss: 0.0662 - mean_squared_error: 0.0662 - val_loss: 0.0793 - val_mean_squared_error: 0.0793\n",
      "Epoch 210/300\n",
      "300/300 [==============================] - 0s 529us/step - loss: 0.0660 - mean_squared_error: 0.0660 - val_loss: 0.0761 - val_mean_squared_error: 0.0761\n",
      "Epoch 211/300\n",
      "300/300 [==============================] - 0s 462us/step - loss: 0.0649 - mean_squared_error: 0.0649 - val_loss: 0.0731 - val_mean_squared_error: 0.0731\n",
      "Epoch 212/300\n",
      "300/300 [==============================] - 0s 479us/step - loss: 0.0658 - mean_squared_error: 0.0658 - val_loss: 0.0706 - val_mean_squared_error: 0.0706\n",
      "Epoch 213/300\n",
      "300/300 [==============================] - 0s 479us/step - loss: 0.0658 - mean_squared_error: 0.0658 - val_loss: 0.0726 - val_mean_squared_error: 0.0726\n",
      "Epoch 214/300\n",
      "300/300 [==============================] - 0s 482us/step - loss: 0.0664 - mean_squared_error: 0.0664 - val_loss: 0.0722 - val_mean_squared_error: 0.0722\n",
      "Epoch 215/300\n",
      "300/300 [==============================] - 0s 475us/step - loss: 0.0658 - mean_squared_error: 0.0658 - val_loss: 0.0744 - val_mean_squared_error: 0.0744\n",
      "Epoch 216/300\n",
      "300/300 [==============================] - 0s 475us/step - loss: 0.0664 - mean_squared_error: 0.0664 - val_loss: 0.0715 - val_mean_squared_error: 0.0715\n",
      "Epoch 217/300\n",
      "300/300 [==============================] - 0s 475us/step - loss: 0.0657 - mean_squared_error: 0.0657 - val_loss: 0.0717 - val_mean_squared_error: 0.0717\n",
      "Epoch 218/300\n",
      "300/300 [==============================] - 0s 455us/step - loss: 0.0653 - mean_squared_error: 0.0653 - val_loss: 0.0730 - val_mean_squared_error: 0.0730\n",
      "Epoch 219/300\n",
      "300/300 [==============================] - 0s 459us/step - loss: 0.0644 - mean_squared_error: 0.0644 - val_loss: 0.0756 - val_mean_squared_error: 0.0756\n",
      "Epoch 220/300\n",
      "300/300 [==============================] - 0s 512us/step - loss: 0.0657 - mean_squared_error: 0.0657 - val_loss: 0.0704 - val_mean_squared_error: 0.0704\n",
      "Epoch 221/300\n",
      "300/300 [==============================] - 0s 482us/step - loss: 0.0663 - mean_squared_error: 0.0663 - val_loss: 0.0751 - val_mean_squared_error: 0.0751\n",
      "Epoch 222/300\n",
      "300/300 [==============================] - 0s 432us/step - loss: 0.0664 - mean_squared_error: 0.0664 - val_loss: 0.0772 - val_mean_squared_error: 0.0772\n",
      "Epoch 223/300\n",
      "300/300 [==============================] - 0s 472us/step - loss: 0.0644 - mean_squared_error: 0.0644 - val_loss: 0.0753 - val_mean_squared_error: 0.0753\n",
      "Epoch 224/300\n",
      "300/300 [==============================] - 0s 475us/step - loss: 0.0651 - mean_squared_error: 0.0651 - val_loss: 0.0751 - val_mean_squared_error: 0.0751\n",
      "Epoch 225/300\n",
      "300/300 [==============================] - 0s 502us/step - loss: 0.0649 - mean_squared_error: 0.0649 - val_loss: 0.0766 - val_mean_squared_error: 0.0766\n",
      "Epoch 226/300\n",
      "300/300 [==============================] - 0s 452us/step - loss: 0.0663 - mean_squared_error: 0.0663 - val_loss: 0.0771 - val_mean_squared_error: 0.0771\n",
      "Epoch 227/300\n",
      "300/300 [==============================] - 0s 449us/step - loss: 0.0656 - mean_squared_error: 0.0656 - val_loss: 0.0732 - val_mean_squared_error: 0.0732\n",
      "Epoch 228/300\n",
      "300/300 [==============================] - 0s 532us/step - loss: 0.0657 - mean_squared_error: 0.0657 - val_loss: 0.0750 - val_mean_squared_error: 0.0750\n",
      "Epoch 229/300\n",
      "300/300 [==============================] - 0s 489us/step - loss: 0.0678 - mean_squared_error: 0.0678 - val_loss: 0.0776 - val_mean_squared_error: 0.0776\n",
      "Epoch 230/300\n",
      "300/300 [==============================] - 0s 515us/step - loss: 0.0666 - mean_squared_error: 0.0666 - val_loss: 0.0739 - val_mean_squared_error: 0.0739\n",
      "Epoch 231/300\n",
      "300/300 [==============================] - 0s 469us/step - loss: 0.0684 - mean_squared_error: 0.0684 - val_loss: 0.0733 - val_mean_squared_error: 0.0733\n",
      "Epoch 232/300\n",
      "300/300 [==============================] - 0s 512us/step - loss: 0.0670 - mean_squared_error: 0.0670 - val_loss: 0.0773 - val_mean_squared_error: 0.0773\n",
      "Epoch 233/300\n",
      "300/300 [==============================] - 0s 459us/step - loss: 0.0664 - mean_squared_error: 0.0664 - val_loss: 0.0770 - val_mean_squared_error: 0.0770\n",
      "Epoch 234/300\n",
      "300/300 [==============================] - 0s 469us/step - loss: 0.0671 - mean_squared_error: 0.0671 - val_loss: 0.0775 - val_mean_squared_error: 0.0775\n",
      "Epoch 235/300\n",
      "300/300 [==============================] - 0s 495us/step - loss: 0.0664 - mean_squared_error: 0.0664 - val_loss: 0.0721 - val_mean_squared_error: 0.0721\n",
      "Epoch 236/300\n",
      "300/300 [==============================] - 0s 522us/step - loss: 0.0648 - mean_squared_error: 0.0648 - val_loss: 0.0729 - val_mean_squared_error: 0.0729\n",
      "Epoch 237/300\n",
      "300/300 [==============================] - 0s 475us/step - loss: 0.0649 - mean_squared_error: 0.0649 - val_loss: 0.0750 - val_mean_squared_error: 0.0750\n",
      "Epoch 238/300\n",
      "300/300 [==============================] - 0s 459us/step - loss: 0.0636 - mean_squared_error: 0.0636 - val_loss: 0.0726 - val_mean_squared_error: 0.0726\n",
      "Epoch 239/300\n",
      "300/300 [==============================] - 0s 499us/step - loss: 0.0635 - mean_squared_error: 0.0635 - val_loss: 0.0755 - val_mean_squared_error: 0.0755\n",
      "Epoch 240/300\n",
      "300/300 [==============================] - 0s 469us/step - loss: 0.0655 - mean_squared_error: 0.0655 - val_loss: 0.0730 - val_mean_squared_error: 0.0730\n",
      "Epoch 241/300\n",
      "300/300 [==============================] - 0s 465us/step - loss: 0.0643 - mean_squared_error: 0.0643 - val_loss: 0.0718 - val_mean_squared_error: 0.0718\n",
      "Epoch 242/300\n",
      "300/300 [==============================] - 0s 472us/step - loss: 0.0649 - mean_squared_error: 0.0649 - val_loss: 0.0745 - val_mean_squared_error: 0.0745\n",
      "Epoch 243/300\n",
      "300/300 [==============================] - 0s 485us/step - loss: 0.0653 - mean_squared_error: 0.0653 - val_loss: 0.0733 - val_mean_squared_error: 0.0733\n",
      "Epoch 244/300\n",
      "300/300 [==============================] - 0s 455us/step - loss: 0.0632 - mean_squared_error: 0.0632 - val_loss: 0.0727 - val_mean_squared_error: 0.0727\n",
      "Epoch 245/300\n",
      "300/300 [==============================] - 0s 462us/step - loss: 0.0641 - mean_squared_error: 0.0641 - val_loss: 0.0733 - val_mean_squared_error: 0.0733\n",
      "Epoch 246/300\n"
     ]
    },
    {
     "name": "stdout",
     "output_type": "stream",
     "text": [
      "300/300 [==============================] - 0s 465us/step - loss: 0.0654 - mean_squared_error: 0.0654 - val_loss: 0.0717 - val_mean_squared_error: 0.0717\n",
      "Epoch 247/300\n",
      "300/300 [==============================] - 0s 472us/step - loss: 0.0646 - mean_squared_error: 0.0646 - val_loss: 0.0757 - val_mean_squared_error: 0.0757\n",
      "Epoch 248/300\n",
      "300/300 [==============================] - 0s 472us/step - loss: 0.0650 - mean_squared_error: 0.0650 - val_loss: 0.0716 - val_mean_squared_error: 0.0716\n",
      "Epoch 249/300\n",
      "300/300 [==============================] - 0s 492us/step - loss: 0.0660 - mean_squared_error: 0.0660 - val_loss: 0.0738 - val_mean_squared_error: 0.0738\n",
      "Epoch 250/300\n",
      "300/300 [==============================] - 0s 499us/step - loss: 0.0668 - mean_squared_error: 0.0668 - val_loss: 0.0739 - val_mean_squared_error: 0.0739\n",
      "Epoch 251/300\n",
      "300/300 [==============================] - 0s 525us/step - loss: 0.0652 - mean_squared_error: 0.0652 - val_loss: 0.0708 - val_mean_squared_error: 0.0708\n",
      "Epoch 252/300\n",
      "300/300 [==============================] - 0s 489us/step - loss: 0.0649 - mean_squared_error: 0.0649 - val_loss: 0.0738 - val_mean_squared_error: 0.0738\n",
      "Epoch 253/300\n",
      "300/300 [==============================] - 0s 499us/step - loss: 0.0653 - mean_squared_error: 0.0653 - val_loss: 0.0760 - val_mean_squared_error: 0.0760\n",
      "Epoch 254/300\n",
      "300/300 [==============================] - 0s 565us/step - loss: 0.0657 - mean_squared_error: 0.0657 - val_loss: 0.0716 - val_mean_squared_error: 0.0716\n",
      "Epoch 255/300\n",
      "300/300 [==============================] - 0s 495us/step - loss: 0.0654 - mean_squared_error: 0.0654 - val_loss: 0.0751 - val_mean_squared_error: 0.0751\n",
      "Epoch 256/300\n",
      "300/300 [==============================] - 0s 485us/step - loss: 0.0665 - mean_squared_error: 0.0665 - val_loss: 0.0699 - val_mean_squared_error: 0.0699\n",
      "Epoch 257/300\n",
      "300/300 [==============================] - 0s 519us/step - loss: 0.0672 - mean_squared_error: 0.0672 - val_loss: 0.0702 - val_mean_squared_error: 0.0702\n",
      "Epoch 258/300\n",
      "300/300 [==============================] - 0s 495us/step - loss: 0.0643 - mean_squared_error: 0.0643 - val_loss: 0.0738 - val_mean_squared_error: 0.0738\n",
      "Epoch 259/300\n",
      "300/300 [==============================] - 0s 459us/step - loss: 0.0664 - mean_squared_error: 0.0664 - val_loss: 0.0794 - val_mean_squared_error: 0.0794\n",
      "Epoch 260/300\n",
      "300/300 [==============================] - 0s 475us/step - loss: 0.0654 - mean_squared_error: 0.0654 - val_loss: 0.0770 - val_mean_squared_error: 0.0770\n",
      "Epoch 261/300\n",
      "300/300 [==============================] - 0s 462us/step - loss: 0.0668 - mean_squared_error: 0.0668 - val_loss: 0.0738 - val_mean_squared_error: 0.0738\n",
      "Epoch 262/300\n",
      "300/300 [==============================] - 0s 462us/step - loss: 0.0655 - mean_squared_error: 0.0655 - val_loss: 0.0725 - val_mean_squared_error: 0.0725\n",
      "Epoch 263/300\n",
      "300/300 [==============================] - 0s 449us/step - loss: 0.0643 - mean_squared_error: 0.0643 - val_loss: 0.0784 - val_mean_squared_error: 0.0784\n",
      "Epoch 264/300\n",
      "300/300 [==============================] - 0s 475us/step - loss: 0.0653 - mean_squared_error: 0.0653 - val_loss: 0.0763 - val_mean_squared_error: 0.0763\n",
      "Epoch 265/300\n",
      "300/300 [==============================] - 0s 459us/step - loss: 0.0655 - mean_squared_error: 0.0655 - val_loss: 0.0764 - val_mean_squared_error: 0.0764\n",
      "Epoch 266/300\n",
      "300/300 [==============================] - 0s 519us/step - loss: 0.0640 - mean_squared_error: 0.0640 - val_loss: 0.0745 - val_mean_squared_error: 0.0745\n",
      "Epoch 267/300\n",
      "300/300 [==============================] - 0s 578us/step - loss: 0.0645 - mean_squared_error: 0.0645 - val_loss: 0.0705 - val_mean_squared_error: 0.0705\n",
      "Epoch 268/300\n",
      "300/300 [==============================] - 0s 539us/step - loss: 0.0649 - mean_squared_error: 0.0649 - val_loss: 0.0715 - val_mean_squared_error: 0.0715\n",
      "Epoch 269/300\n",
      "300/300 [==============================] - 0s 552us/step - loss: 0.0649 - mean_squared_error: 0.0649 - val_loss: 0.0787 - val_mean_squared_error: 0.0787\n",
      "Epoch 270/300\n",
      "300/300 [==============================] - 0s 492us/step - loss: 0.0625 - mean_squared_error: 0.0625 - val_loss: 0.0760 - val_mean_squared_error: 0.0760\n",
      "Epoch 271/300\n",
      "300/300 [==============================] - 0s 485us/step - loss: 0.0649 - mean_squared_error: 0.0649 - val_loss: 0.0788 - val_mean_squared_error: 0.0788\n",
      "Epoch 272/300\n",
      "300/300 [==============================] - 0s 502us/step - loss: 0.0649 - mean_squared_error: 0.0649 - val_loss: 0.0752 - val_mean_squared_error: 0.0752\n",
      "Epoch 273/300\n",
      "300/300 [==============================] - 0s 549us/step - loss: 0.0667 - mean_squared_error: 0.0667 - val_loss: 0.0731 - val_mean_squared_error: 0.0731\n",
      "Epoch 274/300\n",
      "300/300 [==============================] - 0s 499us/step - loss: 0.0652 - mean_squared_error: 0.0652 - val_loss: 0.0761 - val_mean_squared_error: 0.0761\n",
      "Epoch 275/300\n",
      "300/300 [==============================] - 0s 485us/step - loss: 0.0670 - mean_squared_error: 0.0670 - val_loss: 0.0754 - val_mean_squared_error: 0.0754\n",
      "Epoch 276/300\n",
      "300/300 [==============================] - 0s 492us/step - loss: 0.0658 - mean_squared_error: 0.0658 - val_loss: 0.0736 - val_mean_squared_error: 0.0736\n",
      "Epoch 277/300\n",
      "300/300 [==============================] - 0s 522us/step - loss: 0.0639 - mean_squared_error: 0.0639 - val_loss: 0.0771 - val_mean_squared_error: 0.0771\n",
      "Epoch 278/300\n",
      "300/300 [==============================] - 0s 475us/step - loss: 0.0648 - mean_squared_error: 0.0648 - val_loss: 0.0727 - val_mean_squared_error: 0.0727\n",
      "Epoch 279/300\n",
      "300/300 [==============================] - 0s 459us/step - loss: 0.0633 - mean_squared_error: 0.0633 - val_loss: 0.0794 - val_mean_squared_error: 0.0794\n",
      "Epoch 280/300\n",
      "300/300 [==============================] - 0s 495us/step - loss: 0.0661 - mean_squared_error: 0.0661 - val_loss: 0.0728 - val_mean_squared_error: 0.0728\n",
      "Epoch 281/300\n",
      "300/300 [==============================] - 0s 452us/step - loss: 0.0655 - mean_squared_error: 0.0655 - val_loss: 0.0721 - val_mean_squared_error: 0.0721\n",
      "Epoch 282/300\n",
      "300/300 [==============================] - 0s 445us/step - loss: 0.0659 - mean_squared_error: 0.0659 - val_loss: 0.0744 - val_mean_squared_error: 0.0744\n",
      "Epoch 283/300\n",
      "300/300 [==============================] - 0s 455us/step - loss: 0.0649 - mean_squared_error: 0.0649 - val_loss: 0.0801 - val_mean_squared_error: 0.0801\n",
      "Epoch 284/300\n",
      "300/300 [==============================] - 0s 455us/step - loss: 0.0645 - mean_squared_error: 0.0645 - val_loss: 0.0733 - val_mean_squared_error: 0.0733\n",
      "Epoch 285/300\n",
      "300/300 [==============================] - 0s 436us/step - loss: 0.0638 - mean_squared_error: 0.0638 - val_loss: 0.0710 - val_mean_squared_error: 0.0710\n",
      "Epoch 286/300\n",
      "300/300 [==============================] - 0s 442us/step - loss: 0.0649 - mean_squared_error: 0.0649 - val_loss: 0.0729 - val_mean_squared_error: 0.0729\n",
      "Epoch 287/300\n",
      "300/300 [==============================] - 0s 475us/step - loss: 0.0637 - mean_squared_error: 0.0637 - val_loss: 0.0742 - val_mean_squared_error: 0.0742\n",
      "Epoch 288/300\n",
      "300/300 [==============================] - 0s 469us/step - loss: 0.0659 - mean_squared_error: 0.0659 - val_loss: 0.0757 - val_mean_squared_error: 0.0757\n",
      "Epoch 289/300\n",
      "300/300 [==============================] - 0s 445us/step - loss: 0.0656 - mean_squared_error: 0.0656 - val_loss: 0.0722 - val_mean_squared_error: 0.0722\n",
      "Epoch 290/300\n",
      "300/300 [==============================] - 0s 432us/step - loss: 0.0647 - mean_squared_error: 0.0647 - val_loss: 0.0733 - val_mean_squared_error: 0.0733\n",
      "Epoch 291/300\n",
      "300/300 [==============================] - 0s 452us/step - loss: 0.0661 - mean_squared_error: 0.0661 - val_loss: 0.0755 - val_mean_squared_error: 0.0755\n",
      "Epoch 292/300\n",
      "300/300 [==============================] - 0s 442us/step - loss: 0.0649 - mean_squared_error: 0.0649 - val_loss: 0.0756 - val_mean_squared_error: 0.0756\n",
      "Epoch 293/300\n",
      "300/300 [==============================] - 0s 442us/step - loss: 0.0640 - mean_squared_error: 0.0640 - val_loss: 0.0767 - val_mean_squared_error: 0.0767\n",
      "Epoch 294/300\n",
      "300/300 [==============================] - 0s 442us/step - loss: 0.0632 - mean_squared_error: 0.0632 - val_loss: 0.0752 - val_mean_squared_error: 0.0752\n",
      "Epoch 295/300\n"
     ]
    },
    {
     "name": "stdout",
     "output_type": "stream",
     "text": [
      "300/300 [==============================] - 0s 462us/step - loss: 0.0646 - mean_squared_error: 0.0646 - val_loss: 0.0741 - val_mean_squared_error: 0.0741\n",
      "Epoch 296/300\n",
      "300/300 [==============================] - 0s 472us/step - loss: 0.0650 - mean_squared_error: 0.0650 - val_loss: 0.0771 - val_mean_squared_error: 0.0771\n",
      "Epoch 297/300\n",
      "300/300 [==============================] - 0s 422us/step - loss: 0.0632 - mean_squared_error: 0.0632 - val_loss: 0.0723 - val_mean_squared_error: 0.0723\n",
      "Epoch 298/300\n",
      "300/300 [==============================] - 0s 462us/step - loss: 0.0642 - mean_squared_error: 0.0642 - val_loss: 0.0772 - val_mean_squared_error: 0.0772\n",
      "Epoch 299/300\n",
      "300/300 [==============================] - 0s 429us/step - loss: 0.0641 - mean_squared_error: 0.0641 - val_loss: 0.0745 - val_mean_squared_error: 0.0745\n",
      "Epoch 300/300\n",
      "300/300 [==============================] - 0s 436us/step - loss: 0.0659 - mean_squared_error: 0.0659 - val_loss: 0.0704 - val_mean_squared_error: 0.0704\n"
     ]
    }
   ],
   "source": [
    "regressor.compile(optimizer=\"adam\", loss='mse', metrics= [\"mse\"])\n",
    "history=regressor.fit(X_train,Y_train,validation_data=(X_validation,Y_validation),batch_size=32, epochs=300)"
   ]
  },
  {
   "cell_type": "markdown",
   "metadata": {},
   "source": [
    "Let's vizualise the train-MSE and the validation-MSE"
   ]
  },
  {
   "cell_type": "code",
   "execution_count": 72,
   "metadata": {},
   "outputs": [
    {
     "data": {
      "text/plain": [
       "[<matplotlib.lines.Line2D at 0x1e309ff98d0>]"
      ]
     },
     "execution_count": 72,
     "metadata": {},
     "output_type": "execute_result"
    },
    {
     "data": {
      "image/png": "[encoded data removed]",
      "text/plain": [
       "<Figure size 432x288 with 1 Axes>"
      ]
     },
     "metadata": {
      "needs_background": "light"
     },
     "output_type": "display_data"
    }
   ],
   "source": [
    "plt.plot(history.history[\"mean_squared_error\"])\n",
    "plt.plot(history.history[\"val_mean_squared_error\"])"
   ]
  },
  {
   "cell_type": "markdown",
   "metadata": {},
   "source": [
    "Let's create our data-test"
   ]
  },
  {
   "cell_type": "code",
   "execution_count": 73,
   "metadata": {},
   "outputs": [
    {
     "name": "stdout",
     "output_type": "stream",
     "text": [
      "Creating data:\n",
      "0\n",
      "10\n",
      "20\n",
      "30\n",
      "40\n",
      "50\n",
      "60\n",
      "70\n",
      "80\n",
      "90\n",
      "100\n",
      "110\n",
      "120\n",
      "130\n",
      "140\n",
      "150\n",
      "160\n",
      "170\n",
      "180\n",
      "190\n",
      "200\n",
      "210\n",
      "220\n",
      "230\n",
      "240\n",
      "250\n",
      "260\n",
      "270\n",
      "280\n",
      "290\n"
     ]
    }
   ],
   "source": [
    "[X_test, Y_test] = generate_test_set_regression()"
   ]
  },
  {
   "cell_type": "code",
   "execution_count": 74,
   "metadata": {},
   "outputs": [],
   "source": [
    "Y_pred=regressor.predict(X_test)"
   ]
  },
  {
   "cell_type": "code",
   "execution_count": 75,
   "metadata": {},
   "outputs": [
    {
     "ename": "NameError",
     "evalue": "name 'patches' is not defined",
     "output_type": "error",
     "traceback": [
      "\u001b[1;31m---------------------------------------------------------------------------\u001b[0m",
      "\u001b[1;31mNameError\u001b[0m                                 Traceback (most recent call last)",
      "\u001b[1;32m<ipython-input-75-3ad9245265d2>\u001b[0m in \u001b[0;36m<module>\u001b[1;34m\u001b[0m\n\u001b[1;32m----> 1\u001b[1;33m \u001b[0mvisualize_prediction\u001b[0m\u001b[1;33m(\u001b[0m\u001b[0mX_test\u001b[0m\u001b[1;33m[\u001b[0m\u001b[1;36m2\u001b[0m\u001b[1;33m]\u001b[0m\u001b[1;33m,\u001b[0m \u001b[0mY_test\u001b[0m\u001b[1;33m[\u001b[0m\u001b[1;36m2\u001b[0m\u001b[1;33m]\u001b[0m\u001b[1;33m)\u001b[0m\u001b[1;33m\u001b[0m\u001b[1;33m\u001b[0m\u001b[0m\n\u001b[0m\u001b[0;32m      2\u001b[0m \u001b[0mvisualize_prediction\u001b[0m\u001b[1;33m(\u001b[0m\u001b[0mX_test\u001b[0m\u001b[1;33m[\u001b[0m\u001b[1;36m2\u001b[0m\u001b[1;33m]\u001b[0m\u001b[1;33m,\u001b[0m \u001b[0mY_pred\u001b[0m\u001b[1;33m[\u001b[0m\u001b[1;36m2\u001b[0m\u001b[1;33m]\u001b[0m\u001b[1;33m)\u001b[0m\u001b[1;33m\u001b[0m\u001b[1;33m\u001b[0m\u001b[0m\n",
      "\u001b[1;32m<ipython-input-10-5776d3d982a4>\u001b[0m in \u001b[0;36mvisualize_prediction\u001b[1;34m(x, y)\u001b[0m\n\u001b[0;32m      7\u001b[0m \u001b[1;33m\u001b[0m\u001b[0m\n\u001b[0;32m      8\u001b[0m     \u001b[0mxy\u001b[0m \u001b[1;33m=\u001b[0m \u001b[0my\u001b[0m\u001b[1;33m.\u001b[0m\u001b[0mreshape\u001b[0m\u001b[1;33m(\u001b[0m\u001b[1;36m3\u001b[0m\u001b[1;33m,\u001b[0m\u001b[1;36m2\u001b[0m\u001b[1;33m)\u001b[0m\u001b[1;33m\u001b[0m\u001b[1;33m\u001b[0m\u001b[0m\n\u001b[1;32m----> 9\u001b[1;33m     \u001b[0mtri\u001b[0m \u001b[1;33m=\u001b[0m \u001b[0mpatches\u001b[0m\u001b[1;33m.\u001b[0m\u001b[0mPolygon\u001b[0m\u001b[1;33m(\u001b[0m\u001b[0mxy\u001b[0m\u001b[1;33m,\u001b[0m \u001b[0mclosed\u001b[0m\u001b[1;33m=\u001b[0m\u001b[1;32mTrue\u001b[0m\u001b[1;33m,\u001b[0m \u001b[0mfill\u001b[0m \u001b[1;33m=\u001b[0m \u001b[1;32mFalse\u001b[0m\u001b[1;33m,\u001b[0m \u001b[0medgecolor\u001b[0m \u001b[1;33m=\u001b[0m \u001b[1;34m'r'\u001b[0m\u001b[1;33m,\u001b[0m \u001b[0mlinewidth\u001b[0m \u001b[1;33m=\u001b[0m \u001b[1;36m5\u001b[0m\u001b[1;33m,\u001b[0m \u001b[0malpha\u001b[0m \u001b[1;33m=\u001b[0m \u001b[1;36m0.5\u001b[0m\u001b[1;33m)\u001b[0m\u001b[1;33m\u001b[0m\u001b[1;33m\u001b[0m\u001b[0m\n\u001b[0m\u001b[0;32m     10\u001b[0m     \u001b[0max\u001b[0m\u001b[1;33m.\u001b[0m\u001b[0madd_patch\u001b[0m\u001b[1;33m(\u001b[0m\u001b[0mtri\u001b[0m\u001b[1;33m)\u001b[0m\u001b[1;33m\u001b[0m\u001b[1;33m\u001b[0m\u001b[0m\n\u001b[0;32m     11\u001b[0m \u001b[1;33m\u001b[0m\u001b[0m\n",
      "\u001b[1;31mNameError\u001b[0m: name 'patches' is not defined"
     ]
    },
    {
     "data": {
      "image/png": "[encoded data removed]",
      "text/plain": [
       "<Figure size 360x360 with 1 Axes>"
      ]
     },
     "metadata": {
      "needs_background": "light"
     },
     "output_type": "display_data"
    }
   ],
   "source": [
    "visualize_prediction(X_test[2], Y_test[2])\n",
    "visualize_prediction(X_test[2], Y_pred[2])"
   ]
  },
  {
   "cell_type": "code",
   "execution_count": 82,
   "metadata": {},
   "outputs": [],
   "source": [
    "X_train = X_train.reshape([-1, 72,72,1])\n",
    "X_validation = X_validation.reshape([-1, 72,72,1])"
   ]
  },
  {
   "cell_type": "code",
   "execution_count": 83,
   "metadata": {},
   "outputs": [],
   "source": [
    "CNN_regressor = Sequential()"
   ]
  },
  {
   "cell_type": "code",
   "execution_count": 84,
   "metadata": {},
   "outputs": [
    {
     "name": "stdout",
     "output_type": "stream",
     "text": [
      "Train on 300 samples, validate on 300 samples\n",
      "Epoch 1/20\n",
      "160/300 [===============>..............] - ETA: 33s - loss: 0.3356 - mean_squared_error: 0.3356"
     ]
    },
    {
     "ename": "KeyboardInterrupt",
     "evalue": "",
     "output_type": "error",
     "traceback": [
      "\u001b[1;31m---------------------------------------------------------------------------\u001b[0m",
      "\u001b[1;31mKeyboardInterrupt\u001b[0m                         Traceback (most recent call last)",
      "\u001b[1;32m<ipython-input-84-22e89966e39c>\u001b[0m in \u001b[0;36m<module>\u001b[1;34m\u001b[0m\n\u001b[0;32m     18\u001b[0m \u001b[0mCNN_regressor\u001b[0m\u001b[1;33m.\u001b[0m\u001b[0mcompile\u001b[0m\u001b[1;33m(\u001b[0m\u001b[0mloss\u001b[0m\u001b[1;33m=\u001b[0m\u001b[1;34m'mse'\u001b[0m\u001b[1;33m,\u001b[0m \u001b[0moptimizer\u001b[0m\u001b[1;33m=\u001b[0m\u001b[1;34m'adam'\u001b[0m\u001b[1;33m,\u001b[0m \u001b[0mmetrics\u001b[0m\u001b[1;33m=\u001b[0m \u001b[1;33m[\u001b[0m\u001b[1;34m\"mse\"\u001b[0m\u001b[1;33m]\u001b[0m\u001b[1;33m)\u001b[0m\u001b[1;33m\u001b[0m\u001b[1;33m\u001b[0m\u001b[0m\n\u001b[0;32m     19\u001b[0m \u001b[1;31m#CNN_classifier.fit_generator((X_Train,Y_Train),steps_per_epoch=X_train.shape[0]/32, validation_data=(X_Val, Y_val),epochs=200, validation_steps=X_val.shape[0]/32,callbacks=[History])\u001b[0m\u001b[1;33m\u001b[0m\u001b[1;33m\u001b[0m\u001b[1;33m\u001b[0m\u001b[0m\n\u001b[1;32m---> 20\u001b[1;33m \u001b[0mhistory\u001b[0m\u001b[1;33m=\u001b[0m\u001b[0mCNN_regressor\u001b[0m\u001b[1;33m.\u001b[0m\u001b[0mfit\u001b[0m\u001b[1;33m(\u001b[0m\u001b[0mX_train\u001b[0m\u001b[1;33m,\u001b[0m\u001b[0mY_train\u001b[0m\u001b[1;33m,\u001b[0m\u001b[0mbatch_size\u001b[0m\u001b[1;33m=\u001b[0m\u001b[1;36m32\u001b[0m\u001b[1;33m,\u001b[0m \u001b[0mvalidation_data\u001b[0m\u001b[1;33m=\u001b[0m\u001b[1;33m(\u001b[0m\u001b[0mX_validation\u001b[0m\u001b[1;33m,\u001b[0m \u001b[0mY_validation\u001b[0m\u001b[1;33m)\u001b[0m\u001b[1;33m,\u001b[0m\u001b[0mepochs\u001b[0m\u001b[1;33m=\u001b[0m\u001b[1;36m20\u001b[0m\u001b[1;33m)\u001b[0m\u001b[1;33m\u001b[0m\u001b[1;33m\u001b[0m\u001b[0m\n\u001b[0m",
      "\u001b[1;32m~\\Anaconda3\\envs\\deeplearning\\lib\\site-packages\\keras\\engine\\training.py\u001b[0m in \u001b[0;36mfit\u001b[1;34m(self, x, y, batch_size, epochs, verbose, callbacks, validation_split, validation_data, shuffle, class_weight, sample_weight, initial_epoch, steps_per_epoch, validation_steps, **kwargs)\u001b[0m\n\u001b[0;32m   1037\u001b[0m                                         \u001b[0minitial_epoch\u001b[0m\u001b[1;33m=\u001b[0m\u001b[0minitial_epoch\u001b[0m\u001b[1;33m,\u001b[0m\u001b[1;33m\u001b[0m\u001b[1;33m\u001b[0m\u001b[0m\n\u001b[0;32m   1038\u001b[0m                                         \u001b[0msteps_per_epoch\u001b[0m\u001b[1;33m=\u001b[0m\u001b[0msteps_per_epoch\u001b[0m\u001b[1;33m,\u001b[0m\u001b[1;33m\u001b[0m\u001b[1;33m\u001b[0m\u001b[0m\n\u001b[1;32m-> 1039\u001b[1;33m                                         validation_steps=validation_steps)\n\u001b[0m\u001b[0;32m   1040\u001b[0m \u001b[1;33m\u001b[0m\u001b[0m\n\u001b[0;32m   1041\u001b[0m     def evaluate(self, x=None, y=None,\n",
      "\u001b[1;32m~\\Anaconda3\\envs\\deeplearning\\lib\\site-packages\\keras\\engine\\training_arrays.py\u001b[0m in \u001b[0;36mfit_loop\u001b[1;34m(model, f, ins, out_labels, batch_size, epochs, verbose, callbacks, val_f, val_ins, shuffle, callback_metrics, initial_epoch, steps_per_epoch, validation_steps)\u001b[0m\n\u001b[0;32m    197\u001b[0m                     \u001b[0mins_batch\u001b[0m\u001b[1;33m[\u001b[0m\u001b[0mi\u001b[0m\u001b[1;33m]\u001b[0m \u001b[1;33m=\u001b[0m \u001b[0mins_batch\u001b[0m\u001b[1;33m[\u001b[0m\u001b[0mi\u001b[0m\u001b[1;33m]\u001b[0m\u001b[1;33m.\u001b[0m\u001b[0mtoarray\u001b[0m\u001b[1;33m(\u001b[0m\u001b[1;33m)\u001b[0m\u001b[1;33m\u001b[0m\u001b[1;33m\u001b[0m\u001b[0m\n\u001b[0;32m    198\u001b[0m \u001b[1;33m\u001b[0m\u001b[0m\n\u001b[1;32m--> 199\u001b[1;33m                 \u001b[0mouts\u001b[0m \u001b[1;33m=\u001b[0m \u001b[0mf\u001b[0m\u001b[1;33m(\u001b[0m\u001b[0mins_batch\u001b[0m\u001b[1;33m)\u001b[0m\u001b[1;33m\u001b[0m\u001b[1;33m\u001b[0m\u001b[0m\n\u001b[0m\u001b[0;32m    200\u001b[0m                 \u001b[0mouts\u001b[0m \u001b[1;33m=\u001b[0m \u001b[0mto_list\u001b[0m\u001b[1;33m(\u001b[0m\u001b[0mouts\u001b[0m\u001b[1;33m)\u001b[0m\u001b[1;33m\u001b[0m\u001b[1;33m\u001b[0m\u001b[0m\n\u001b[0;32m    201\u001b[0m                 \u001b[1;32mfor\u001b[0m \u001b[0ml\u001b[0m\u001b[1;33m,\u001b[0m \u001b[0mo\u001b[0m \u001b[1;32min\u001b[0m \u001b[0mzip\u001b[0m\u001b[1;33m(\u001b[0m\u001b[0mout_labels\u001b[0m\u001b[1;33m,\u001b[0m \u001b[0mouts\u001b[0m\u001b[1;33m)\u001b[0m\u001b[1;33m:\u001b[0m\u001b[1;33m\u001b[0m\u001b[1;33m\u001b[0m\u001b[0m\n",
      "\u001b[1;32m~\\Anaconda3\\envs\\deeplearning\\lib\\site-packages\\keras\\backend\\tensorflow_backend.py\u001b[0m in \u001b[0;36m__call__\u001b[1;34m(self, inputs)\u001b[0m\n\u001b[0;32m   2713\u001b[0m                 \u001b[1;32mreturn\u001b[0m \u001b[0mself\u001b[0m\u001b[1;33m.\u001b[0m\u001b[0m_legacy_call\u001b[0m\u001b[1;33m(\u001b[0m\u001b[0minputs\u001b[0m\u001b[1;33m)\u001b[0m\u001b[1;33m\u001b[0m\u001b[1;33m\u001b[0m\u001b[0m\n\u001b[0;32m   2714\u001b[0m \u001b[1;33m\u001b[0m\u001b[0m\n\u001b[1;32m-> 2715\u001b[1;33m             \u001b[1;32mreturn\u001b[0m \u001b[0mself\u001b[0m\u001b[1;33m.\u001b[0m\u001b[0m_call\u001b[0m\u001b[1;33m(\u001b[0m\u001b[0minputs\u001b[0m\u001b[1;33m)\u001b[0m\u001b[1;33m\u001b[0m\u001b[1;33m\u001b[0m\u001b[0m\n\u001b[0m\u001b[0;32m   2716\u001b[0m         \u001b[1;32melse\u001b[0m\u001b[1;33m:\u001b[0m\u001b[1;33m\u001b[0m\u001b[1;33m\u001b[0m\u001b[0m\n\u001b[0;32m   2717\u001b[0m             \u001b[1;32mif\u001b[0m \u001b[0mpy_any\u001b[0m\u001b[1;33m(\u001b[0m\u001b[0mis_tensor\u001b[0m\u001b[1;33m(\u001b[0m\u001b[0mx\u001b[0m\u001b[1;33m)\u001b[0m \u001b[1;32mfor\u001b[0m \u001b[0mx\u001b[0m \u001b[1;32min\u001b[0m \u001b[0minputs\u001b[0m\u001b[1;33m)\u001b[0m\u001b[1;33m:\u001b[0m\u001b[1;33m\u001b[0m\u001b[1;33m\u001b[0m\u001b[0m\n",
      "\u001b[1;32m~\\Anaconda3\\envs\\deeplearning\\lib\\site-packages\\keras\\backend\\tensorflow_backend.py\u001b[0m in \u001b[0;36m_call\u001b[1;34m(self, inputs)\u001b[0m\n\u001b[0;32m   2673\u001b[0m             \u001b[0mfetched\u001b[0m \u001b[1;33m=\u001b[0m \u001b[0mself\u001b[0m\u001b[1;33m.\u001b[0m\u001b[0m_callable_fn\u001b[0m\u001b[1;33m(\u001b[0m\u001b[1;33m*\u001b[0m\u001b[0marray_vals\u001b[0m\u001b[1;33m,\u001b[0m \u001b[0mrun_metadata\u001b[0m\u001b[1;33m=\u001b[0m\u001b[0mself\u001b[0m\u001b[1;33m.\u001b[0m\u001b[0mrun_metadata\u001b[0m\u001b[1;33m)\u001b[0m\u001b[1;33m\u001b[0m\u001b[1;33m\u001b[0m\u001b[0m\n\u001b[0;32m   2674\u001b[0m         \u001b[1;32melse\u001b[0m\u001b[1;33m:\u001b[0m\u001b[1;33m\u001b[0m\u001b[1;33m\u001b[0m\u001b[0m\n\u001b[1;32m-> 2675\u001b[1;33m             \u001b[0mfetched\u001b[0m \u001b[1;33m=\u001b[0m \u001b[0mself\u001b[0m\u001b[1;33m.\u001b[0m\u001b[0m_callable_fn\u001b[0m\u001b[1;33m(\u001b[0m\u001b[1;33m*\u001b[0m\u001b[0marray_vals\u001b[0m\u001b[1;33m)\u001b[0m\u001b[1;33m\u001b[0m\u001b[1;33m\u001b[0m\u001b[0m\n\u001b[0m\u001b[0;32m   2676\u001b[0m         \u001b[1;32mreturn\u001b[0m \u001b[0mfetched\u001b[0m\u001b[1;33m[\u001b[0m\u001b[1;33m:\u001b[0m\u001b[0mlen\u001b[0m\u001b[1;33m(\u001b[0m\u001b[0mself\u001b[0m\u001b[1;33m.\u001b[0m\u001b[0moutputs\u001b[0m\u001b[1;33m)\u001b[0m\u001b[1;33m]\u001b[0m\u001b[1;33m\u001b[0m\u001b[1;33m\u001b[0m\u001b[0m\n\u001b[0;32m   2677\u001b[0m \u001b[1;33m\u001b[0m\u001b[0m\n",
      "\u001b[1;32m~\\Anaconda3\\envs\\deeplearning\\lib\\site-packages\\tensorflow\\python\\client\\session.py\u001b[0m in \u001b[0;36m__call__\u001b[1;34m(self, *args, **kwargs)\u001b[0m\n\u001b[0;32m   1437\u001b[0m           ret = tf_session.TF_SessionRunCallable(\n\u001b[0;32m   1438\u001b[0m               \u001b[0mself\u001b[0m\u001b[1;33m.\u001b[0m\u001b[0m_session\u001b[0m\u001b[1;33m.\u001b[0m\u001b[0m_session\u001b[0m\u001b[1;33m,\u001b[0m \u001b[0mself\u001b[0m\u001b[1;33m.\u001b[0m\u001b[0m_handle\u001b[0m\u001b[1;33m,\u001b[0m \u001b[0margs\u001b[0m\u001b[1;33m,\u001b[0m \u001b[0mstatus\u001b[0m\u001b[1;33m,\u001b[0m\u001b[1;33m\u001b[0m\u001b[1;33m\u001b[0m\u001b[0m\n\u001b[1;32m-> 1439\u001b[1;33m               run_metadata_ptr)\n\u001b[0m\u001b[0;32m   1440\u001b[0m         \u001b[1;32mif\u001b[0m \u001b[0mrun_metadata\u001b[0m\u001b[1;33m:\u001b[0m\u001b[1;33m\u001b[0m\u001b[1;33m\u001b[0m\u001b[0m\n\u001b[0;32m   1441\u001b[0m           \u001b[0mproto_data\u001b[0m \u001b[1;33m=\u001b[0m \u001b[0mtf_session\u001b[0m\u001b[1;33m.\u001b[0m\u001b[0mTF_GetBuffer\u001b[0m\u001b[1;33m(\u001b[0m\u001b[0mrun_metadata_ptr\u001b[0m\u001b[1;33m)\u001b[0m\u001b[1;33m\u001b[0m\u001b[1;33m\u001b[0m\u001b[0m\n",
      "\u001b[1;31mKeyboardInterrupt\u001b[0m: "
     ]
    }
   ],
   "source": [
    "CNN_regressor.add(Conv2D(256,(3,3),input_shape=(72,72,1,),padding=\"same\", activation='relu'))\n",
    "CNN_regressor.add(BatchNormalization())\n",
    "CNN_regressor.add(MaxPooling2D(pool_size=(2,2)))\n",
    "\n",
    "CNN_regressor.add(Conv2D(256,(3,3),input_shape=(72,72,1,), padding=\"same\",activation='relu'))\n",
    "CNN_regressor.add(BatchNormalization())\n",
    "CNN_regressor.add(MaxPooling2D(pool_size=(2,2)))\n",
    "\n",
    "CNN_regressor.add(Conv2D(256,(3,3),input_shape=(72,72,1,), padding=\"same\",activation='relu'))\n",
    "CNN_regressor.add(BatchNormalization())\n",
    "CNN_regressor.add(MaxPooling2D(pool_size=(2,2)))\n",
    "\n",
    "\n",
    "CNN_regressor.add(Flatten())\n",
    "CNN_regressor.add(Dense(units=64, kernel_initializer=\"uniform\", activation=\"relu\"))\n",
    "CNN_regressor.add(BatchNormalization())\n",
    "CNN_regressor.add(Dense(units=6, kernel_initializer=\"uniform\"))\n",
    "CNN_regressor.compile(loss='mse', optimizer='adam', metrics= [\"mse\"])\n",
    "#CNN_classifier.fit_generator((X_Train,Y_Train),steps_per_epoch=X_train.shape[0]/32, validation_data=(X_Val, Y_val),epochs=200, validation_steps=X_val.shape[0]/32,callbacks=[History])\n",
    "history=CNN_regressor.fit(X_train,Y_train,batch_size=32, validation_data=(X_validation, Y_validation),epochs=20)"
   ]
  },
  {
   "cell_type": "code",
   "execution_count": 85,
   "metadata": {},
   "outputs": [],
   "source": [
    "X_test = X_test.reshape([-1, 72,72,1])"
   ]
  },
  {
   "cell_type": "code",
   "execution_count": 86,
   "metadata": {},
   "outputs": [],
   "source": [
    "Y_pred=CNN_regressor.predict(X_test)"
   ]
  },
  {
   "cell_type": "code",
   "execution_count": 87,
   "metadata": {},
   "outputs": [
    {
     "ename": "NameError",
     "evalue": "name 'patches' is not defined",
     "output_type": "error",
     "traceback": [
      "\u001b[1;31m---------------------------------------------------------------------------\u001b[0m",
      "\u001b[1;31mNameError\u001b[0m                                 Traceback (most recent call last)",
      "\u001b[1;32m<ipython-input-87-756aeb7751d0>\u001b[0m in \u001b[0;36m<module>\u001b[1;34m\u001b[0m\n\u001b[1;32m----> 1\u001b[1;33m \u001b[0mvisualize_prediction\u001b[0m\u001b[1;33m(\u001b[0m\u001b[0mX_test\u001b[0m\u001b[1;33m[\u001b[0m\u001b[1;36m0\u001b[0m\u001b[1;33m]\u001b[0m\u001b[1;33m,\u001b[0m \u001b[0mY_test\u001b[0m\u001b[1;33m[\u001b[0m\u001b[1;36m0\u001b[0m\u001b[1;33m]\u001b[0m\u001b[1;33m)\u001b[0m\u001b[1;33m\u001b[0m\u001b[1;33m\u001b[0m\u001b[0m\n\u001b[0m\u001b[0;32m      2\u001b[0m \u001b[0mvisualize_prediction\u001b[0m\u001b[1;33m(\u001b[0m\u001b[0mX_test\u001b[0m\u001b[1;33m[\u001b[0m\u001b[1;36m0\u001b[0m\u001b[1;33m]\u001b[0m\u001b[1;33m,\u001b[0m \u001b[0mY_pred\u001b[0m\u001b[1;33m[\u001b[0m\u001b[1;36m0\u001b[0m\u001b[1;33m]\u001b[0m\u001b[1;33m)\u001b[0m\u001b[1;33m\u001b[0m\u001b[1;33m\u001b[0m\u001b[0m\n",
      "\u001b[1;32m<ipython-input-10-5776d3d982a4>\u001b[0m in \u001b[0;36mvisualize_prediction\u001b[1;34m(x, y)\u001b[0m\n\u001b[0;32m      7\u001b[0m \u001b[1;33m\u001b[0m\u001b[0m\n\u001b[0;32m      8\u001b[0m     \u001b[0mxy\u001b[0m \u001b[1;33m=\u001b[0m \u001b[0my\u001b[0m\u001b[1;33m.\u001b[0m\u001b[0mreshape\u001b[0m\u001b[1;33m(\u001b[0m\u001b[1;36m3\u001b[0m\u001b[1;33m,\u001b[0m\u001b[1;36m2\u001b[0m\u001b[1;33m)\u001b[0m\u001b[1;33m\u001b[0m\u001b[1;33m\u001b[0m\u001b[0m\n\u001b[1;32m----> 9\u001b[1;33m     \u001b[0mtri\u001b[0m \u001b[1;33m=\u001b[0m \u001b[0mpatches\u001b[0m\u001b[1;33m.\u001b[0m\u001b[0mPolygon\u001b[0m\u001b[1;33m(\u001b[0m\u001b[0mxy\u001b[0m\u001b[1;33m,\u001b[0m \u001b[0mclosed\u001b[0m\u001b[1;33m=\u001b[0m\u001b[1;32mTrue\u001b[0m\u001b[1;33m,\u001b[0m \u001b[0mfill\u001b[0m \u001b[1;33m=\u001b[0m \u001b[1;32mFalse\u001b[0m\u001b[1;33m,\u001b[0m \u001b[0medgecolor\u001b[0m \u001b[1;33m=\u001b[0m \u001b[1;34m'r'\u001b[0m\u001b[1;33m,\u001b[0m \u001b[0mlinewidth\u001b[0m \u001b[1;33m=\u001b[0m \u001b[1;36m5\u001b[0m\u001b[1;33m,\u001b[0m \u001b[0malpha\u001b[0m \u001b[1;33m=\u001b[0m \u001b[1;36m0.5\u001b[0m\u001b[1;33m)\u001b[0m\u001b[1;33m\u001b[0m\u001b[1;33m\u001b[0m\u001b[0m\n\u001b[0m\u001b[0;32m     10\u001b[0m     \u001b[0max\u001b[0m\u001b[1;33m.\u001b[0m\u001b[0madd_patch\u001b[0m\u001b[1;33m(\u001b[0m\u001b[0mtri\u001b[0m\u001b[1;33m)\u001b[0m\u001b[1;33m\u001b[0m\u001b[1;33m\u001b[0m\u001b[0m\n\u001b[0;32m     11\u001b[0m \u001b[1;33m\u001b[0m\u001b[0m\n",
      "\u001b[1;31mNameError\u001b[0m: name 'patches' is not defined"
     ]
    },
    {
     "data": {
      "image/png": "[encoded data removed]",
      "text/plain": [
       "<Figure size 360x360 with 1 Axes>"
      ]
     },
     "metadata": {
      "needs_background": "light"
     },
     "output_type": "display_data"
    }
   ],
   "source": [
    "visualize_prediction(X_test[0], Y_test[0])\n",
    "visualize_prediction(X_test[0], Y_pred[0])"
   ]
  },
  {
   "cell_type": "markdown",
   "metadata": {},
   "source": [
    "# 7) Image Denoising "
   ]
  },
  {
   "cell_type": "markdown",
   "metadata": {},
   "source": [
    "Creating new functions we'll use on this exercise"
   ]
  },
  {
   "cell_type": "code",
   "execution_count": null,
   "metadata": {},
   "outputs": [],
   "source": [
    "def generate_a_drawing2(figsize, U, V, noise=0.0):\n",
    "    fig = plt.figure(figsize=(figsize, figsize))\n",
    "    ax = plt.subplot(111)\n",
    "    plt.axis('Off')\n",
    "    ax.set_xlim(0, figsize)\n",
    "    ax.set_ylim(0, figsize)\n",
    "    ax.fill(U, V, \"k\")\n",
    "    fig.canvas.draw()\n",
    "    imdata = np.frombuffer(fig.canvas.tostring_rgb(), dtype=np.uint8)[\n",
    "        ::3].astype(np.float32)\n",
    "    imdatan = imdata + noise * np.random.random(imdata.size)\n",
    "    plt.close(fig)\n",
    "    return imdatan, imdata"
   ]
  },
  {
   "cell_type": "code",
   "execution_count": null,
   "metadata": {},
   "outputs": [],
   "source": [
    "def generate_a_triangle2(noise=0.0, free_location=False):\n",
    "    figsize = 1.0\n",
    "    if free_location:\n",
    "        U = np.random.random(3)\n",
    "        V = np.random.random(3)\n",
    "    else:\n",
    "        size = (0.3 + 0.7 * np.random.random()) * figsize / 2\n",
    "        middle = figsize / 2\n",
    "        U = (middle, middle + size, middle - size)\n",
    "        V = (middle + size, middle - size, middle - size)\n",
    "    imdatan, imdata = generate_a_drawing2(figsize, U, V, noise)\n",
    "    return [imdatan,imdata, [U[0], V[0], U[1], V[1], U[2], V[2]]]"
   ]
  },
  {
   "cell_type": "code",
   "execution_count": null,
   "metadata": {},
   "outputs": [],
   "source": [
    "def generate_a_rectangle2(noise=0.0, free_location=False):\n",
    "    figsize = 1.0\n",
    "    U = np.zeros(4)\n",
    "    V = np.zeros(4)\n",
    "    if free_location:\n",
    "        corners = np.random.random(4)\n",
    "        top = max(corners[0], corners[1])\n",
    "        bottom = min(corners[0], corners[1])\n",
    "        left = min(corners[2], corners[3])\n",
    "        right = max(corners[2], corners[3])\n",
    "    else:\n",
    "        side = (0.3 + 0.7 * np.random.random()) * figsize\n",
    "        top = figsize / 2 + side / 2\n",
    "        bottom = figsize / 2 - side / 2\n",
    "        left = bottom\n",
    "        right = top\n",
    "    U[0] = U[1] = top\n",
    "    U[2] = U[3] = bottom\n",
    "    V[0] = V[3] = left\n",
    "    V[1] = V[2] = right\n",
    "    return generate_a_drawing2(figsize, U, V, noise)"
   ]
  },
  {
   "cell_type": "code",
   "execution_count": null,
   "metadata": {},
   "outputs": [],
   "source": [
    "def generate_a_disk2(noise=0.0, free_location=False):\n",
    "    figsize = 1.0\n",
    "    if free_location:\n",
    "        center = np.random.random(2)\n",
    "    else:\n",
    "        center = (figsize / 2, figsize / 2)\n",
    "    radius = (0.3 + 0.7 * np.random.random()) * figsize / 2\n",
    "    N = 50\n",
    "    U = np.zeros(N)\n",
    "    V = np.zeros(N)\n",
    "    i = 0\n",
    "    for t in np.linspace(0, 2 * np.pi, N):\n",
    "        U[i] = center[0] + np.cos(t) * radius\n",
    "        V[i] = center[1] + np.sin(t) * radius\n",
    "        i = i + 1\n",
    "    return generate_a_drawing2(figsize, U, V, noise)"
   ]
  },
  {
   "cell_type": "code",
   "execution_count": null,
   "metadata": {},
   "outputs": [],
   "source": [
    "def generate_dataset_2(nb_samples, noise=0.0, free_location=False):\n",
    "    # Getting im_size:\n",
    "    im_size = generate_a_rectangle2()[0].shape[0]\n",
    "    X = np.zeros([nb_samples, im_size])\n",
    "    Y = np.zeros([nb_samples, im_size])\n",
    "    print('Creating data:')\n",
    "    for i in range(nb_samples):\n",
    "        if i % 100 == 0:\n",
    "            print(i)\n",
    "        category = np.random.randint(3)\n",
    "        if category == 0:\n",
    "            X[i], Y[i] = generate_a_rectangle2(noise, free_location)\n",
    "        elif category == 1:\n",
    "            X[i],Y[i] = generate_a_disk2(noise, free_location)\n",
    "        else:\n",
    "            [X[i],Y[i], V] = generate_a_triangle2(noise, free_location)\n",
    "    X = (X + noise) / (255 + 2 * noise)\n",
    "    Y = Y/255\n",
    "    return [X, Y]"
   ]
  },
  {
   "cell_type": "code",
   "execution_count": null,
   "metadata": {},
   "outputs": [],
   "source": [
    "#Creating our training set\n",
    "[X_train5,Y_train5]=generate_dataset_2(500,20,True)"
   ]
  },
  {
   "cell_type": "code",
   "execution_count": null,
   "metadata": {},
   "outputs": [],
   "source": [
    "#Plotting the image based on the training set\n",
    "plt.imshow(Y_train5[300].reshape(IMAGE_SIZE, IMAGE_SIZE), cmap='gray')"
   ]
  },
  {
   "cell_type": "code",
   "execution_count": null,
   "metadata": {},
   "outputs": [],
   "source": [
    "plt.imshow(X_train5[300].reshape(IMAGE_SIZE, IMAGE_SIZE), cmap='gray')"
   ]
  },
  {
   "cell_type": "code",
   "execution_count": null,
   "metadata": {},
   "outputs": [],
   "source": [
    "X_train_last = X_train5.reshape(X_train5.shape[0],72,72,1)\n",
    "Y_train_last = Y_train5.reshape(Y_train5.shape[0],72,72,1)"
   ]
  },
  {
   "cell_type": "code",
   "execution_count": null,
   "metadata": {},
   "outputs": [],
   "source": [
    "model_last = Sequential()"
   ]
  },
  {
   "cell_type": "code",
   "execution_count": null,
   "metadata": {},
   "outputs": [],
   "source": [
    "# The Input Layer :\n",
    "model_last.add(Conv2D(32,(3, 3), activation='relu',padding = 'same' ,input_shape=(72,72,1)))\n",
    "model_last.add(MaxPooling2D(pool_size=(2, 2)))\n",
    "model_last.add(Conv2D(32,(3,3), activation = 'relu', padding = 'same'))\n",
    "model_last.add(MaxPooling2D(pool_size=(2,2)))\n",
    "\n",
    "model_last.add(Conv2D(32, kernel_size=(3, 3), activation='relu', padding = 'same'))\n",
    "model_last.add(UpSampling2D(size=(2, 2)))\n",
    "model_last.add(Conv2D(32, kernel_size=(3, 3), activation='relu', padding = 'same'))\n",
    "model_last.add(UpSampling2D(size=(2, 2)))\n",
    "model_last.add(Conv2D(1, kernel_size=(3, 3), activation='sigmoid', padding = 'same'))"
   ]
  },
  {
   "cell_type": "code",
   "execution_count": null,
   "metadata": {},
   "outputs": [],
   "source": [
    "model_last.compile(optimizer='adadelta',loss='binary_crossentropy',metrics=['accuracy'])"
   ]
  },
  {
   "cell_type": "code",
   "execution_count": null,
   "metadata": {},
   "outputs": [],
   "source": [
    "model_last.fit(X_train_last, Y_train_last, epochs=10, batch_size=64)"
   ]
  },
  {
   "cell_type": "code",
   "execution_count": null,
   "metadata": {},
   "outputs": [],
   "source": [
    "Ximage = X_train_last[9]\n",
    "Ximage = Ximage.reshape(1,72,72,1)"
   ]
  },
  {
   "cell_type": "code",
   "execution_count": null,
   "metadata": {},
   "outputs": [],
   "source": [
    "prediction=model_last.predict(Ximage)"
   ]
  },
  {
   "cell_type": "code",
   "execution_count": null,
   "metadata": {},
   "outputs": [],
   "source": [
    "prediction=prediction.reshape(72,72)"
   ]
  },
  {
   "cell_type": "code",
   "execution_count": null,
   "metadata": {},
   "outputs": [],
   "source": [
    "plt.imshow(prediction, cmap='gray')"
   ]
  }
 ],
 "metadata": {
  "kernelspec": {
   "display_name": "Python 3",
   "language": "python",
   "name": "python3"
  },
  "language_info": {
   "codemirror_mode": {
    "name": "ipython",
    "version": 3
   },
   "file_extension": ".py",
   "mimetype": "text/x-python",
   "name": "python",
   "nbconvert_exporter": "python",
   "pygments_lexer": "ipython3",
   "version": "3.6.7"
  }
 },
 "nbformat": 4,
 "nbformat_minor": 2
}
