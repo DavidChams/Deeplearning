{
 "cells": [
  {
   "cell_type": "markdown",
   "metadata": {},
   "source": [
    "**You may need to install [OpenCV](https://pypi.python.org/pypi/opencv-python) and [scikit-video](http://www.scikit-video.org/stable/).**"
   ]
  },
  {
   "cell_type": "code",
   "execution_count": 1,
   "metadata": {},
   "outputs": [
    {
     "name": "stderr",
     "output_type": "stream",
     "text": [
      "Using TensorFlow backend.\n"
     ]
    }
   ],
   "source": [
    "import keras\n",
    "import numpy as np\n",
    "import io\n",
    "import base64\n",
    "from IPython.display import HTML\n",
    "import skvideo\n",
    "#skvideo.setFFmpegPath(\"C:/Users/david/Anaconda3/envs/deeplearning/Lib/site-packages/skvideo/io\")\n",
    "import skvideo.io\n",
    "import cv2\n",
    "import json\n",
    "\n",
    "from keras.models import Sequential,model_from_json\n",
    "from keras.layers.core import Dense\n",
    "from keras.optimizers import sgd,Adam\n",
    "from keras.layers import Conv2D, MaxPooling2D, Activation, AveragePooling2D,Reshape,BatchNormalization,Flatten,Dropout"
   ]
  },
  {
   "cell_type": "markdown",
   "metadata": {},
   "source": [
    "# MiniProject #3: Deep Reinforcement Learning"
   ]
  },
  {
   "cell_type": "markdown",
   "metadata": {},
   "source": [
    "__Notations__: $E_p$ is the expectation under probability $p$. Please justify each of your answer and widely comment your code."
   ]
  },
  {
   "cell_type": "markdown",
   "metadata": {},
   "source": [
    "# Context"
   ]
  },
  {
   "cell_type": "markdown",
   "metadata": {},
   "source": [
    "In a reinforcement learning algorithm, we modelize each step $t$ as an action $a_t$ obtained from a state $s_t$, i.e. $\\{(a_{t},s_{t})_{t\\leq T}\\}$ having the Markov property. We consider a discount factor $\\gamma \\in [0,1]$ that ensures convergence. The goal is to find among all the policies $\\pi$, one that maximizes the expected reward:\n",
    "\n",
    "\\begin{equation*}\n",
    "R(\\pi)=\\sum_{t\\leq T}E_{p^{\\pi}}[\\gamma^t r(s_{t},a_{t})] \\> ,\n",
    "\\end{equation*}\n",
    "\n",
    "where: \n",
    "\\begin{equation*}p^{\\pi}(a_{0},a_{1},s_{1},...,a_{T},s_{T})=p(a_{0})\\prod_{t=1}^{T}\\pi(a_{t}|s_{t})p(s_{t+1}|s_{t},a_{t}) \\> .\n",
    "\\end{equation*}\n",
    "\n",
    "We note the $Q$-function:\n",
    "\n",
    "\\begin{equation*}Q^\\pi(s,a)=E_{p^{\\pi}}[\\sum_{t\\leq T}\\gamma^{t}r(s_{t},a_{t})|s_{0}=s,a_{0}=a] \\> .\n",
    "\\end{equation*}\n",
    "\n",
    "Thus, the optimal Q function is:\n",
    "\\begin{equation*}\n",
    "Q^*(s,a)=\\max_{\\pi}Q^\\pi(s,a) \\> .\n",
    "\\end{equation*}\n",
    "\n",
    "In this project, we will apply the deep reinforcement learning techniques to a simple game: an agent will have to learn from scratch a policy that will permit it maximizing a reward."
   ]
  },
  {
   "cell_type": "markdown",
   "metadata": {},
   "source": [
    "## The environment, the agent and the game"
   ]
  },
  {
   "cell_type": "markdown",
   "metadata": {},
   "source": [
    "### The environment"
   ]
  },
  {
   "cell_type": "markdown",
   "metadata": {},
   "source": [
    "```Environment``` is an abstract class that represents the states, rewards, and actions to obtain the new state."
   ]
  },
  {
   "cell_type": "code",
   "execution_count": 2,
   "metadata": {},
   "outputs": [],
   "source": [
    "class Environment(object):\n",
    "    def __init__(self):\n",
    "        pass\n",
    "\n",
    "    def act(self, act):\n",
    "        \"\"\"\n",
    "        One can act on the environment and obtain its reaction:\n",
    "        - the new state\n",
    "        - the reward of the new state\n",
    "        - should we continue the game?\n",
    "\n",
    "        :return: state, reward, game_over\n",
    "        \"\"\"\n",
    "        pass\n",
    "\n",
    "\n",
    "    def reset(self):\n",
    "        \"\"\"\n",
    "        Reinitialize the environment to a random state and returns\n",
    "        the original state\n",
    "\n",
    "        :return: state\n",
    "        \"\"\"\n",
    "        pass\n",
    "    \n",
    "    def draw(self):\n",
    "        \"\"\"\n",
    "        Visualize in the console or graphically the current state\n",
    "        \"\"\"\n",
    "        pass"
   ]
  },
  {
   "cell_type": "markdown",
   "metadata": {},
   "source": [
    "The method ```act``` allows to act on the environment at a given state $s_t$ (stored internally), via action $a_t$. The method will return the new state $s_{t+1}$, the reward $r(s_{t},a_{t})$ and determines if $t\\leq T$ (*game_over*).\n",
    "\n",
    "The method ```reset``` simply reinitializes the environment to a random state $s_0$.\n",
    "\n",
    "The method ```draw``` displays the current state $s_t$ (this is useful to check the behavior of the Agent).\n",
    "\n",
    "We modelize $s_t$ as a tensor, while $a_t$ is an integer."
   ]
  },
  {
   "cell_type": "markdown",
   "metadata": {},
   "source": [
    "### The Agent"
   ]
  },
  {
   "cell_type": "markdown",
   "metadata": {},
   "source": [
    "The goal of the ```Agent``` is to interact with the ```Environment``` by proposing actions $a_t$ obtained from a given state $s_t$ to attempt to maximize its __reward__ $r(s_t,a_t)$. We propose the following abstract class:"
   ]
  },
  {
   "cell_type": "code",
   "execution_count": 3,
   "metadata": {},
   "outputs": [],
   "source": [
    "class Agent(object):\n",
    "    def __init__(self, epsilon=0.1, n_action=4):\n",
    "        self.epsilon = epsilon\n",
    "        self.n_action = n_action\n",
    "    \n",
    "    def set_epsilon(self,e):\n",
    "        self.epsilon = e\n",
    "\n",
    "    def act(self,s,train=True):\n",
    "        \"\"\" This function should return the next action to do:\n",
    "        an integer between 0 and 4 (not included) with a random exploration of epsilon\"\"\"\n",
    "        if train:\n",
    "            if np.random.rand() <= self.epsilon:\n",
    "                a = np.random.randint(0, self.n_action, size=1)[0]\n",
    "            else:\n",
    "                a = self.learned_act(s)\n",
    "        else: # in some cases, this can improve the performance.. remove it if poor performances\n",
    "            a = self.learned_act(s)\n",
    "\n",
    "        return a\n",
    "\n",
    "    def learned_act(self,s):\n",
    "        \"\"\" Act via the policy of the agent, from a given state s\n",
    "        it proposes an action a\"\"\"\n",
    "        pass\n",
    "\n",
    "    def reinforce(self, s, n_s, a, r, game_over_):\n",
    "        \"\"\" This function is the core of the learning algorithm. \n",
    "        It takes as an input the current state s_, the next state n_s_\n",
    "        the action a_ used to move from s_ to n_s_ and the reward r_.\n",
    "        \n",
    "        Its goal is to learn a policy.\n",
    "        \"\"\"\n",
    "        pass\n",
    "\n",
    "    def save(self):\n",
    "        \"\"\" This function returns basic stats if applicable: the\n",
    "        loss and/or the model\"\"\"\n",
    "        pass\n",
    "\n",
    "    def load(self):\n",
    "        \"\"\" This function allows to restore a model\"\"\"\n",
    "        pass"
   ]
  },
  {
   "cell_type": "markdown",
   "metadata": {},
   "source": [
    "***\n",
    "__Question 1__:\n",
    "Explain the function act. Why is ```epsilon``` essential?"
   ]
  },
  {
   "cell_type": "markdown",
   "metadata": {},
   "source": [
    "***\n",
    "__Answer__\n",
    "\n",
    "The function act define which action the agent is going to do next.\n",
    "<br> Epsilon is the symbol of an Epsilon-greedy policy. At each state the agent chooses what it believes to be the best action, but sometimes he also has to acts randomly.\n",
    "\n",
    "This way the agent takes actions which he may not estimate to be ideal, but may provide new information to the agent.\n",
    "<br>The Espilon determines the probability of taking a random action.\n",
    "\n",
    "<br> We draw a number between 0 and 1. If this number > epsilon, then we will do “exploitation” (this means we use what we already know to select the best action at each step). Else, we’ll do exploration."
   ]
  },
  {
   "cell_type": "markdown",
   "metadata": {},
   "source": [
    "***\n",
    "### The Game"
   ]
  },
  {
   "cell_type": "markdown",
   "metadata": {},
   "source": [
    "#The ```Agent``` and the ```Environment``` work in an interlaced way as in the following (take some time to understand this code as it is the core of the project)\n",
    "\n",
    "\n",
    "\n",
    "epoch = 300\n",
    "env = Environment()\n",
    "agent = Agent()\n",
    "\n",
    "\n",
    "# Number of won games\n",
    "score = 0\n",
    "loss = 0\n",
    "\n",
    "\n",
    "for e in range(epoch):\n",
    "    # At each epoch, we restart to a fresh game and get the initial state\n",
    "    state = env.reset()\n",
    "    # This assumes that the games will end\n",
    "    game_over = False\n",
    "\n",
    "    win = 0\n",
    "    lose = 0\n",
    "    \n",
    "    while not game_over:\n",
    "        # The agent performs an action\n",
    "        action = agent.act(state)\n",
    "\n",
    "        # Apply an action to the environment, get the next state, the reward\n",
    "        # and if the games end\n",
    "        prev_state = state\n",
    "        state, reward, game_over = env.act(action)\n",
    "\n",
    "        # Update the counters\n",
    "        if reward > 0:\n",
    "            win = win + reward\n",
    "        if reward < 0:\n",
    "            lose = lose -reward\n",
    "\n",
    "        # Apply the reinforcement strategy\n",
    "        loss = agent.reinforce(prev_state, state,  action, reward, game_over)\n",
    "\n",
    "    # Save as a mp4\n",
    "    if e % 10 == 0:\n",
    "        env.draw(e)\n",
    "\n",
    "    # Update stats\n",
    "    score += win-lose\n",
    "\n",
    "    print(\"Epoch {:03d}/{:03d} | Loss {:.4f} | Win/lose count {}/{} ({})\"\n",
    "          .format(e, epoch, loss, win, lose, win-lose))\n",
    "    agent.save()\n"
   ]
  },
  {
   "cell_type": "markdown",
   "metadata": {},
   "source": [
    "# The game, *eat cheese*"
   ]
  },
  {
   "cell_type": "markdown",
   "metadata": {},
   "source": [
    "A rat runs on an island and tries to eat as much as possible. The island is subdivided into $N\\times N$ cells, in which there are cheese (+0.5) and poisonous cells (-1). The rat has a visibility of 2 cells (thus it can see $5^2$ cells). The rat is given a time $T$ to accumulate as much food as possible. It can perform 4 actions: going up, down, left, right. \n",
    "\n",
    "The goal is to code an agent to solve this task that will learn by trial and error. We propose the following environment:"
   ]
  },
  {
   "cell_type": "code",
   "execution_count": 4,
   "metadata": {},
   "outputs": [],
   "source": [
    "class Environment(object):\n",
    "    def __init__(self, grid_size=10, max_time=500, temperature=0.1):\n",
    "        grid_size = grid_size+4\n",
    "        self.grid_size = grid_size\n",
    "        self.max_time = max_time\n",
    "        self.temperature = temperature\n",
    "\n",
    "        #board on which one plays\n",
    "        self.board = np.zeros((grid_size,grid_size))     #Tableau avec rewards : poison -1 /cheese +0.5\n",
    "        self.position = np.zeros((grid_size,grid_size))  #Position of the rat\n",
    "\n",
    "        # coordinate of the rat\n",
    "        self.x = 0\n",
    "        self.y = 1\n",
    "\n",
    "        # self time\n",
    "        self.t = 0\n",
    "\n",
    "        self.scale=16\n",
    "\n",
    "        self.to_draw = np.zeros((max_time+2, grid_size*self.scale, grid_size*self.scale, 3)) #(502,10*16,10*16,3)\n",
    "\n",
    "\n",
    "    def draw(self,e):\n",
    "        skvideo.io.vwrite(str(e) + '.mp4', self.to_draw)\n",
    "\n",
    "    def get_frame(self,t):\n",
    "        b = np.zeros((self.grid_size,self.grid_size,3))+128\n",
    "        b[self.board>0,0] = 256\n",
    "        b[self.board < 0, 2] = 256\n",
    "        b[self.x,self.y,:]=256\n",
    "        b[-2:,:,:]=0\n",
    "        b[:,-2:,:]=0\n",
    "        b[:2,:,:]=0\n",
    "        b[:,:2,:]=0\n",
    "        \n",
    "        b =  cv2.resize(b, None, fx=self.scale, fy=self.scale, interpolation=cv2.INTER_NEAREST)\n",
    "\n",
    "        self.to_draw[t,:,:,:]=b\n",
    "\n",
    "\n",
    "    def act(self, action):\n",
    "        \"\"\"This function returns the new state, reward and decides if the\n",
    "        game ends.\"\"\"\n",
    "\n",
    "        self.get_frame(int(self.t))\n",
    "\n",
    "        self.position = np.zeros((self.grid_size, self.grid_size))\n",
    "\n",
    "        self.position[0:2,:]= -1\n",
    "        self.position[:,0:2] = -1\n",
    "        self.position[-2:, :] = -1\n",
    "        self.position[:, -2:] = -1\n",
    "\n",
    "        self.position[self.x, self.y] = 1\n",
    "        if action == 0: #Down\n",
    "            if self.x == self.grid_size-3:\n",
    "                self.x = self.x-1\n",
    "            else:\n",
    "                self.x = self.x + 1\n",
    "        elif action == 1: #Up\n",
    "            if self.x == 2:\n",
    "                self.x = self.x+1\n",
    "            else:\n",
    "                self.x = self.x-1\n",
    "        elif action == 2: #Right\n",
    "            if self.y == self.grid_size - 3:\n",
    "                self.y = self.y - 1\n",
    "            else:\n",
    "                self.y = self.y + 1\n",
    "        elif action == 3: #Left \n",
    "            if self.y == 2:\n",
    "                self.y = self.y + 1\n",
    "            else:\n",
    "                self.y = self.y - 1\n",
    "        else:\n",
    "            RuntimeError('Error: action not recognized')\n",
    "\n",
    "        self.t = self.t + 1\n",
    "        reward = self.board[self.x, self.y]\n",
    "        self.board[self.x, self.y] = 0\n",
    "        game_over = self.t > self.max_time\n",
    "        state = np.concatenate((self.board.reshape(self.grid_size, self.grid_size,1),\n",
    "                        self.position.reshape(self.grid_size, self.grid_size,1)),axis=2)\n",
    "        state = state[self.x-2:self.x+3,self.y-2:self.y+3,:]\n",
    "\n",
    "        return state, reward, game_over\n",
    "\n",
    "    def reset(self):\n",
    "        \"\"\"This function resets the game and returns the initial state\"\"\"\n",
    "\n",
    "        self.x = np.random.randint(3, self.grid_size-3, size=1)[0] # The rat starts anywhere on the board\n",
    "        self.y = np.random.randint(3, self.grid_size-3, size=1)[0]\n",
    "\n",
    "\n",
    "        bonus = 0.5*np.random.binomial(1,self.temperature,size=self.grid_size**2) #binomial with p=temperature\n",
    "        bonus = bonus.reshape(self.grid_size,self.grid_size)\n",
    "\n",
    "        malus = -1.0*np.random.binomial(1,self.temperature,size=self.grid_size**2)\n",
    "        malus = malus.reshape(self.grid_size, self.grid_size)\n",
    "\n",
    "        self.to_draw = np.zeros((self.max_time+2, self.grid_size*self.scale, self.grid_size*self.scale, 3))\n",
    "\n",
    "\n",
    "        malus[bonus>0]=0\n",
    "\n",
    "        self.board = bonus + malus\n",
    "\n",
    "        self.position = np.zeros((self.grid_size, self.grid_size))\n",
    "        self.position[0:2,:]= -1\n",
    "        self.position[:,0:2] = -1\n",
    "        self.position[-2:, :] = -1\n",
    "        self.position[:, -2:] = -1\n",
    "        self.board[self.x,self.y] = 0\n",
    "        self.t = 0\n",
    "\n",
    "        state = np.concatenate((\n",
    "                               self.board.reshape(self.grid_size, self.grid_size,1),\n",
    "                        self.position.reshape(self.grid_size, self.grid_size,1)),axis=2)\n",
    "\n",
    "        state = state[self.x - 2:self.x + 3, self.y - 2:self.y + 3, :]\n",
    "        return state"
   ]
  },
  {
   "cell_type": "markdown",
   "metadata": {},
   "source": [
    "The following elements are important because they correspond to the hyper parameters for this project:"
   ]
  },
  {
   "cell_type": "code",
   "execution_count": 5,
   "metadata": {},
   "outputs": [],
   "source": [
    "# parameters\n",
    "size = 13\n",
    "T=200\n",
    "temperature=0.3\n",
    "epochs_train=50 # set small when debugging\n",
    "epochs_test=30 # set small when debugging\n",
    "\n",
    "# display videos\n",
    "def display_videos(name):\n",
    "    video = io.open(name, 'r+b').read()\n",
    "    encoded = base64.b64encode(video)\n",
    "    return '''<video alt=\"test\" controls>\n",
    "                <source src=\"data:video/mp4;base64,{0}\" type=\"video/mp4\" />\n",
    "             </video>'''.format(encoded.decode('ascii'))"
   ]
  },
  {
   "cell_type": "markdown",
   "metadata": {},
   "source": [
    "__Question 2__ Explain the use of the arrays ```position``` and ```board```."
   ]
  },
  {
   "cell_type": "markdown",
   "metadata": {},
   "source": [
    "***\n",
    "__Answer__\n",
    "\n",
    "The array Board contains every rewards the rat can get. It has the same size than position (size = `grid_size` $\\times$ `grid_size`). Every cell with cheese has a reward of +0.5 and those with poison has a reward of -1.\n",
    "\n",
    "The array position gives the position of the rat, (x,y) corresponds to its coordinates in line and in column.\n"
   ]
  },
  {
   "cell_type": "markdown",
   "metadata": {},
   "source": [
    "## Random Agent"
   ]
  },
  {
   "cell_type": "markdown",
   "metadata": {},
   "source": [
    "***\n",
    "__Question 3__ Implement a random Agent (only ```learned_act``` needs to be implemented):"
   ]
  },
  {
   "cell_type": "code",
   "execution_count": 6,
   "metadata": {},
   "outputs": [],
   "source": [
    "class RandomAgent(Agent):\n",
    "    def __init__(self):\n",
    "        super(RandomAgent, self).__init__()\n",
    "        pass\n",
    "\n",
    "    def learned_act(self, s):\n",
    "        \"\"\" Act via the policy of the agent, from a given state s\n",
    "        it proposes an action a\"\"\"\n",
    "        action = np.random.randint(0,4)       \n",
    "        pass"
   ]
  },
  {
   "cell_type": "markdown",
   "metadata": {},
   "source": [
    "***\n",
    "***\n",
    "__Question 4__ Visualize the game moves. You need to fill in the following function for the evaluation:"
   ]
  },
  {
   "cell_type": "code",
   "execution_count": 7,
   "metadata": {},
   "outputs": [],
   "source": [
    "def test(agent,env,epochs,prefix=''):\n",
    "    # Number of won games\n",
    "    score = 0\n",
    "        \n",
    "    for e in range(epochs):\n",
    "             # At each epoch, we restart to a fresh game and get the initial state\n",
    "        state = env.reset()\n",
    "    # This assumes that the games will end\n",
    "        game_over = False\n",
    "\n",
    "        win = 0\n",
    "        lose = 0\n",
    "    \n",
    "        while not game_over:\n",
    "            # The agent performs an action\n",
    "            action = agent.act(state)\n",
    "\n",
    "            # Apply an action to the environment, get the next state, the reward\n",
    "            # and if the games end\n",
    "            prev_state = state\n",
    "            state, reward, game_over = env.act(action)\n",
    "\n",
    "            # Update the counters\n",
    "            if reward > 0:\n",
    "                win = win + reward\n",
    "            if reward < 0:\n",
    "                lose = lose -reward \n",
    "\n",
    "        # Apply the reinforcement strategy\n",
    "            loss = agent.reinforce(prev_state, state,  action, reward, game_over) \n",
    "\n",
    "        \n",
    "        \n",
    "        # Save as a mp4\n",
    "        env.draw(prefix+str(e))\n",
    "\n",
    "        # Update stats\n",
    "        score = score + win-lose\n",
    "\n",
    "        print(\"Win/lose count {}/{}. Average score ({})\"\n",
    "              .format(win, lose, score/(1+e)))\n",
    "    print('Final score: '+str(score/epochs))"
   ]
  },
  {
   "cell_type": "code",
   "execution_count": 8,
   "metadata": {},
   "outputs": [
    {
     "name": "stdout",
     "output_type": "stream",
     "text": [
      "Win/lose count 1.5/2.0. Average score (-0.5)\n",
      "Win/lose count 2.0/3.0. Average score (-0.75)\n",
      "Win/lose count 1.0/3.0. Average score (-1.1666666666666667)\n",
      "Win/lose count 1.5/1.0. Average score (-0.75)\n",
      "Win/lose count 1.0/2.0. Average score (-0.8)\n",
      "Win/lose count 1.5/5.0. Average score (-1.25)\n",
      "Win/lose count 1.5/2.0. Average score (-1.1428571428571428)\n",
      "Win/lose count 2.0/1.0. Average score (-0.875)\n",
      "Win/lose count 2.0/0. Average score (-0.5555555555555556)\n",
      "Win/lose count 2.5/0. Average score (-0.25)\n",
      "Win/lose count 2.0/4.0. Average score (-0.4090909090909091)\n",
      "Win/lose count 1.0/3.0. Average score (-0.5416666666666666)\n",
      "Win/lose count 1.0/4.0. Average score (-0.7307692307692307)\n",
      "Win/lose count 2.0/1.0. Average score (-0.6071428571428571)\n",
      "Win/lose count 0.5/1.0. Average score (-0.6)\n",
      "Win/lose count 0/1.0. Average score (-0.625)\n",
      "Win/lose count 1.0/3.0. Average score (-0.7058823529411765)\n",
      "Win/lose count 1.5/2.0. Average score (-0.6944444444444444)\n",
      "Win/lose count 1.5/2.0. Average score (-0.6842105263157895)\n",
      "Win/lose count 2.5/5.0. Average score (-0.775)\n",
      "Final score: -0.775\n"
     ]
    },
    {
     "data": {
      "text/html": [
       "<video alt=\"test\" controls>\n",
       "                <source src=\"data:video/mp4;base64,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\" type=\"video/mp4\" />\n",
       "             </video>"
      ],
      "text/plain": [
       "<IPython.core.display.HTML object>"
      ]
     },
     "execution_count": 8,
     "metadata": {},
     "output_type": "execute_result"
    }
   ],
   "source": [
    "# Initialize the game\n",
    "env = Environment(grid_size=size, max_time=T,temperature=temperature) #Sets the environment \n",
    "\n",
    "# Initialize the agent!\n",
    "agent = RandomAgent()\n",
    "\n",
    "test(agent,env,epochs_test,prefix='random') #Play the game until Game Over for each epoch\n",
    "HTML(display_videos('random0.mp4'))"
   ]
  },
  {
   "cell_type": "markdown",
   "metadata": {},
   "source": [
    "***\n",
    "## DQN"
   ]
  },
  {
   "cell_type": "markdown",
   "metadata": {},
   "source": [
    "Let us assume here that $T=\\infty$.\n",
    "\n",
    "***\n",
    "__Question 5__ Let $\\pi$ be a policy, show that:\n",
    "\n",
    "\\begin{equation*}\n",
    "Q^{\\pi}(s,a)=E_{(s',a')\\sim p(.|s,a)}[r(s,a)+\\gamma Q^{\\pi}(s',a')]\n",
    "\\end{equation*}\n",
    "\n",
    "Then, show that for the optimal policy $\\pi^*$ (we assume its existence), the following holds: \n",
    "\n",
    "\\begin{equation*}\n",
    "Q^{*}(s,a)=E_{s'\\sim \\pi^*(.|s,a)}[r(s,a)+\\gamma\\max_{a'}Q^{*}(s',a')].\n",
    "\\end{equation*}\n",
    "Finally, deduce that a plausible objective is:\n",
    "\n",
    "\\begin{equation*}\n",
    "\\mathcal{L}(\\theta)=E_{s' \\sim \\pi^*(.|s,a)}\\Vert r+\\gamma\\max\\max_{a'}Q(s',a',\\theta)-Q(s,a,\\theta)\\Vert^{2}.\n",
    "\\end{equation*}\n",
    "\n",
    "\n"
   ]
  },
  {
   "cell_type": "markdown",
   "metadata": {},
   "source": [
    "***\n",
    "__Proof__ \n",
    "\n",
    "From the definition, and using the properties of the conditional expection,\n",
    "$$\n",
    "\\begin{aligned}\n",
    "Q^{\\pi}(s,a) &= E_{\\pi}[ \\sum_{t=0}^{\\infty}\\gamma^t r(s_t,a_t) \\ | \\ s_0 = s, a_0 = a]\\\\\n",
    "&= E[r(s,a)]+ E_{\\pi}[ \\sum_{t=1}^{\\infty}\\gamma^{t} r(s_{t},a_{t}) \\ | \\ s_0 = s, a_0 = a ]    \\\\\n",
    "&= E[r(s,a)]+ \\gamma \\sum_{s'\\in S}^{} \\sum_{a' \\in A}^{} p(s_1 = s',a_1 = a'|s_0 = s, a_0 = a)E_{\\pi}[\\sum_{t=1}^{\\infty}\\gamma^{t-1} r(s_{t},a_{t}) \\ |\\  s_1 = s',a_1 = a' ]\\\\\n",
    "& = E[r(s,a)]+ \\gamma \\sum_{s'\\in S}^{} \\sum_{a' \\in A}^{} p(s_1 = s',a_1 = a'|s_0 = s, a_0 = a)Q^{\\pi}(s',a')\\\\\n",
    "&= E_{(s',a')\\sim p(.|s,a)}[r(s,a)+\\gamma Q^{\\pi}(s',a')]\n",
    "\\end{aligned}\n",
    "$$\n",
    "\n",
    "\n",
    "\n",
    "Then, for the optimal policy $\\pi^*$, the Q-function is $Q^{*}(s,a) = max_{\\pi} Q^{\\pi}(s,a)$.\n",
    "Using what we just prove we get:\n",
    "$$\n",
    "\\begin{aligned}\n",
    "Q^*(s,a) & = \\max_{\\pi}E_{(s',a')\\sim p(.|s,a)}[r(s,a)+\\gamma Q^{\\pi}(s',a')] \\\\\n",
    " & = r(s,a) + \\gamma \\max_{\\pi} [ \\sum_{s' \\in S}^{}  \\sum_{a' \\in A}^{} p(s',a'|s,a)Q^{\\pi}(s',a') ] \\\\\n",
    " & = r(s,a) + \\gamma  \\sum_{s' \\in S}^{}p(s'|s,a)\n",
    " \\max_{\\pi} [\\sum_{a' \\in A}^{} \\pi(a'|s')Q^{\\pi}(s',a') ]\\\\\n",
    " & \\text{We have} ~~\n",
    " max_{a, \\pi’} [f(a)+g(\\pi’)] = max_a f(a)+ max_{\\pi’} g(\\pi’) \\\\ \n",
    " & Hence: \\\\\n",
    " & = r(s,a) + \\gamma  \\sum_{s' \\in S}^{}p(s'|s,a) \\max_{a'} Q^*(s',a') \\\\\n",
    "& = r(s,a) + \\gamma  \\sum_{s' \\in S}^{}p(s'|s,a) \\max_{a'} Q^*(s',a')\\\\\n",
    "& = E_{s'\\sim \\pi^*(.|s,a)}[r(s,a)+\\gamma\\max_{a'}Q^{*}(s',a')]\n",
    "\\end{aligned}\n",
    "$$\n",
    "\n",
    "\n",
    "$$\n",
    "\\begin{equation*}\n",
    "\\mathcal{L}(\\theta)=E_{s' \\sim \\pi^*(.|s,a)}\\Vert r+\\gamma\\max\\max_{a'}Q(s',a',\\theta)-Q(s,a,\\theta)\\Vert^{2}.\n",
    "\\end{equation*}$$ is exactly the MSE which is a pretty accurate loss function."
   ]
  },
  {
   "cell_type": "markdown",
   "metadata": {},
   "source": [
    "***\n",
    "The DQN-learning algorithm relies on these derivations to train the parameters $\\theta$ of a Deep Neural Network:\n",
    "\n",
    "1. At the state $s_t$, select the action $a_t$ with best reward using $Q_t$ and store the results;\n",
    "\n",
    "2. Obtain the new state $s_{t+1}$ from the environment $p$;\n",
    "\n",
    "3. Store $(s_t,a_t,s_{t+1})$;\n",
    "\n",
    "4. Obtain $Q_{t+1}$ by minimizing  $\\mathcal{L}$ from a recovered batch from the previously stored results.\n",
    "\n",
    "***\n",
    "__Question 6__ Implement the class ```Memory``` that stores moves (in a replay buffer) via ```remember``` and provides a ```random_access``` to these. Specify a maximum memory size to avoid side effects. You can for example use a ```list()``` and set by default ```max_memory=100```."
   ]
  },
  {
   "cell_type": "code",
   "execution_count": 9,
   "metadata": {},
   "outputs": [],
   "source": [
    "import random\n",
    "class Memory(object):\n",
    "    def __init__(self, max_memory=100):\n",
    "        self.max_memory = max_memory\n",
    "        self.memory = list()\n",
    "\n",
    "    def remember(self, m):\n",
    "        self.memory.append(m)\n",
    "        if len(self.memory) > self.max_memory:\n",
    "            self.memory.pop(0) \n",
    "            \n",
    "    def random_access(self):\n",
    "        return random.choice(self.memory)"
   ]
  },
  {
   "cell_type": "markdown",
   "metadata": {},
   "source": [
    "***\n",
    "The pipeline we will use for training is given below:"
   ]
  },
  {
   "cell_type": "code",
   "execution_count": 10,
   "metadata": {},
   "outputs": [],
   "source": [
    "def train(agent,env,epoch,prefix=''):\n",
    "    # Number of won games\n",
    "    score = 0\n",
    "    loss = 0\n",
    "\n",
    "    for e in range(epoch):\n",
    "        # At each epoch, we restart to a fresh game and get the initial state\n",
    "        state = env.reset()\n",
    "        # This assumes that the games will terminate\n",
    "        game_over = False\n",
    "\n",
    "        win = 0\n",
    "        lose = 0\n",
    "\n",
    "        while not game_over:\n",
    "            # The agent performs an action\n",
    "            action = agent.act(state)\n",
    "\n",
    "            # Apply an action to the environment, get the next state, the reward\n",
    "            # and if the games end\n",
    "            prev_state = state\n",
    "            state, reward, game_over = env.act(action)\n",
    "\n",
    "            # Update the counters\n",
    "            if reward > 0:\n",
    "                win = win + reward\n",
    "            if reward < 0:\n",
    "                lose = lose -reward\n",
    "\n",
    "            # Apply the reinforcement strategy\n",
    "            loss = agent.reinforce(prev_state, state,  action, reward, game_over)\n",
    "\n",
    "        # Save as a mp4\n",
    "        if e % 10 == 0:\n",
    "            env.draw(prefix+str(e))\n",
    "\n",
    "        # Update stats \n",
    "        score += win-lose\n",
    "\n",
    "        print(\"Epoch {:03d}/{:03d} | Loss {:.4f} | Win/lose count {}/{} ({})\"\n",
    "              .format(e, epoch, loss, win, lose, win-lose))\n",
    "        agent.save(name_weights=prefix+'model.h5',name_model=prefix+'model.json')"
   ]
  },
  {
   "cell_type": "markdown",
   "metadata": {},
   "source": [
    "***\n",
    "__Question 7__ Implement the DQN training algorithm using a cascade of fully connected layers. You can use different learning rate, batch size or memory size parameters. In particular, the loss might oscillate while the player will start to win the games. You have to find a good criterium."
   ]
  },
  {
   "cell_type": "code",
   "execution_count": 11,
   "metadata": {},
   "outputs": [],
   "source": [
    "class DQN(Agent):\n",
    "    def __init__(self, grid_size,  epsilon = 0.1, memory_size=100, batch_size = 16,n_state=2):\n",
    "        super(DQN, self).__init__(epsilon = epsilon)\n",
    "\n",
    "        # Discount for Q learning\n",
    "        self.discount = 0.99\n",
    "        \n",
    "        self.grid_size = grid_size\n",
    "        \n",
    "        # number of state\n",
    "        self.n_state = n_state\n",
    "\n",
    "        # Memory\n",
    "        self.memory = Memory(memory_size)\n",
    "        \n",
    "        # Batch size when learning\n",
    "        self.batch_size = batch_size\n",
    "\n",
    "\n",
    "    def learned_act(self, s):\n",
    "        predicted_Q = self.model.predict(s.reshape(1,5,5,self.n_state))\n",
    "        return np.argmax(predicted_Q)\n",
    "    \n",
    "\n",
    "    \n",
    "    def reinforce(self, s_, n_s_, a_, r_, game_over_):\n",
    "        # Two steps: first memorize the states, second learn from the pool\n",
    "\n",
    "        # First, memorize the states\n",
    "        self.memory.remember([s_, n_s_, a_, r_, game_over_])\n",
    "        \n",
    "        input_states = np.zeros((self.batch_size, 5,5,self.n_state))\n",
    "        target_q = np.zeros((self.batch_size, 4))\n",
    "        \n",
    "        for i in range(self.batch_size):\n",
    "            s, n_s, a, r, game_over = self.memory.random_access()\n",
    "            pred = self.model.predict(np.array([s, n_s]))\n",
    "            target_q[i] = pred[0]\n",
    "            input_states[i] = s\n",
    "            if game_over_:\n",
    "                target_q[i][a] = r\n",
    "            else:\n",
    "                target_q[i][a] = r + self.discount*max(pred[1])\n",
    "\n",
    "        target_q = np.clip(target_q, -3, 3)\n",
    "\n",
    "        l = self.model.train_on_batch(input_states, target_q)\n",
    "\n",
    "        \n",
    "        return l\n",
    "\n",
    "    def save(self,name_weights='model.h5',name_model='model.json'):\n",
    "        self.model.save_weights(name_weights, overwrite=True)\n",
    "        with open(name_model, \"w\") as outfile:\n",
    "            json.dump(self.model.to_json(), outfile)\n",
    "            \n",
    "    def load(self,name_weights='model.h5',name_model='model.json'):\n",
    "        with open(name_model, \"r\") as jfile:\n",
    "            model = model_from_json(json.load(jfile))\n",
    "        model.load_weights(name_weights)\n",
    "        model.compile(\"adam\", \"mse\")\n",
    "        self.model = model\n",
    "\n",
    "            \n",
    "class DQN_FC(DQN):\n",
    "    def __init__(self, *args,**kwargs):\n",
    "        lr = kwargs.pop('lr', 0.1)\n",
    "        super(DQN_FC, self).__init__( *args,**kwargs)\n",
    "        \n",
    "        model = Sequential()\n",
    "        model.add(Flatten(input_shape=(5, 5, self.n_state)))\n",
    "        model.add(Dense(32,activation='tanh'))\n",
    "        model.add(Dense(4))\n",
    "        model.compile(Adam(lr=lr), \"mse\")\n",
    "        \n",
    "        self.model = model"
   ]
  },
  {
   "cell_type": "code",
   "execution_count": 12,
   "metadata": {},
   "outputs": [
    {
     "name": "stdout",
     "output_type": "stream",
     "text": [
      "Epoch 000/030 | Loss 0.8401 | Win/lose count 3.5/1.0 (2.5)\n",
      "Epoch 001/030 | Loss 1.7679 | Win/lose count 5.0/4.0 (1.0)\n",
      "Epoch 002/030 | Loss 2.0403 | Win/lose count 4.5/6.0 (-1.5)\n",
      "Epoch 003/030 | Loss 1.9786 | Win/lose count 1.5/4.0 (-2.5)\n",
      "Epoch 004/030 | Loss 1.9494 | Win/lose count 4.5/0 (4.5)\n",
      "Epoch 005/030 | Loss 1.9639 | Win/lose count 4.0/4.0 (0.0)\n",
      "Epoch 006/030 | Loss 2.0325 | Win/lose count 6.0/7.0 (-1.0)\n",
      "Epoch 007/030 | Loss 2.0991 | Win/lose count 3.0/1.0 (2.0)\n",
      "Epoch 008/030 | Loss 2.0421 | Win/lose count 6.5/2.0 (4.5)\n",
      "Epoch 009/030 | Loss 2.0238 | Win/lose count 6.0/3.0 (3.0)\n",
      "Epoch 010/030 | Loss 1.9721 | Win/lose count 3.0/2.0 (1.0)\n",
      "Epoch 011/030 | Loss 1.9898 | Win/lose count 3.5/2.0 (1.5)\n",
      "Epoch 012/030 | Loss 2.0434 | Win/lose count 6.0/0 (6.0)\n",
      "Epoch 013/030 | Loss 2.0516 | Win/lose count 5.5/0 (5.5)\n",
      "Epoch 014/030 | Loss 2.0302 | Win/lose count 5.0/1.0 (4.0)\n",
      "Epoch 015/030 | Loss 2.0103 | Win/lose count 3.5/3.0 (0.5)\n",
      "Epoch 016/030 | Loss 2.0371 | Win/lose count 4.5/3.0 (1.5)\n",
      "Epoch 017/030 | Loss 2.0385 | Win/lose count 8.0/1.0 (7.0)\n",
      "Epoch 018/030 | Loss 2.0317 | Win/lose count 4.5/3.0 (1.5)\n",
      "Epoch 019/030 | Loss 2.0155 | Win/lose count 5.5/3.0 (2.5)\n",
      "Epoch 020/030 | Loss 2.0047 | Win/lose count 2.5/4.0 (-1.5)\n",
      "Epoch 021/030 | Loss 2.0020 | Win/lose count 6.5/1.0 (5.5)\n",
      "Epoch 022/030 | Loss 1.9850 | Win/lose count 3.0/1.0 (2.0)\n",
      "Epoch 023/030 | Loss 2.0283 | Win/lose count 5.0/2.0 (3.0)\n",
      "Epoch 024/030 | Loss 2.0747 | Win/lose count 5.5/1.0 (4.5)\n",
      "Epoch 025/030 | Loss 2.0310 | Win/lose count 5.5/2.0 (3.5)\n",
      "Epoch 026/030 | Loss 2.0098 | Win/lose count 3.0/4.0 (-1.0)\n",
      "Epoch 027/030 | Loss 2.0018 | Win/lose count 7.5/3.0 (4.5)\n",
      "Epoch 028/030 | Loss 1.9661 | Win/lose count 4.0/1.0 (3.0)\n",
      "Epoch 029/030 | Loss 1.9675 | Win/lose count 15.5/6.0 (9.5)\n"
     ]
    },
    {
     "data": {
      "text/html": [
       "<video alt=\"test\" controls>\n",
       "                <source src=\"data:video/mp4;base64,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\" type=\"video/mp4\" />\n",
       "             </video>"
      ],
      "text/plain": [
       "<IPython.core.display.HTML object>"
      ]
     },
     "execution_count": 12,
     "metadata": {},
     "output_type": "execute_result"
    }
   ],
   "source": [
    "env = Environment(grid_size=size, max_time=T, temperature=0.3)\n",
    "agent = DQN_FC(size, lr=.001, epsilon = 0.1, memory_size=2000, batch_size = 64)\n",
    "train(agent, env, epochs_train, prefix='fc_train') # Training to get best Q\n",
    "HTML(display_videos('fc_train10.mp4'))"
   ]
  },
  {
   "cell_type": "markdown",
   "metadata": {},
   "source": [
    "***\n",
    "***\n",
    "__Question 8__ Implement the DQN training algorithm using a CNN (for example, 2 convolutional layers and one final fully connected layer)."
   ]
  },
  {
   "cell_type": "code",
   "execution_count": 13,
   "metadata": {},
   "outputs": [],
   "source": [
    "class DQN_CNN(DQN):\n",
    "    def __init__(self, *args,lr=0.1,**kwargs):\n",
    "        super(DQN_CNN, self).__init__(*args,**kwargs)\n",
    "        \n",
    "        ###### FILL IN\n",
    "        model = Sequential()\n",
    "        model.add(Conv2D(128, (3,3), activation='relu',input_shape=(5,5,self.n_state)))\n",
    "        model.add(Conv2D(64, (3,3), activation='tanh'))\n",
    "        model.add(Flatten())\n",
    "        model.add(Dense(4))\n",
    "        model.compile(Adam(lr=lr), \"mse\")\n",
    "        self.model = model"
   ]
  },
  {
   "cell_type": "code",
   "execution_count": 14,
   "metadata": {},
   "outputs": [
    {
     "name": "stdout",
     "output_type": "stream",
     "text": [
      "Epoch 000/030 | Loss 1.7262 | Win/lose count 1.5/3.0 (-1.5)\n",
      "Epoch 001/030 | Loss 2.1301 | Win/lose count 10.0/9.0 (1.0)\n",
      "Epoch 002/030 | Loss 2.0455 | Win/lose count 5.5/7.0 (-1.5)\n",
      "Epoch 003/030 | Loss 2.0010 | Win/lose count 11.0/5.0 (6.0)\n",
      "Epoch 004/030 | Loss 1.9981 | Win/lose count 8.5/2.0 (6.5)\n",
      "Epoch 005/030 | Loss 2.0519 | Win/lose count 10.0/2.0 (8.0)\n",
      "Epoch 006/030 | Loss 1.9781 | Win/lose count 2.5/3.0 (-0.5)\n",
      "Epoch 007/030 | Loss 2.1148 | Win/lose count 12.5/5.0 (7.5)\n",
      "Epoch 008/030 | Loss 2.1050 | Win/lose count 10.0/2.0 (8.0)\n",
      "Epoch 009/030 | Loss 2.0096 | Win/lose count 6.5/3.0 (3.5)\n",
      "Epoch 010/030 | Loss 2.0109 | Win/lose count 9.0/3.0 (6.0)\n",
      "Epoch 011/030 | Loss 2.0359 | Win/lose count 13.0/1.0 (12.0)\n",
      "Epoch 012/030 | Loss 2.1432 | Win/lose count 5.5/6.0 (-0.5)\n",
      "Epoch 013/030 | Loss 1.9788 | Win/lose count 14.0/4.0 (10.0)\n",
      "Epoch 014/030 | Loss 2.1121 | Win/lose count 10.0/1.0 (9.0)\n",
      "Epoch 015/030 | Loss 1.8511 | Win/lose count 20.0/5.0 (15.0)\n",
      "Epoch 016/030 | Loss 2.0476 | Win/lose count 14.0/4.0 (10.0)\n",
      "Epoch 017/030 | Loss 2.0266 | Win/lose count 7.5/3.0 (4.5)\n",
      "Epoch 018/030 | Loss 2.0780 | Win/lose count 15.5/4.0 (11.5)\n",
      "Epoch 019/030 | Loss 1.9974 | Win/lose count 8.5/2.0 (6.5)\n",
      "Epoch 020/030 | Loss 2.0112 | Win/lose count 5.0/4.0 (1.0)\n",
      "Epoch 021/030 | Loss 2.0051 | Win/lose count 18.0/3.0 (15.0)\n",
      "Epoch 022/030 | Loss 2.0264 | Win/lose count 14.5/6.0 (8.5)\n",
      "Epoch 023/030 | Loss 1.9364 | Win/lose count 10.5/5.0 (5.5)\n",
      "Epoch 024/030 | Loss 2.0285 | Win/lose count 20.5/2.0 (18.5)\n",
      "Epoch 025/030 | Loss 2.0207 | Win/lose count 16.5/3.0 (13.5)\n",
      "Epoch 026/030 | Loss 2.0161 | Win/lose count 13.5/4.0 (9.5)\n",
      "Epoch 027/030 | Loss 2.0355 | Win/lose count 11.5/2.0 (9.5)\n",
      "Epoch 028/030 | Loss 2.0725 | Win/lose count 19.5/1.0 (18.5)\n",
      "Epoch 029/030 | Loss 1.9470 | Win/lose count 10.5/8.0 (2.5)\n"
     ]
    },
    {
     "data": {
      "text/html": [
       "<video alt=\"test\" controls>\n",
       "                <source src=\"data:video/mp4;base64,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\" type=\"video/mp4\" />\n",
       "             </video>"
      ],
      "text/plain": [
       "<IPython.core.display.HTML object>"
      ]
     },
     "execution_count": 14,
     "metadata": {},
     "output_type": "execute_result"
    }
   ],
   "source": [
    "env = Environment(grid_size=size, max_time=T, temperature=0.3)\n",
    "agent = DQN_CNN(size, lr=.01, epsilon = 0.1, memory_size=2000, batch_size = 64)\n",
    "train(agent,env,epochs_train,prefix='cnn_train')\n",
    "HTML(display_videos('cnn_train10.mp4'))"
   ]
  },
  {
   "cell_type": "markdown",
   "metadata": {},
   "source": [
    "***\n",
    "***\n",
    "__Question 9__ Test both algorithms and compare their performances. Which issue(s) do you observe? Observe also different behaviors by changing the temperature."
   ]
  },
  {
   "cell_type": "code",
   "execution_count": 15,
   "metadata": {},
   "outputs": [
    {
     "name": "stdout",
     "output_type": "stream",
     "text": [
      "Test of the CNN\n",
      "Win/lose count 17.5/6.0. Average score (11.5)\n",
      "Win/lose count 13.5/5.0. Average score (10.0)\n",
      "Win/lose count 6.0/1.0. Average score (8.333333333333334)\n",
      "Win/lose count 20.5/4.0. Average score (10.375)\n",
      "Win/lose count 7.0/1.0. Average score (9.5)\n",
      "Win/lose count 3.0/0. Average score (8.416666666666666)\n",
      "Win/lose count 10.0/3.0. Average score (8.214285714285714)\n",
      "Win/lose count 19.0/5.0. Average score (8.9375)\n",
      "Win/lose count 10.5/1.0. Average score (9.0)\n",
      "Win/lose count 11.5/3.0. Average score (8.95)\n",
      "Win/lose count 23.5/3.0. Average score (10.0)\n",
      "Win/lose count 25.0/3.0. Average score (11.0)\n",
      "Win/lose count 16.5/2.0. Average score (11.26923076923077)\n",
      "Win/lose count 10.0/0. Average score (11.178571428571429)\n",
      "Win/lose count 18.0/4.0. Average score (11.366666666666667)\n",
      "Win/lose count 13.0/3.0. Average score (11.28125)\n",
      "Win/lose count 16.0/3.0. Average score (11.382352941176471)\n",
      "Win/lose count 12.0/2.0. Average score (11.305555555555555)\n",
      "Win/lose count 27.0/2.0. Average score (12.026315789473685)\n",
      "Win/lose count 15.5/4.0. Average score (12.0)\n",
      "Final score: 12.0\n",
      "Test of the FC\n",
      "Win/lose count 7.0/5.0. Average score (2.0)\n",
      "Win/lose count 8.0/5.0. Average score (2.5)\n",
      "Win/lose count 9.5/4.0. Average score (3.5)\n",
      "Win/lose count 2.0/1.0. Average score (2.875)\n",
      "Win/lose count 4.0/0. Average score (3.1)\n",
      "Win/lose count 5.0/5.0. Average score (2.5833333333333335)\n",
      "Win/lose count 4.0/1.0. Average score (2.642857142857143)\n",
      "Win/lose count 12.0/4.0. Average score (3.3125)\n",
      "Win/lose count 7.0/6.0. Average score (3.0555555555555554)\n",
      "Win/lose count 6.5/5.0. Average score (2.9)\n",
      "Win/lose count 10.5/3.0. Average score (3.3181818181818183)\n",
      "Win/lose count 10.0/3.0. Average score (3.625)\n",
      "Win/lose count 10.0/5.0. Average score (3.730769230769231)\n",
      "Win/lose count 14.5/1.0. Average score (4.428571428571429)\n",
      "Win/lose count 9.0/5.0. Average score (4.4)\n",
      "Win/lose count 4.5/5.0. Average score (4.09375)\n",
      "Win/lose count 12.0/3.0. Average score (4.382352941176471)\n",
      "Win/lose count 12.5/2.0. Average score (4.722222222222222)\n",
      "Win/lose count 6.5/0. Average score (4.815789473684211)\n",
      "Win/lose count 11.5/1.0. Average score (5.1)\n",
      "Final score: 5.1\n"
     ]
    }
   ],
   "source": [
    "env = Environment(grid_size=size, max_time=T,temperature=0.4) \n",
    "# temperature = 0.3 Averages 7.8 CNN & 3.9 FC // T=0.4 Averages 13.1 CNN & 5.2 FC\n",
    "agent_cnn = DQN_CNN(size, lr=.01, epsilon = 0.1, memory_size=2000, batch_size = 64)\n",
    "agent_cnn.load(name_weights='cnn_trainmodel.h5',name_model='cnn_trainmodel.json')\n",
    "\n",
    "agent_fc = DQN_FC(size, lr=.001, epsilon = 0.1, memory_size=2000, batch_size = 64)\n",
    "agent_cnn.load(name_weights='fc_trainmodel.h5',name_model='fc_trainmodel.json')\n",
    "print('Test of the CNN')\n",
    "test(agent_cnn,env,epochs_test,prefix='cnn_test')\n",
    "print('Test of the FC')\n",
    "test(agent_fc,env,epochs_test,prefix='fc_test')"
   ]
  },
  {
   "cell_type": "code",
   "execution_count": 16,
   "metadata": {},
   "outputs": [
    {
     "data": {
      "text/html": [
       "<video alt=\"test\" controls>\n",
       "                <source src=\"data:video/mp4;base64,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\" type=\"video/mp4\" />\n",
       "             </video>"
      ],
      "text/plain": [
       "<IPython.core.display.HTML object>"
      ]
     },
     "execution_count": 16,
     "metadata": {},
     "output_type": "execute_result"
    }
   ],
   "source": [
    "HTML(display_videos('cnn_test10.mp4'))"
   ]
  },
  {
   "cell_type": "code",
   "execution_count": 17,
   "metadata": {},
   "outputs": [
    {
     "data": {
      "text/html": [
       "<video alt=\"test\" controls>\n",
       "                <source src=\"data:video/mp4;base64,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\" type=\"video/mp4\" />\n",
       "             </video>"
      ],
      "text/plain": [
       "<IPython.core.display.HTML object>"
      ]
     },
     "execution_count": 17,
     "metadata": {},
     "output_type": "execute_result"
    }
   ],
   "source": [
    "HTML(display_videos('fc_test10.mp4'))"
   ]
  },
  {
   "cell_type": "markdown",
   "metadata": {},
   "source": [
    "***\n",
    "__Answer__\n",
    "\n",
    "First,we notice that Convolutional networks gives a better Average Score (win/lose) than a classical neural network.\n",
    "<br>In both videos the \"rat\" seems to be stuck in some area. Worse than this, he seems to like staying in the same cell. It doesn't go through the whole map. \n",
    "<br> It can be explained by the fact that epsilon is fixed or that maybe it prefers staying on his cell (where there's no penalty) than attempting to reach another cell which could contain a malus.\n",
    "\n",
    "Concerning temperature : Increasing temperatures gives us better results on both CNN and FC (It gives a Higher probability in Bonus and in Malus, it's the p in Binomial (n,p). Hence, there are more rewards to get!\n"
   ]
  },
  {
   "cell_type": "markdown",
   "metadata": {},
   "source": [
    "***\n",
    "\n",
    "The algorithm tends to not explore the map which can be an issue. We propose two ideas in order to encourage exploration:\n",
    "1. Incorporating a decreasing $\\epsilon$-greedy exploration. You can use the method ```set_epsilon```\n",
    "2. Append via the environment a new state that describes if a cell has been visited or not\n",
    "\n",
    "***\n",
    "__Question 10__ Design a new ```train_explore``` function and environment class ```EnvironmentExploring``` to tackle the issue of exploration.\n",
    "\n"
   ]
  },
  {
   "cell_type": "code",
   "execution_count": 18,
   "metadata": {},
   "outputs": [],
   "source": [
    "max_epsilon = 1\n",
    "min_epsilon = 0.1 \n",
    "decay_rate = 0.01\n",
    "\n",
    "\n",
    "\n",
    "def train_explore(agent,env,epoch,prefix=''):\n",
    "        # Number of won games\n",
    "    score = 0\n",
    "    loss = 0\n",
    "\n",
    "    for e in range(epoch):\n",
    "        # At each epoch, we restart to a fresh game and get the initial state\n",
    "        state = env.reset()\n",
    "        # This assumes that the games will terminate\n",
    "        game_over = False\n",
    "\n",
    "        win = 0\n",
    "        lose = 0\n",
    "\n",
    "        while not game_over:\n",
    "            # The agent performs an action\n",
    "            action = agent.act(state,train=True)\n",
    "\n",
    "            # Apply an action to the environment, get the next state, the reward\n",
    "            # and if the games end\n",
    "            prev_state = state\n",
    "            state, reward, game_over = env.act(action, train=True)\n",
    "\n",
    "            # Update the counters\n",
    "            if reward > 0:\n",
    "                win = win + reward\n",
    "            if reward < 0:\n",
    "                lose = lose -reward\n",
    "\n",
    "            # Apply the reinforcement strategy\n",
    "            loss = agent.reinforce(prev_state, state,  action, reward, game_over)\n",
    "            \n",
    "        epsilon = min_epsilon + (max_epsilon-min_epsilon)*np.exp(decay_rate*e)\n",
    "        \n",
    "        # Save as a mp4\n",
    "        if e % 10 == 0:\n",
    "            env.draw(prefix+str(e))\n",
    "\n",
    "        # Update stats \n",
    "        score += win-lose\n",
    "\n",
    "        print(\"Epoch {:03d}/{:03d} | Loss {:.4f} | Win/lose count {}/{} ({})\"\n",
    "              .format(e, epoch, loss, win, lose, win-lose))\n",
    "        agent.save(name_weights=prefix+'model.h5',name_model=prefix+'model.json')\n",
    "       \n",
    "    \n",
    "    pass\n",
    "\n",
    "\n",
    "\n",
    "\n",
    "\n",
    "class EnvironmentExploring(object):\n",
    "    def __init__(self, grid_size=10, max_time=500, temperature=0.1):\n",
    "        grid_size = grid_size+4\n",
    "        self.grid_size = grid_size\n",
    "        self.max_time = max_time\n",
    "        self.temperature = temperature\n",
    "\n",
    "        #board on which one plays\n",
    "        self.board = np.zeros((grid_size,grid_size))     #Tableau avec rewards : poison -1 /cheese +0.5\n",
    "        self.position = np.zeros((grid_size,grid_size))  #Position of the rat\n",
    "\n",
    "        # coordinate of the rat\n",
    "        self.x = 0\n",
    "        self.y = 1\n",
    "\n",
    "        # self time\n",
    "        self.t = 0\n",
    "\n",
    "        self.scale=16\n",
    "\n",
    "        self.to_draw = np.zeros((max_time+2, grid_size*self.scale, grid_size*self.scale, 3)) #(502,10*16,10*16,3)\n",
    "\n",
    "\n",
    "    def draw(self,e):\n",
    "        skvideo.io.vwrite(str(e) + '.mp4', self.to_draw)\n",
    "\n",
    "    def get_frame(self,t):\n",
    "        b = np.zeros((self.grid_size,self.grid_size,3))+128\n",
    "        b[self.board>0,0] = 256\n",
    "        b[self.board < 0, 2] = 256\n",
    "        b[self.x,self.y,:]=256\n",
    "        b[-2:,:,:]=0\n",
    "        b[:,-2:,:]=0\n",
    "        b[:2,:,:]=0\n",
    "        b[:,:2,:]=0\n",
    "        \n",
    "        b =  cv2.resize(b, None, fx=self.scale, fy=self.scale, interpolation=cv2.INTER_NEAREST)\n",
    "\n",
    "        self.to_draw[t,:,:,:]=b\n",
    "\n",
    "\n",
    "    def act(self, action,train=False):\n",
    "        \"\"\"This function returns the new state, reward and decides if the\n",
    "        game ends.\"\"\"\n",
    "\n",
    "        self.get_frame(int(self.t))\n",
    "\n",
    "        self.position = np.zeros((self.grid_size, self.grid_size))\n",
    "\n",
    "        self.position[0:2,:]= -1\n",
    "        self.position[:,0:2] = -1\n",
    "        self.position[-2:, :] = -1\n",
    "        self.position[:, -2:] = -1\n",
    "\n",
    "        self.position[self.x, self.y] = 1\n",
    "        if action == 0: #Down\n",
    "            if self.x == self.grid_size-3:\n",
    "                self.x = self.x-1\n",
    "            else:\n",
    "                self.x = self.x + 1\n",
    "        elif action == 1: #Up\n",
    "            if self.x == 2:\n",
    "                self.x = self.x+1\n",
    "            else:\n",
    "                self.x = self.x-1\n",
    "        elif action == 2: #Right\n",
    "            if self.y == self.grid_size - 3:\n",
    "                self.y = self.y - 1\n",
    "            else:\n",
    "                self.y = self.y + 1\n",
    "        elif action == 3: #Left \n",
    "            if self.y == 2:\n",
    "                self.y = self.y + 1\n",
    "            else:\n",
    "                self.y = self.y - 1\n",
    "        else:\n",
    "            RuntimeError('Error: action not recognized')\n",
    "        \n",
    "        reward = 0\n",
    "        if train:\n",
    "            reward = -self.malus_position[self.x, self.y]\n",
    "        self.malus_position[self.x, self.y] += 0.1\n",
    "\n",
    "        reward = reward + self.board[self.x, self.y]\n",
    "        self.t = self.t + 1\n",
    "        self.board[self.x, self.y] = 0\n",
    "        game_over = self.t > self.max_time\n",
    "        state = np.concatenate((self.malus_position.reshape(self.grid_size, self.grid_size,1),\n",
    "                                self.board.reshape(self.grid_size, self.grid_size,1),\n",
    "                                self.position.reshape(self.grid_size, self.grid_size,1)),axis=2)\n",
    "        state = state[self.x-2:self.x+3,self.y-2:self.y+3,:]\n",
    "\n",
    "        return state, reward, game_over\n",
    "\n",
    "    def reset(self):\n",
    "        \"\"\"This function resets the game and returns the initial state\"\"\"\n",
    "\n",
    "        self.x = np.random.randint(3, self.grid_size-3, size=1)[0] # The rat starts anywhere on the board\n",
    "        self.y = np.random.randint(3, self.grid_size-3, size=1)[0]\n",
    "\n",
    "\n",
    "        bonus = 0.5*np.random.binomial(1,self.temperature,size=self.grid_size**2) #binomial with p=temperature\n",
    "        bonus = bonus.reshape(self.grid_size,self.grid_size)\n",
    "\n",
    "        malus = -1.0*np.random.binomial(1,self.temperature,size=self.grid_size**2)\n",
    "        malus = malus.reshape(self.grid_size, self.grid_size)\n",
    "\n",
    "        self.to_draw = np.zeros((self.max_time+2, self.grid_size*self.scale, self.grid_size*self.scale, 3))\n",
    "\n",
    "\n",
    "        malus[bonus>0]=0\n",
    "\n",
    "        self.board = bonus + malus\n",
    "\n",
    "        self.position = np.zeros((self.grid_size, self.grid_size))\n",
    "        self.position[0:2,:]= -1\n",
    "        self.position[:,0:2] = -1\n",
    "        self.position[-2:, :] = -1\n",
    "        self.position[:, -2:] = -1\n",
    "        self.board[self.x,self.y] = 0\n",
    "        self.t = 0\n",
    "        self.malus_position = np.zeros((self.grid_size, self.grid_size))\n",
    "        state = np.concatenate((self.malus_position.reshape(self.grid_size, self.grid_size,1),\n",
    "                                self.board.reshape(self.grid_size, self.grid_size,1),\n",
    "                                self.position.reshape(self.grid_size, self.grid_size,1)),axis=2)\n",
    "\n",
    "        state = state[self.x - 2:self.x + 3, self.y - 2:self.y + 3, :]\n",
    "        return state\n",
    "        \n",
    "        pass\n",
    "    \n",
    "\n"
   ]
  },
  {
   "cell_type": "code",
   "execution_count": 23,
   "metadata": {},
   "outputs": [
    {
     "name": "stdout",
     "output_type": "stream",
     "text": [
      "Epoch 000/030 | Loss 1.7990 | Win/lose count 21.5/41.100000000000065 (-19.600000000000065)\n",
      "Epoch 001/030 | Loss 1.5066 | Win/lose count 17.0/28.40000000000002 (-11.40000000000002)\n",
      "Epoch 002/030 | Loss 1.2995 | Win/lose count 30.0/28.1 (1.8999999999999986)\n",
      "Epoch 003/030 | Loss 1.5516 | Win/lose count 31.0/23.10000000000002 (7.899999999999981)\n",
      "Epoch 004/030 | Loss 1.4455 | Win/lose count 26.5/22.5 (4.0)\n",
      "Epoch 005/030 | Loss 1.6091 | Win/lose count 29.0/21.80000000000001 (7.199999999999989)\n",
      "Epoch 006/030 | Loss 1.5302 | Win/lose count 29.5/21.9 (7.600000000000001)\n",
      "Epoch 007/030 | Loss 1.3203 | Win/lose count 23.0/26.49999999999999 (-3.4999999999999893)\n",
      "Epoch 008/030 | Loss 1.5130 | Win/lose count 31.5/25.40000000000001 (6.099999999999991)\n",
      "Epoch 009/030 | Loss 1.3968 | Win/lose count 28.0/22.000000000000007 (5.999999999999993)\n",
      "Epoch 010/030 | Loss 1.4836 | Win/lose count 32.0/20.500000000000004 (11.499999999999996)\n",
      "Epoch 011/030 | Loss 1.3339 | Win/lose count 25.0/22.400000000000013 (2.599999999999987)\n",
      "Epoch 012/030 | Loss 1.4225 | Win/lose count 26.5/21.60000000000001 (4.8999999999999915)\n",
      "Epoch 013/030 | Loss 1.4524 | Win/lose count 33.0/19.800000000000008 (13.199999999999992)\n",
      "Epoch 014/030 | Loss 1.4501 | Win/lose count 30.0/28.30000000000002 (1.6999999999999815)\n",
      "Epoch 015/030 | Loss 1.4537 | Win/lose count 31.5/16.899999999999988 (14.600000000000012)\n",
      "Epoch 016/030 | Loss 1.5785 | Win/lose count 30.5/23.099999999999994 (7.400000000000006)\n",
      "Epoch 017/030 | Loss 1.5268 | Win/lose count 34.5/16.699999999999996 (17.800000000000004)\n",
      "Epoch 018/030 | Loss 1.4204 | Win/lose count 27.5/23.599999999999998 (3.900000000000002)\n",
      "Epoch 019/030 | Loss 1.4951 | Win/lose count 31.0/25.100000000000012 (5.899999999999988)\n",
      "Epoch 020/030 | Loss 1.6079 | Win/lose count 35.5/15.399999999999979 (20.100000000000023)\n",
      "Epoch 021/030 | Loss 1.5850 | Win/lose count 30.5/17.899999999999984 (12.600000000000016)\n",
      "Epoch 022/030 | Loss 1.4981 | Win/lose count 30.5/22.500000000000004 (7.9999999999999964)\n",
      "Epoch 023/030 | Loss 1.5817 | Win/lose count 30.5/25.900000000000027 (4.599999999999973)\n",
      "Epoch 024/030 | Loss 1.5273 | Win/lose count 22.5/31.30000000000002 (-8.800000000000018)\n",
      "Epoch 025/030 | Loss 1.6341 | Win/lose count 32.5/18.59999999999998 (13.90000000000002)\n",
      "Epoch 026/030 | Loss 1.6599 | Win/lose count 35.5/22.40000000000001 (13.09999999999999)\n",
      "Epoch 027/030 | Loss 1.5141 | Win/lose count 34.5/16.599999999999987 (17.900000000000013)\n",
      "Epoch 028/030 | Loss 1.4301 | Win/lose count 31.5/19.300000000000004 (12.199999999999996)\n",
      "Epoch 029/030 | Loss 1.3468 | Win/lose count 32.0/21.800000000000004 (10.199999999999996)\n"
     ]
    },
    {
     "data": {
      "text/html": [
       "<video alt=\"test\" controls>\n",
       "                <source src=\"data:video/mp4;base64,AAAAIGZ0eXBpc29tAAACAGlzb21pc28yYXZjMW1wNDEAAAAIZnJlZQAAGeltZGF0AAACrQYF//+p3EXpvebZSLeWLNgg2SPu73gyNjQgLSBjb3JlIDE1NyByMjkzNSA1NDVkZTJmIC0gSC4yNjQvTVBFRy00IEFWQyBjb2RlYyAtIENvcHlsZWZ0IDIwMDMtMjAxOCAtIGh0dHA6Ly93d3cudmlkZW9sYW4ub3JnL3gyNjQuaHRtbCAtIG9wdGlvbnM6IGNhYmFjPTEgcmVmPTMgZGVibG9jaz0xOjA6MCBhbmFseXNlPTB4MToweDExMSBtZT1oZXggc3VibWU9NyBwc3k9MSBwc3lfcmQ9MS4wMDowLjAwIG1peGVkX3JlZj0xIG1lX3JhbmdlPTE2IGNocm9tYV9tZT0xIHRyZWxsaXM9MSA4eDhkY3Q9MCBjcW09MCBkZWFkem9uZT0yMSwxMSBmYXN0X3Bza2lwPTEgY2hyb21hX3FwX29mZnNldD00IHRocmVhZHM9OCBsb29rYWhlYWRfdGhyZWFkcz0xIHNsaWNlZF90aHJlYWRzPTAgbnI9MCBkZWNpbWF0ZT0xIGludGVybGFjZWQ9MCBibHVyYXlfY29tcGF0PTAgY29uc3RyYWluZWRfaW50cmE9MCBiZnJhbWVzPTMgYl9weXJhbWlkPTIgYl9hZGFwdD0xIGJfYmlhcz0wIGRpcmVjdD0xIHdlaWdodGI9MSBvcGVuX2dvcD0wIHdlaWdodHA9MiBrZXlpbnQ9MjUwIGtleWludF9taW49MjUgc2NlbmVjdXQ9NDAgaW50cmFfcmVmcmVzaD0wIHJjX2xvb2thaGVhZD00MCByYz1jcmYgbWJ0cmVlPTEgY3JmPTIzLjAgcWNvbXA9MC42MCBxcG1pbj0wIHFwbWF4PTY5IHFwc3RlcD00IGlwX3JhdGlvPTEuNDAgYXE9MToxLjAwAIAAAAMcZYiEADf//vaH+BTZWBP+Wb/9DX/cj9uPrP1xYyEE31qvIejAGS+1H+b/rFFs6Z6UB/fgCJQAc24ZwpHZJ46w5MIvVHwKXAT74FNJkWfRbQ7Sa4Yjw35Cj7gIggx21Si4JZ1oysMoY6Nydw7n9t7V1sKs5Cah0gghxku0elyyRwZKTWvyayzB8iOOLzojTvmZcTPLOzOiFjBhxPx4E6NlYInz9Ek62AVMrLg1O7dtPBOfXWDBfCMW0eXVSLtvijtGzs1Jf8ED6iJJcLUcOzWmazRdc2mqXL/nLy+ZLrd5HNm4nv2Gn1w1NuO9UB9m3AMCma42rntBydQ8lnkITFLnz5lZGN897vMzfr75D+0D5IoAUAFN1WB0GEuWIsKNlF1DBPfQ1/VdBU5u43A4yCKy2PwyiCHhgoe8ot2O99ye9XA9hPHYgj/TywDhvPhV6nv/+sSMRf4k9JU7I+lC1rYqHV68bXErceW6vud+9G5OK9YTMrYBcX8Mb6BSOh/DCoV1G3gar6DSgm0sLouwYBTEhjcQFDHtu62IRnzrnEXaDzhMyelRJXIKl7uwGjjLuLO6Wnb1h2I/2VxG8/SyZWfI+zbClK+IIS5v9dbSkTiNttiUYKY9zCVp+PN1hQIIbRsM1y8bWKdHAgikAQxAz8ceiOCIj+UzXQgPRGv5w8EmLB9Axee2w+haCWhGcB2U7ggimagCoyLajs5qrK4o7fPjsCyrgABM5ShkL3eLdEkk7PfTQj4IyidLMOb/NqzcFDyMX/M2ntYAdptJXpJLMOXtm69/NTfNw2WiHkl1MvmNViVbfmeTVB6t2MqiEU0DWbmXnsyIoj3SXAAFSTzHVNbgD5TtB95y4MqAVYgC3SKNIFXjssbSv6tzvD+ckBxvUUARkj7yZSRAc5AjgFcYGaABjiVyoWjR12QgPx0ps4Lo7wYEjCSiUtkTbC40Q4Xh48tHsCS7adyRIEQRVtOoh6k+Un/JnAP75/IY2YeRlHEE7RxCoQgMKdZPFPpxUFN1lKrRBJhuxLxp/LuDdz1hA4/a8AABcZ9WbGGUZAAD5wAAABtBmiJsQ3/+p4QADDyCqZCRdNS24Yp8rlH1iBwAAAAQAZ5BeQr/AAnzchnqAkHdUQAAABtBmkY8IZMphDf//qeEAAyLq0gyr/wGATX7WOAAAAAPQZ5kalPC/wAHbTo8/UQxAAAAEgGeg3RCvwAGmeTm+D9uxOOEgQAAABABnoVqQr8ACjxtd3kk+2ChAAAAGUGaiUmoQWiZTAhn//6eEAAw8hjn6MB2ae8AAAASQZ6nRREsK/8ACj2PAhIx+/GAAAAADgGeyGpCvwAKPY9dP1aMAAAAGEGaykmoQWyZTAhn//6eEAAw9L80TzKY2QAAABlBmutJ4QpSZTAhn/6eEAAv/wflG7Tm7i7HAAAAGEGbDEnhDomUwIZ//p4QAC6+6bGXJsq7PAAAABhBmy1J4Q8mUwIZ//6eEAAtnxOzrdAyRy0AAAAYQZtOSeEPJlMCGf/+nhAAQ04Rz+HOb66/AAAAGEGbb0nhDyZTAhn//p4QAEVEOP54L+SLfQAAABhBm5BJ4Q8mUwIZ//6eEABHRDj+eC/ki1QAAAAYQZuxSeEPJlMCG//+p4QAEtHzHkYn+W7NAAAAGUGb0knhDyZTAhv//qeEABzzjP9SOjSG08EAAAAcQZv2SeEPJlMCGf/+nhAAsfum+wFr0ujbGkgNwAAAABFBnhRFETwv/wAbARVBqo6gXAAAAA8BnjN0Qr8AJMIA6E5L+sEAAAAQAZ41akK/ABiErYsNYZJe4AAAABlBmjdJqEFomUwIZ//+nhAAc8pxz9GA7NFTAAAAGUGaWEnhClJlMCG//qeEAC5+if6rfMfiR8EAAAAYQZp5SeEOiZTAhv/+p4QAL66tIIRP8twDAAAALkGanUnhDyZTAhn//p4QAbvG3L8QjvF//xCJE0s//4gvydZ//y/9shj6eT/ePI0AAAAQQZ67RRE8L/8AQ2f7vKD80AAAABABntp0Qr8AXTMp4HTKbuGBAAAADwGe3GpCvwBdOVgXX9/lwQAAABlBmt5JqEFomUwIb//+p4QAcb2D17M+CK8vAAAAH0Ga4EnhClJlMFESw3/+p4QAp2K2Yn+rt7qfhDOcLlQAAAAQAZ8fakK/AIbtEJuM+vTcCQAAAB5BmwJJ4Q6JlMFEwz/+nhADxeuXWxw2fiH83Dy6YOAAAAAQAZ8hakK/AM27cJuM+vTXzQAAABhBmyNJ4Q8mUwIZ//6eEAPL6+7tObuLa44AAAAeQZtFSeEPJlMFETwz//6eEAYLxDzrdcRz+KL/totpAAAAEAGfZGpCvwE2eaJkTSs2akEAAAAYQZtmSeEPJlMCGf/+nhAF09qM63QMVsf5AAAAGEGbh0nhDyZTAhn//p4QBaPf38bSs17uBwAAABlBm6hJ4Q8mUwIb//6nhADsA8KdZ0+62u6AAAAAGUGbyUnhDyZTAhv//qeEAPGDwp1nT7ra6YAAAAAZQZvqSeEPJlMCG//+p4QA8vsH+E4LdCRdwQAAABtBmg1J4Q8mUwIb//6nhACffHT3ebnYGQpz4eAAAAASQZ4rRRE8K/8AfwF5zrJ8m3zAAAAADgGeTGpCvwB/K+nA2pCpAAAAEkGaUUmoQWiZTAhv//6nhAABJwAAAAxBnm9FESwv/wAAsoEAAAAQAZ6OdEK/AFMso78AH27hQAAAAA8BnpBqQr8AVlRogtR5ddMAAAAaQZqSSahBbJlMCG///qeEAGd9g/wnBboSb0EAAAAbQZq2SeEKUmUwIb/+p4QARUfc9kYn8ml4CCVwAAAAEEGe1EU0TC//ACoT68GvasoAAAAPAZ7zdEK/ADYJNT1Z34rBAAAAEAGe9WpCvwA4rMHkuZ8lIoAAAAAcQZr4SahBaJlMFPDP/p4QAa9fc1xz+bX199t0EQAAABABnxdqQr8AWuwjyYHr2+OBAAAAHEGbGknhClJlMFLDP/6eEAKLXuuI5/SOvv6XvaAAAAAQAZ85akK/AIq80TImlZt0wQAAABtBmztJ4Q6JlMCGf/6eEAPcU45/DnxAhP7cg4AAAAAXQZtcSeEPJlMCGf/+nhAGdwY5+dfb2ysAAAAXQZt9SeEPJlMCG//+p4QBwQ8KOPYuMccAAAAcQZuASeEPJlMCGf/+nhAWzid8dd3BDj+PRw4z5gAAABJBn75FETwr/wIe655Y1gCrqpIAAAAQAZ/fakK/Ah7NzXHgzZlVQQAAABlBm8FJqEFomUwIZ//+nhAHVuceAvv6IaeEAAAAGEGb4knhClJlMCGf/p4QB65nHgL7+iGnVQAAABlBmgNJ4Q6JlMCG//6nhAIL46fR0KEhSO6AAAAAGUGaJEnhDyZTAhv//qeEAR346fUcaEhwXcEAAAAYQZpHSeEPJlMCGf/+nhAC1+6b6KlZr35fAAAAD0GeZUURPCv/AJbK4EmWwQAAABABnoZqQr8AYPOTvZ4+3aaBAAAAGkGaiEmoQWiZTAhv//6nhAB5QeFOs6fdbemAAAAAG0GaqUnhClJlMCG//qeEAHwB4U60cA/v7FeHgAAAAB5Bms1J4Q6JlMCGf/6eEALmABgvTfY+GJ9Pb+qO58EAAAARQZ7rRRE8L/8AcVOqTRG3j1wAAAAPAZ8KdEK/AGmeTeecWsCAAAAAEAGfDGpCvwCa7RCbjPr02pkAAAAZQZsOSahBaJlMCG///qeEAMK6tHVQ22z7gQAAABtBmy9J4QpSZTAhv/6nhADHurSCEogTv+jWbMEAAAAaQZtTSeEOiZTAhv/+p4QBLFYFm3Nejn5DpmAAAAAQQZ9xRRE8L/8AtdAitKJ/pAAAAA8Bn5B0Qr8AqFo7zzi07oEAAAAQAZ+SakK/APKz5jdDkg4n+AAAAB9Bm5VJqEFomUwU8M/+nhAIEQ502C8RvjQfAUz8DFHwAAAAEAGftGpCvwF1siE3GfXpqLkAAAAYQZu2SeEKUmUwIb/+p4QIrIn+maHHJsEXAAAAGEGb10nhDomUwIb//qeECevv89ML57eEHQAAACFBm/lJ4Q8mUwURPDv//qmWBh9LoHD+1R+e/UC0UxDgh4EAAAAQAZ4YakK/ApE0bzS61k1swAAAABlBmh1J4Q8mUwIb//6nhAKT2D/EXcbFrrehAAAAEEGeO0URPC//ASbP2a1gYeAAAAAQAZ5adEK/AYTOTvwAfbpTQQAAAA8BnlxqQr8BkwWNErnl0ZUAAAAaQZpeSahBaJlMCHf//qmWATfvq+nxh0gBN6AAAAAbQZpiSeEKUmUwIb/+p4QBNfjp91pZmpt0Ws1YAAAAEEGegEU0TC//ALoyxUIJ/dEAAAAQAZ6/dEK/APfxZnlfkpss+AAAAA8BnqFqQr8AqHKB5MEWxYEAAAAZQZqmSahBaJlMCG///qeEATRbS7Xjp9qzVgAAABBBnsRFESwv/wC6UCK0on91AAAADwGe43RCvwCoRhAZJcqLgQAAABABnuVqQr8A+DPmN0OSDifNAAAAJUGa6EmoQWyZTBRMM//+nhApHm7fiEd4v/+IRkqP/8tyef7nEz8AAAAQAZ8HakK/ApFnQAPx/DSygAAAABhBmwlJ4QpSZTAhv/6nhAu2zG8+C2eFg9IAAAAeQZsrSeEOiZTBTRMM//6eECPb+/gb6wHuuI+rLE/xAAAADwGfSmpCvwJ1a6KGkO/jggAAABhBm0xJ4Q8mUwIb//6nhAIp46Y/w+qU8g4AAAAZQZttSeEPJlMCG//+p4QCC+On0dChIUjugQAAAB1Bm49J4Q8mUwURPDf//qeEAR346e7y6f2C4CBU0QAAAA8Bn65qQr8A54KUzbMjWYEAAAAYQZuySeEPJlMCGf/+nhAEF+If2yGPrCGfAAAAEkGf0EURPCv/AVrB13eBTUB7QAAAAA4Bn/FqQr8BWm3XgNrlQwAAABpBm/NJqEFomUwIb//+p4QAsXup+o40JDhLwAAAABlBmhRJ4QpSZTAhv/6nhABxvYP8JwW6EmVAAAAAGEGaN0nhDomUwIZ//p4QAR74h/bIY+sJgQAAAA9BnlVFETwr/wA7YP+ahmAAAAAPAZ52akK/ACbBoHkwRlSBAAAAG0GaeEmoQWiZTAhv//6nhAAw7q0ghKI5f5bf3QAAABxBmplJ4QpSZTAhv/6nhAAyLq0c1/ipzQjT94zuAAAAHkGavUnhDomUwIb//qeEAE/91P2q81g3dDM1NukOoQAAABRBnttFETwv/wAvySXJm2030x+RywAAAA8Bnvp0Qr8AP5GHlDQM1Z8AAAAQAZ78akK/AD+BAJ14An+ZgQAAABlBmv5JqEFomUwIb//+p4QAIaPmPIxP8txxAAAAIUGbAEnhClJlMFESw3/+p4QANe6tUx/qt8x7sZBj/k2LgAAAABABnz9qQr8ALFY8tw2bU9+BAAAAG0GbJEnhDomUwIZ//p4QANP6+/qFvc1x9aYQoAAAABBBn0JFFTwv/wAfxOo3sEtNAAAADwGfYXRCvwBDhAHQnJewwAAAABABn2NqQr8ALE3IYfQEg5NpAAAAGUGbZUmoQWiZTAhn//6eEACLfEPOt0DJEX0AAAAYQZuGSeEKUmUwIb/+p4QAIt8dMf4fVtxnAAAAGUGbp0nhDomUwIb//qeEACHfRz7mRQkOYsEAAAAfQZvJSeEPJlMFETw3//6nhAAWP3U/daWZqbc+82sJeAAAABABn+hqQr8AEdlkMPoCQdHoAAAAE0Gb60nhDyZTBTw7//6plgAAlYEAAAAPAZ4KakK/AAv1iB5MEg2AAAAAG0GaD0nhDyZTAhv//qeEAA6Pvs+60szU26Le2AAAABBBni1FETwv/wAIrn7nCzGJAAAADwGeTHRCvwAL8kohTBINgQAAABABnk5qQr8ADEM3NceKtsVhAAAAGkGaUEmoQWiZTAh3//6plgAE5+PP37INxV0wAAAAH0Gac0nhClJlMCHf/qmWAAMt7S8LUE/km8B/fex9argAAAATQZ6RRTRMK/8ABR2wBAKX/JMXgQAAABABnrJqQr8ABPrIhNxn17DIAAAAEkGat0moQWiZTAhv//6nhAABJwAAAAxBntVFESwv/wAAsoEAAAAQAZ70dEK/AAUe0d5gljae0AAAABABnvZqQr8ABR1GiZdB09epAAAAGkGa+kmoQWyZTAhv//6nhAAJagCzbbPs+etBAAAAD0GfGEUVLCv/AAeYH/N+4AAAAA4BnzlqQr8AB4VDey5ddwAAAB1BmzxJqEFsmUwUTDf//qeEAA4gPE1xqiX6J/kayAAAABABn1tqQr8AC/Q0u4fbNqDxAAAAHEGbQEnhClJlMCG//qeEAA43sH82l3MrNU1ueOMAAAAVQZ9+RTRML/8ADOJJfmbcTOteB3bXAAAAEAGfnXRCvwAR4QBztjjTbCAAAAAQAZ+fakK/ABFZXIq8AUCDgQAAABpBm4FJqEFomUwIb//+p4QACPfHT6jjQkPdwAAAACFBm6NJ4QpSZTBREsN//qeEAAXX3U++WgcP6F2tmKEgO4EAAAAQAZ/CakK/AAS2T5zrQww2QAAAABpBm8dJ4Q6JlMCG//6nhAAF0BQd2+ysCE/YvwAAABBBn+VFFTwv/wADdKu7/O05AAAADwGeBHRCvwAC/JKIUwUFgQAAAA8BngZqQr8ABLdiPJgevr8AAAASQZoJSahBaJlMFPDP/p4QAAR8AAAADwGeKGpCvwAEuDQPJgmJgAAAABhBmipJ4QpSZTAhn/6eEAAWz3TYy5NlYB0AAAAZQZpLSeEOiZTAhv/+p4QACKoAs22z7PnxwAAAABhBmmxJ4Q8mUwIb//6nhAAIt9HNBWsym/cAAAAzQZqQSeEPJlMCG//+p4QAFIyI1/EIAf/wlRBZi//wkxH4v/9f/LDlEVsuhifvup462VuxAAAAFUGerkURPC//AAxCrUmcn7tYDLeovwAAABABns10Qr8ACoZokT4sxS1xAAAADwGez2pCvwAQXZ5bhs2qqwAAABlBmtJJqEFomUwU8M/+nhAAT/4nfiielLmYAAAADwGe8WpCvwAQWVulGkPG1wAAABxBmvRJ4QpSZTBSwz/+nhAAMn7+/psoXLrZq4PgAAAAEAGfE2pCvwAKg1851oYX7kAAAAAYQZsVSeEOiZTAhn/+nhAAHy9fd2nN3F67AAAAGEGbNknhDyZTAhn//p4QAB5/X3dpzdxezgAAABhBm1dJ4Q8mUwIb//6nhAAHn9g9ezPgi/cAAAAdQZt5SeEPJlMFETwz//6eEAAdH19/Qro2TFsFZlEAAAAQAZ+YakK/AAYgltOvAFCagAAAABhBm5pJ4Q8mUwIb//6nhAADJ+wevZnwRssAAAAZQZu7SeEPJlMCG//+p4QABLUAWbbZ9n0bQAAAABlBm9xJ4Q8mUwId//6plgADpJkJNw4KPoBxAAAAHkGb4EnhDyZTAhv//qeEAAueK1TH+rdvsH4YKzidgQAAABFBnh5FETwv/wAG6Vd3+FiNWAAAAA8Bnj10Qr8ABfklEKYJXYAAAAAPAZ4/akK/AAluxHkwPXxvAAAAHEGaIkmoQWiZTBTw3/6nhAARUfNU1m3NeOn2uqgAAAAQAZ5BakK/AA5/OGveaVn1wQAAABFBmkZJ4QpSZTAhn/6eEAAEfAAAABNBnmRFNEwv/wAQWPnTOK6nsTdFAAAAEAGeg3RCvwAWvLVA6dqHVYEAAAAPAZ6FakK/ABa226UaQ8Y1AAAAGkGaiUuoQhBaJEYIKAfyAf2HgCFf/jhAABFxAAAAJ0Gep0URLCv/Aq9j7UHE3arDSSblqoYHLLW7zSvk2Fk5aRDL+pnQYAAAACMBnshqQr8Cr2PtQcTdqsNJJuWqhgcstbvNK+ZRAjrA2H0xgAAACzhtb292AAAAbG12aGQAAAAAAAAAAAAAAAAAAAPoAAAfkAABAAABAAAAAAAAAAAAAAAAAQAAAAAAAAAAAAAAAAAAAAEAAAAAAAAAAAAAAAAAAEAAAAAAAAAAAAAAAAAAAAAAAAAAAAAAAAAAAAAAAAACAAAKYnRyYWsAAABcdGtoZAAAAAMAAAAAAAAAAAAAAAEAAAAAAAAfkAAAAAAAAAAAAAAAAAAAAAAAAQAAAAAAAAAAAAAAAAAAAAEAAAAAAAAAAAAAAAAAAEAAAAABEAAAARAAAAAAACRlZHRzAAAAHGVsc3QAAAAAAAAAAQAAH5AAAAQAAAEAAAAACdptZGlhAAAAIG1kaGQAAAAAAAAAAAAAAAAAADIAAAGUAFXEAAAAAAAtaGRscgAAAAAAAAAAdmlkZQAAAAAAAAAAAAAAAFZpZGVvSGFuZGxlcgAAAAmFbWluZgAAABR2bWhkAAAAAQAAAAAAAAAAAAAAJGRpbmYAAAAcZHJlZgAAAAAAAAABAAAADHVybCAAAAABAAAJRXN0YmwAAACVc3RzZAAAAAAAAAABAAAAhWF2YzEAAAAAAAAAAQAAAAAAAAAAAAAAAAAAAAABEAEQAEgAAABIAAAAAAAAAAEAAAAAAAAAAAAAAAAAAAAAAAAAAAAAAAAAAAAAAAAAAAAY//8AAAAvYXZjQwH0AA3/4QAXZ/QADZGbKCIR0IAAAAMAgAAAGQeKFMsBAAVo6+PESAAAABhzdHRzAAAAAAAAAAEAAADKAAACAAAAABRzdHNzAAAAAAAAAAEAAAABAAAFEGN0dHMAAAAAAAAAoAAAAAEAAAQAAAAAAQAABgAAAAABAAACAAAAAAEAAAoAAAAAAQAABAAAAAABAAAAAAAAAAEAAAIAAAAAAQAACAAAAAACAAACAAAAAAkAAAQAAAAAAQAACgAAAAABAAAEAAAAAAEAAAAAAAAAAQAAAgAAAAADAAAEAAAAAAEAAAoAAAAAAQAABAAAAAABAAAAAAAAAAEAAAIAAAAAAQAABAAAAAABAAAGAAAAAAEAAAIAAAAAAQAABgAAAAABAAACAAAAAAEAAAQAAAAAAQAABgAAAAABAAACAAAAAAUAAAQAAAAAAQAACAAAAAACAAACAAAAAAEAAAoAAAAAAQAABAAAAAABAAAAAAAAAAEAAAIAAAAAAQAABAAAAAABAAAKAAAAAAEAAAQAAAAAAQAAAAAAAAABAAACAAAAAAEAAAYAAAAAAQAAAgAAAAABAAAGAAAAAAEAAAIAAAAAAwAABAAAAAABAAAIAAAAAAIAAAIAAAAABAAABAAAAAABAAAIAAAAAAIAAAIAAAAAAgAABAAAAAABAAAKAAAAAAEAAAQAAAAAAQAAAAAAAAABAAACAAAAAAIAAAQAAAAAAQAACgAAAAABAAAEAAAAAAEAAAAAAAAAAQAAAgAAAAABAAAGAAAAAAEAAAIAAAAAAgAABAAAAAABAAAGAAAAAAEAAAIAAAAAAQAACgAAAAABAAAEAAAAAAEAAAAAAAAAAQAAAgAAAAABAAAEAAAAAAEAAAoAAAAAAQAABAAAAAABAAAAAAAAAAEAAAIAAAAAAQAACgAAAAABAAAEAAAAAAEAAAAAAAAAAQAAAgAAAAABAAAGAAAAAAEAAAIAAAAAAQAABAAAAAABAAAGAAAAAAEAAAIAAAAAAgAABAAAAAABAAAGAAAAAAEAAAIAAAAAAQAACAAAAAACAAACAAAAAAIAAAQAAAAAAQAACAAAAAACAAACAAAAAAIAAAQAAAAAAQAACgAAAAABAAAEAAAAAAEAAAAAAAAAAQAAAgAAAAABAAAEAAAAAAEAAAYAAAAAAQAAAgAAAAABAAAKAAAAAAEAAAQAAAAAAQAAAAAAAAABAAACAAAAAAMAAAQAAAAAAQAABgAAAAABAAACAAAAAAEAAAYAAAAAAQAAAgAAAAABAAAKAAAAAAEAAAQAAAAAAQAAAAAAAAABAAACAAAAAAEAAAQAAAAAAQAACAAAAAACAAACAAAAAAEAAAoAAAAAAQAABAAAAAABAAAAAAAAAAEAAAIAAAAAAQAACAAAAAACAAACAAAAAAEAAAYAAAAAAQAAAgAAAAABAAAKAAAAAAEAAAQAAAAAAQAAAAAAAAABAAACAAAAAAEAAAQAAAAAAQAABgAAAAABAAACAAAAAAEAAAoAAAAAAQAABAAAAAABAAAAAAAAAAEAAAIAAAAAAQAABgAAAAABAAACAAAAAAMAAAQAAAAAAQAACgAAAAABAAAEAAAAAAEAAAAAAAAAAQAAAgAAAAABAAAGAAAAAAEAAAIAAAAAAQAABgAAAAABAAACAAAAAAMAAAQAAAAAAQAABgAAAAABAAACAAAAAAMAAAQAAAAAAQAACgAAAAABAAAEAAAAAAEAAAAAAAAAAQAAAgAAAAABAAAGAAAAAAEAAAIAAAAAAQAACgAAAAABAAAEAAAAAAEAAAAAAAAAAQAAAgAAAAABAAAIAAAAAAIAAAIAAAAAHHN0c2MAAAAAAAAAAQAAAAEAAADKAAAAAQAAAzxzdHN6AAAAAAAAAAAAAADKAAAF0QAAAB8AAAAUAAAAHwAAABMAAAAWAAAAFAAAAB0AAAAWAAAAEgAAABwAAAAdAAAAHAAAABwAAAAcAAAAHAAAABwAAAAcAAAAHQAAACAAAAAVAAAAEwAAABQAAAAdAAAAHQAAABwAAAAyAAAAFAAAABQAAAATAAAAHQAAACMAAAAUAAAAIgAAABQAAAAcAAAAIgAAABQAAAAcAAAAHAAAAB0AAAAdAAAAHQAAAB8AAAAWAAAAEgAAABYAAAAQAAAAFAAAABMAAAAeAAAAHwAAABQAAAATAAAAFAAAACAAAAAUAAAAIAAAABQAAAAfAAAAGwAAABsAAAAgAAAAFgAAABQAAAAdAAAAHAAAAB0AAAAdAAAAHAAAABMAAAAUAAAAHgAAAB8AAAAiAAAAFQAAABMAAAAUAAAAHQAAAB8AAAAeAAAAFAAAABMAAAAUAAAAIwAAABQAAAAcAAAAHAAAACUAAAAUAAAAHQAAABQAAAAUAAAAEwAAAB4AAAAfAAAAFAAAABQAAAATAAAAHQAAABQAAAATAAAAFAAAACkAAAAUAAAAHAAAACIAAAATAAAAHAAAAB0AAAAhAAAAEwAAABwAAAAWAAAAEgAAAB4AAAAdAAAAHAAAABMAAAATAAAAHwAAACAAAAAiAAAAGAAAABMAAAAUAAAAHQAAACUAAAAUAAAAHwAAABQAAAATAAAAFAAAAB0AAAAcAAAAHQAAACMAAAAUAAAAFwAAABMAAAAfAAAAFAAAABMAAAAUAAAAHgAAACMAAAAXAAAAFAAAABYAAAAQAAAAFAAAABQAAAAeAAAAEwAAABIAAAAhAAAAFAAAACAAAAAZAAAAFAAAABQAAAAeAAAAJQAAABQAAAAeAAAAFAAAABMAAAATAAAAFgAAABMAAAAcAAAAHQAAABwAAAA3AAAAGQAAABQAAAATAAAAHQAAABMAAAAgAAAAFAAAABwAAAAcAAAAHAAAACEAAAAUAAAAHAAAAB0AAAAdAAAAIgAAABUAAAATAAAAEwAAACAAAAAUAAAAFQAAABcAAAAUAAAAEwAAAB4AAAArAAAAJwAAABRzdGNvAAAAAAAAAAEAAAAwAAAAYnVkdGEAAABabWV0YQAAAAAAAAAhaGRscgAAAAAAAAAAbWRpcmFwcGwAAAAAAAAAAAAAAAAtaWxzdAAAACWpdG9vAAAAHWRhdGEAAAABAAAAAExhdmY1OC4yMC4xMDA=\" type=\"video/mp4\" />\n",
       "             </video>"
      ],
      "text/plain": [
       "<IPython.core.display.HTML object>"
      ]
     },
     "execution_count": 23,
     "metadata": {},
     "output_type": "execute_result"
    }
   ],
   "source": [
    "# Training\n",
    "env = EnvironmentExploring(grid_size=size, max_time=T, temperature=0.4)\n",
    "agent = DQN_CNN(size, lr=.005, epsilon = 0.1, memory_size=2000, batch_size = 64,n_state=3) \n",
    "train_explore(agent, env, epochs_train, prefix='cnn_train_explore')\n",
    "HTML(display_videos('cnn_train_explore10.mp4'))"
   ]
  },
  {
   "cell_type": "code",
   "execution_count": 24,
   "metadata": {},
   "outputs": [
    {
     "name": "stdout",
     "output_type": "stream",
     "text": [
      "Win/lose count 28.5/9.0. Average score (19.5)\n",
      "Win/lose count 30.0/4.0. Average score (22.75)\n",
      "Win/lose count 28.0/6.0. Average score (22.5)\n",
      "Win/lose count 31.5/7.0. Average score (23.0)\n",
      "Win/lose count 31.5/6.0. Average score (23.5)\n",
      "Win/lose count 27.0/8.0. Average score (22.75)\n",
      "Win/lose count 23.5/6.0. Average score (22.0)\n",
      "Win/lose count 25.0/4.0. Average score (21.875)\n",
      "Win/lose count 36.0/3.0. Average score (23.11111111111111)\n",
      "Win/lose count 28.5/2.0. Average score (23.45)\n",
      "Win/lose count 26.5/3.0. Average score (23.454545454545453)\n",
      "Win/lose count 26.5/3.0. Average score (23.458333333333332)\n",
      "Win/lose count 31.0/2.0. Average score (23.884615384615383)\n",
      "Win/lose count 29.0/2.0. Average score (24.107142857142858)\n",
      "Win/lose count 18.0/0. Average score (23.7)\n",
      "Win/lose count 36.5/4.0. Average score (24.25)\n",
      "Win/lose count 28.0/4.0. Average score (24.235294117647058)\n",
      "Win/lose count 21.0/4.0. Average score (23.833333333333332)\n",
      "Win/lose count 32.5/4.0. Average score (24.07894736842105)\n",
      "Win/lose count 27.0/4.0. Average score (24.025)\n",
      "Final score: 24.025\n"
     ]
    },
    {
     "data": {
      "text/html": [
       "<video alt=\"test\" controls>\n",
       "                <source src=\"data:video/mp4;base64,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\" type=\"video/mp4\" />\n",
       "             </video>"
      ],
      "text/plain": [
       "<IPython.core.display.HTML object>"
      ]
     },
     "execution_count": 24,
     "metadata": {},
     "output_type": "execute_result"
    }
   ],
   "source": [
    "# Evaluation\n",
    "test(agent,env,epochs_test,prefix='cnn_test_explore')\n",
    "HTML(display_videos('cnn_test_explore10.mp4'))"
   ]
  },
  {
   "cell_type": "markdown",
   "metadata": {},
   "source": [
    "***\n",
    "***\n",
    "__BONUS question__ Use the expert DQN from the previous question to generate some winning games. Train a model that mimicks its behavior. Compare the performances."
   ]
  },
  {
   "cell_type": "markdown",
   "metadata": {},
   "source": []
  },
  {
   "cell_type": "markdown",
   "metadata": {},
   "source": [
    "***"
   ]
  }
 ],
 "metadata": {
  "kernelspec": {
   "display_name": "Python 3",
   "language": "python",
   "name": "python3"
  },
  "language_info": {
   "codemirror_mode": {
    "name": "ipython",
    "version": 3
   },
   "file_extension": ".py",
   "mimetype": "text/x-python",
   "name": "python",
   "nbconvert_exporter": "python",
   "pygments_lexer": "ipython3",
   "version": "3.6.7"
  }
 },
 "nbformat": 4,
 "nbformat_minor": 2
}
